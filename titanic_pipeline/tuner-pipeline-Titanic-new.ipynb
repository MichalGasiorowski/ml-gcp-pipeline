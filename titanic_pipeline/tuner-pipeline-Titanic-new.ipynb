{
 "cells": [
  {
   "cell_type": "code",
   "execution_count": 1,
   "metadata": {},
   "outputs": [],
   "source": [
    "try:\n",
    "  import colab\n",
    "  !pip install --upgrade pip\n",
    "except:\n",
    "  pass"
   ]
  },
  {
   "cell_type": "code",
   "execution_count": 2,
   "metadata": {},
   "outputs": [],
   "source": [
    "!pip install -q kaggle\n",
    "!mkdir -p ~/.kaggle\n",
    "!cp kaggle.json ~/.kaggle/\n",
    "!chmod 600 ~/.kaggle/kaggle.json"
   ]
  },
  {
   "cell_type": "markdown",
   "metadata": {},
   "source": [
    "**Note: In Google Colab, because of package updates, the first time you run this cell you must restart the runtime (Runtime > Restart runtime ...).**"
   ]
  },
  {
   "cell_type": "code",
   "execution_count": null,
   "metadata": {},
   "outputs": [],
   "source": [
    "!pip install -q -U -v --log /tmp/pip.log --use-feature=2020-resolver tfx==0.25.0\n",
    "\n",
    "#!pip install -q papermill\n",
    "#!pip install -q matplotlib\n",
    "#!pip install -q networkx"
   ]
  },
  {
   "cell_type": "code",
   "execution_count": 3,
   "metadata": {},
   "outputs": [
    {
     "name": "stderr",
     "output_type": "stream",
     "text": [
      "WARNING:absl:RuntimeParameter is only supported on Cloud-based DAG runner currently.\n"
     ]
    }
   ],
   "source": [
    "import sys\n",
    "import os\n",
    "import pprint\n",
    "import tempfile\n",
    "import urllib\n",
    "from typing import List, Text\n",
    "\n",
    "import absl\n",
    "import numpy as np\n",
    "import tensorflow as tf\n",
    "import tensorflow_transform as tft\n",
    "import tensorflow_model_analysis as tfma\n",
    "import tensorflow_data_validation as tfdv\n",
    "tf.get_logger().propagate = False\n",
    "pp = pprint.PrettyPrinter()\n",
    "\n",
    "import tfx\n",
    "from tfx.components import CsvExampleGen\n",
    "from tfx.components import Evaluator\n",
    "from tfx.components import ExampleValidator\n",
    "from tfx.components import Pusher\n",
    "from tfx.components import ResolverNode\n",
    "from tfx.components import SchemaGen\n",
    "from tfx.components import StatisticsGen\n",
    "from tfx.components import Trainer\n",
    "from tfx.components import Transform\n",
    "from tfx.components import Tuner\n",
    "from tfx.components.trainer.executor import GenericExecutor\n",
    "from tfx.dsl.components.base import executor_spec\n",
    "from tfx.dsl.experimental import latest_blessed_model_resolver\n",
    "from tfx.orchestration import metadata\n",
    "from tfx.orchestration import pipeline\n",
    "from tfx.orchestration.local.local_dag_runner import LocalDagRunner\n",
    "#from tfx.orchestration.experimental.interactive.interactive_context import InteractiveContext\n",
    "\n",
    "from tfx.proto import example_gen_pb2\n",
    "from tfx.proto import pusher_pb2\n",
    "from tfx.proto import trainer_pb2\n",
    "from tfx.proto.evaluator_pb2 import SingleSlicingSpec\n",
    "from tfx.utils.dsl_utils import external_input\n",
    "from tfx.types import Channel\n",
    "from tfx.types.standard_artifacts import Model\n",
    "from tfx.types.standard_artifacts import ModelBlessing\n",
    "\n",
    "import ml_metadata as mlmd\n",
    "from ml_metadata.proto import metadata_store_pb2\n",
    "\n",
    "%load_ext tfx.orchestration.experimental.interactive.notebook_extensions.skip\n"
   ]
  },
  {
   "cell_type": "markdown",
   "metadata": {},
   "source": [
    "### Pipeline paths setup"
   ]
  },
  {
   "cell_type": "code",
   "execution_count": 4,
   "metadata": {},
   "outputs": [],
   "source": [
    "_pipeline_name = 'titanic_local'\n",
    "\n",
    "# This example assumes that penguin data is stored in ~/penguin/data and the\n",
    "# utility function is in ~/penguin. Feel free to customize as needed.\n",
    "_titanic_root = os.path.join(os.environ['HOME'], 'titanic')\n",
    "_data_root = os.path.join(_titanic_root, 'data')\n",
    "# Python module file to inject customized logic into the TFX components. The\n",
    "# Transform, Trainer and Tuner all require user-defined functions to run\n",
    "# successfully.\n",
    "_module_file = os.path.join(_titanic_root, 'titanic_utils.py')\n",
    "# Path which can be listened to by the model server.  Pusher will output the\n",
    "# trained model here.\n",
    "_serving_model_dir = os.path.join(_titanic_root, 'serving_model',\n",
    "                                  _pipeline_name)\n",
    "\n",
    "# Directory and data locations.  This example assumes all of the\n",
    "# example code and metadata library is relative to $HOME, but you can store\n",
    "# these files anywhere on your local filesystem.\n",
    "_tfx_root = os.path.join(os.environ['HOME'], 'tfx')\n",
    "_pipeline_root = os.path.join(_tfx_root, 'pipelines', _pipeline_name)\n",
    "# Sqlite ML-metadata db path.\n",
    "_metadata_path = os.path.join(_tfx_root, 'metadata', _pipeline_name,\n",
    "                              'metadata.db')\n",
    "\n",
    "# Pipeline arguments for Beam powered Components.\n",
    "_beam_pipeline_args = [\n",
    "    '--direct_running_mode=multi_processing',\n",
    "    # 0 means auto-detect based on on the number of CPUs available\n",
    "    # during execution time.\n",
    "    '--direct_num_workers=0',\n",
    "]\n",
    "\n",
    "# Set up logging.\n",
    "absl.logging.set_verbosity(absl.logging.INFO)\n"
   ]
  },
  {
   "cell_type": "markdown",
   "metadata": {},
   "source": [
    "## Load the Files\n",
    "We will download Titanic dataset.\n"
   ]
  },
  {
   "cell_type": "code",
   "execution_count": 5,
   "metadata": {},
   "outputs": [
    {
     "name": "stdout",
     "output_type": "stream",
     "text": [
      "Downloading titanic.zip to /home/jupyter/titanic/data\n",
      "  0%|                                               | 0.00/34.1k [00:00<?, ?B/s]\n",
      "100%|██████████████████████████████████████| 34.1k/34.1k [00:00<00:00, 24.2MB/s]\n",
      "Archive:  /home/jupyter/titanic/data/titanic.zip\n",
      "  inflating: /home/jupyter/titanic/data/gender_submission.csv  \n",
      "  inflating: /home/jupyter/titanic/data/test.csv  \n",
      "  inflating: /home/jupyter/titanic/data/train.csv  \n"
     ]
    }
   ],
   "source": [
    "import pathlib\n",
    "\n",
    "#_data_root = tempfile.mkdtemp(prefix='tfx-data')\n",
    "_train_dirpath = os.path.join(_data_root, \"train\")\n",
    "_train_filepath = os.path.join(_train_dirpath, \"train.csv\")\n",
    "_test_dirpath = os.path.join(_data_root, \"test\")\n",
    "_test_filepath = os.path.join(_test_dirpath, \"test.csv\")\n",
    "os.makedirs(_train_dirpath, exist_ok=True)\n",
    "os.makedirs(_test_dirpath,  exist_ok=True)\n",
    "\n",
    "!kaggle competitions download -c titanic -p {_data_root} --force\n",
    "!unzip -o {_data_root}/\"titanic.zip\" -d {_data_root}\n",
    "!cp {_data_root}/\"train.csv\" {_train_filepath}\n",
    "!cp {_data_root}/\"test.csv\" {_test_filepath}"
   ]
  },
  {
   "cell_type": "code",
   "execution_count": 6,
   "metadata": {},
   "outputs": [
    {
     "name": "stdout",
     "output_type": "stream",
     "text": [
      "/home/jupyter/titanic/data/train/train.csv\n"
     ]
    }
   ],
   "source": [
    "!ls {_train_filepath}"
   ]
  },
  {
   "cell_type": "markdown",
   "metadata": {},
   "source": [
    "### Create pipeline"
   ]
  },
  {
   "cell_type": "code",
   "execution_count": 23,
   "metadata": {},
   "outputs": [],
   "source": [
    "_VOCAB_FEATURE_KEYS = [\n",
    "   'Embarked', 'Pclass', 'Sex'\n",
    "]\n",
    "\n",
    "# Keys\n",
    "_LABEL_KEY = 'Survived'\n",
    "_FARE_KEY = 'Fare'\n",
    "_CABIN_KEY = 'Cabin'\n",
    "_PARCH_KEY = 'Parch'\n",
    "_SIBSP_KEY = 'SibSp'\n",
    "\n",
    "_ALL_DATA_SIZE = 891\n",
    "train_ratio_percent=0.8\n",
    "_TRAIN_DATA_SIZE = int(_ALL_DATA_SIZE * train_ratio_percent)\n",
    "_EVAL_DATA_SIZE = _ALL_DATA_SIZE - _TRAIN_DATA_SIZE\n",
    "_TRAIN_BATCH_SIZE = 64\n",
    "_EVAL_BATCH_SIZE = 64\n",
    "\n",
    "def _create_pipeline(pipeline_name: Text, pipeline_root: Text, data_root: Text,\n",
    "                     module_file: Text, serving_model_dir: Text,\n",
    "                     metadata_path: Text, enable_tuning: bool,\n",
    "                     beam_pipeline_args: List[Text],\n",
    "                     train_ratio_percent: float=0.8) -> pipeline.Pipeline:\n",
    "  \"\"\"Implements the titanic pipeline with TFX.\"\"\"\n",
    "  \n",
    "  train_ratio = int(train_ratio_percent*100)\n",
    "  eval_ratio  = 100-train_ratio\n",
    "\n",
    "  output = example_gen_pb2.Output(\n",
    "             split_config=example_gen_pb2.SplitConfig(splits=[\n",
    "                 example_gen_pb2.SplitConfig.Split(name='train', hash_buckets=train_ratio),\n",
    "                 example_gen_pb2.SplitConfig.Split(name='eval', hash_buckets=eval_ratio)\n",
    "             ]))\n",
    "  examples = external_input(data_root)\n",
    "  # Brings data into the pipeline or otherwise joins/converts training data.\n",
    "  example_gen = CsvExampleGen(input=examples, output_config=output)\n",
    "\n",
    "  # Computes statistics over data for visualization and example validation.\n",
    "  statistics_gen = StatisticsGen(examples=example_gen.outputs['examples'])\n",
    "\n",
    "  # Generates schema based on statistics files.\n",
    "  schema_gen = SchemaGen(\n",
    "      statistics=statistics_gen.outputs['statistics'], infer_feature_shape=False)\n",
    "  \n",
    "  # Performs anomaly detection based on statistics and data schema.\n",
    "  example_validator = ExampleValidator(\n",
    "      statistics=statistics_gen.outputs['statistics'],\n",
    "      schema=schema_gen.outputs['schema'])\n",
    "\n",
    "  # Performs transformations and feature engineering in training and serving.\n",
    "  transform = Transform(\n",
    "      examples=example_gen.outputs['examples'],\n",
    "      schema=schema_gen.outputs['schema'],\n",
    "      module_file=module_file)\n",
    "  \n",
    "  # Tunes the hyperparameters for model training based on user-provided Python\n",
    "  # function. Note that once the hyperparameters are tuned, you can drop the\n",
    "  # Tuner component from pipeline and feed Trainer with tuned hyperparameters.\n",
    "  #if enable_tuning:\n",
    "    #tuner = Tuner(\n",
    "    #    module_file=module_file,\n",
    "    #    examples=transform.outputs['transformed_examples'],\n",
    "    #    transform_graph=transform.outputs['transform_graph'],\n",
    "    #   schema=schema_gen.outputs['schema'],\n",
    "    #    train_args=trainer_pb2.TrainArgs(num_steps=10000),\n",
    "    #    eval_args=trainer_pb2.EvalArgs(num_steps=2000))\n",
    "\n",
    "\n",
    "\n",
    "  if enable_tuning:\n",
    "    # Hyperparameter tuning based on the tuner_fn in module_file.\n",
    "    tuner = Tuner(\n",
    "        module_file=module_file,\n",
    "        examples=transform.outputs['transformed_examples'],\n",
    "        transform_graph=transform.outputs['transform_graph'],\n",
    "        schema=schema_gen.outputs['schema'],\n",
    "        train_args=trainer_pb2.TrainArgs(num_steps=500),\n",
    "        eval_args=trainer_pb2.EvalArgs(num_steps=100))\n",
    "        \n",
    "  \n",
    "  # Uses user-provided Python function that trains a model.\n",
    "  trainer = Trainer(\n",
    "      module_file=module_file,\n",
    "      custom_executor_spec=executor_spec.ExecutorClassSpec(GenericExecutor),\n",
    "      examples=transform.outputs['transformed_examples'],\n",
    "      schema=schema_gen.outputs['schema'],\n",
    "      transform_graph=transform.outputs['transform_graph'],\n",
    "      # If Tuner is in the pipeline, Trainer can take Tuner's output\n",
    "      # best_hyperparameters artifact as input and utilize it in the user module\n",
    "      # code.\n",
    "      #\n",
    "      # If there isn't Tuner in the pipeline, either use ImporterNode to import\n",
    "      # a previous Tuner's output to feed to Trainer, or directly use the tuned\n",
    "      # hyperparameters in user module code and set hyperparameters to None\n",
    "      # here.\n",
    "      #\n",
    "      # Example of ImporterNode,\n",
    "      #   hparams_importer = ImporterNode(\n",
    "      #     instance_name='import_hparams',\n",
    "      #     source_uri='path/to/best_hyperparameters.txt',\n",
    "      #     artifact_type=HyperParameters)\n",
    "      #   ...\n",
    "      #   hyperparameters = hparams_importer.outputs['result'],\n",
    "      hyperparameters=(tuner.outputs['best_hyperparameters']\n",
    "                       if enable_tuning else None),\n",
    "      train_args=trainer_pb2.TrainArgs(num_steps=3000),\n",
    "      eval_args=trainer_pb2.EvalArgs(num_steps=500))\n",
    "\n",
    "  # Get the latest blessed model for model validation.\n",
    "  model_resolver = ResolverNode(\n",
    "      instance_name='latest_blessed_model_resolver',\n",
    "      resolver_class=latest_blessed_model_resolver.LatestBlessedModelResolver,\n",
    "      model=Channel(type=Model),\n",
    "      model_blessing=Channel(type=ModelBlessing))\n",
    "  \n",
    "\n",
    "  #tfma.ModelSpec(\n",
    "  #          signature_name='serving_default',\n",
    "  #          label_key='income_bracket',\n",
    "  #          example_weight_key='fnlwgt')]\n",
    "\n",
    "  # Uses TFMA to compute a evaluation statistics over features of a model and\n",
    "  # perform quality validation of a candidate model (compared to a baseline).\n",
    "  \n",
    "  eval_config = tfma.EvalConfig(\n",
    "    model_specs=[\n",
    "        # Using signature 'eval' implies the use of an EvalSavedModel. To use\n",
    "        # a serving model remove the signature to defaults to 'serving_default'\n",
    "        # and add a label_key.\n",
    "        #tfma.ModelSpec(signature_name='eval')\n",
    "        tfma.ModelSpec(signature_name='serving_default',\n",
    "                       label_key=_LABEL_KEY)\n",
    "    ],\n",
    "    metrics_specs=[\n",
    "        tfma.MetricsSpec(\n",
    "            # The metrics added here are in addition to those saved with the\n",
    "            # model (assuming either a keras model or EvalSavedModel is used).\n",
    "            # Any metrics added into the saved model (for example using\n",
    "            # model.compile(..., metrics=[...]), etc) will be computed\n",
    "            # automatically.\n",
    "            metrics=[\n",
    "                tfma.MetricConfig(class_name='ExampleCount')\n",
    "            ],\n",
    "            # To add validation thresholds for metrics saved with the model,\n",
    "            # add them keyed by metric name to the thresholds map.\n",
    "            thresholds = {\n",
    "                'accuracy': tfma.MetricThreshold(\n",
    "                    value_threshold=tfma.GenericValueThreshold(\n",
    "                        lower_bound={'value': 0.5}),\n",
    "                    change_threshold=tfma.GenericChangeThreshold(\n",
    "                       direction=tfma.MetricDirection.HIGHER_IS_BETTER,\n",
    "                       absolute={'value': -1e-10}))\n",
    "            }\n",
    "        )\n",
    "    ],\n",
    "    slicing_specs=[\n",
    "        # An empty slice spec means the overall slice, i.e. the whole dataset.\n",
    "        tfma.SlicingSpec(),\n",
    "        # Data can be sliced along a feature column. In this case, data is\n",
    "        # sliced along feature column Sex.\n",
    "        tfma.SlicingSpec(feature_keys=['Sex']),\n",
    "        tfma.SlicingSpec(feature_keys=['Age']),\n",
    "        tfma.SlicingSpec(feature_keys=['Age_xf']),\n",
    "        tfma.SlicingSpec(feature_keys=['Fare']),\n",
    "        tfma.SlicingSpec(feature_keys=['Parch']),\n",
    "        tfma.SlicingSpec(feature_keys=['Parch_xf']),\n",
    "        tfma.SlicingSpec(feature_keys=['SibSp']),\n",
    "        tfma.SlicingSpec(feature_keys=['SibSp_xf']),\n",
    "        \n",
    "    ])\n",
    "  \n",
    "  evaluator = Evaluator(\n",
    "      examples=example_gen.outputs['examples'],\n",
    "      model=trainer.outputs['model'],\n",
    "      baseline_model=model_resolver.outputs['model'],\n",
    "      # Change threshold will be ignored if there is no baseline (first run).\n",
    "      eval_config=eval_config)\n",
    "  \n",
    "\n",
    "  # Checks whether the model passed the validation steps and pushes the model\n",
    "  # to a file destination if check passed.\n",
    "  pusher = Pusher(\n",
    "      model=trainer.outputs['model'],\n",
    "      model_blessing=evaluator.outputs['blessing'],\n",
    "      push_destination=pusher_pb2.PushDestination(\n",
    "          filesystem=pusher_pb2.PushDestination.Filesystem(\n",
    "              base_directory=serving_model_dir)))\n",
    "\n",
    "  components = [\n",
    "      example_gen,\n",
    "      statistics_gen,\n",
    "      schema_gen,\n",
    "      example_validator,\n",
    "      transform,\n",
    "      trainer,\n",
    "      model_resolver,\n",
    "      evaluator,\n",
    "      pusher,\n",
    "  ]\n",
    "  if enable_tuning:\n",
    "    components.append(tuner)\n",
    "\n",
    "  return pipeline.Pipeline(\n",
    "      pipeline_name=pipeline_name,\n",
    "      pipeline_root=pipeline_root,\n",
    "      components=components,\n",
    "      enable_cache=True,\n",
    "      metadata_connection_config=metadata.sqlite_metadata_connection_config(\n",
    "          metadata_path),\n",
    "      beam_pipeline_args=beam_pipeline_args)\n",
    "\n",
    "def run_pipeline(enable_tuning=False):\n",
    "  absl.logging.set_verbosity(absl.logging.INFO)\n",
    "  created_pipeline = _create_pipeline(\n",
    "          pipeline_name=_pipeline_name,\n",
    "          pipeline_root=_pipeline_root,\n",
    "          data_root=_train_dirpath,\n",
    "          module_file=_module_file,\n",
    "          serving_model_dir=_serving_model_dir,\n",
    "          metadata_path=_metadata_path,\n",
    "          enable_tuning=enable_tuning,\n",
    "          beam_pipeline_args=_beam_pipeline_args,\n",
    "          train_ratio_percent=0.8)\n",
    "  LocalDagRunner().run(created_pipeline)\n",
    "  \n"
   ]
  },
  {
   "cell_type": "markdown",
   "metadata": {},
   "source": [
    "### Example feature code "
   ]
  },
  {
   "cell_type": "code",
   "execution_count": 24,
   "metadata": {},
   "outputs": [
    {
     "name": "stdout",
     "output_type": "stream",
     "text": [
      "['Age', 'Fare']\n",
      "['Embarked', 'Pclass', 'Sex', 'Parch', 'SibSp']\n"
     ]
    }
   ],
   "source": [
    "from typing import List, Text\n",
    "import absl\n",
    "import kerastuner\n",
    "import numpy as np\n",
    "import tensorflow as tf\n",
    "from tensorflow import keras\n",
    "import tensorflow_transform as tft\n",
    "import tensorflow_model_analysis as tfma\n",
    "from tensorflow_transform.tf_metadata import schema_utils\n",
    "\n",
    "from tfx.components.trainer.executor import TrainerFnArgs\n",
    "from tfx.components.trainer.fn_args_utils import DataAccessor\n",
    "from tfx.components.trainer.fn_args_utils import FnArgs\n",
    "from tfx.components.tuner.component import TunerFnResult\n",
    "from tfx_bsl.tfxio import dataset_options\n",
    "\n",
    "\n",
    "_DROPPPED_FEATURES = [\n",
    "  'PassengerId', 'Name'\n",
    "]\n",
    "\n",
    "# Categorical features are assumed to each have a maximum value in the dataset.\n",
    "_MAX_CATEGORICAL_FEATURE_VALUES = [10, 10, 10]\n",
    "\n",
    "_CATEGORICAL_FEATURE_KEYS = [\n",
    "    #'Embarked', 'Pclass', 'Sex'\n",
    "]\n",
    "\n",
    "_DENSE_FLOAT_FEATURE_KEYS = [\n",
    "  'Age', 'Fare'\n",
    "]\n",
    "\n",
    "# Number of buckets used by tf.transform for encoding each feature.\n",
    "_FEATURE_BUCKET_COUNT = 10\n",
    "_FEATURE_BUCKET_COUNT_MAP = {'Parch': 3, 'SibSp': 3}\n",
    "_FEATURE_BUCKET_BOUNDARIES = {'Parch': [[0.0, 1.0, 2.0]], 'SibSp': [[0.0, 1.0, 2.0]]}\n",
    "\n",
    "_BUCKET_FEATURE_KEYS = [\n",
    "    'Parch', 'SibSp'\n",
    "]\n",
    "\n",
    "# Number of vocabulary terms used for encoding VOCAB_FEATURES by tf.transform\n",
    "_VOCAB_SIZE = 1000\n",
    "_VOCAB_SIZE_MAP = {'Embarked': 3, 'Pclass': 3, 'Sex':2}\n",
    "\n",
    "# Count of out-of-vocab buckets in which unrecognized VOCAB_FEATURES are hashed.\n",
    "_OOV_SIZE = 10\n",
    "\n",
    "_VOCAB_FEATURE_KEYS = [\n",
    "   'Embarked', 'Pclass', 'Sex'\n",
    "]\n",
    "\n",
    "# Keys\n",
    "_LABEL_KEY = 'Survived'\n",
    "_FARE_KEY = 'Fare'\n",
    "_CABIN_KEY = 'Cabin'\n",
    "_PARCH_KEY = 'Parch'\n",
    "_SIBSP_KEY = 'SibSp'\n",
    "\n",
    "_ALL_DATA_SIZE = 891\n",
    "train_ratio_percent=0.8\n",
    "_TRAIN_DATA_SIZE = int(_ALL_DATA_SIZE * train_ratio_percent)\n",
    "_EVAL_DATA_SIZE = _ALL_DATA_SIZE - _TRAIN_DATA_SIZE\n",
    "_TRAIN_BATCH_SIZE = 128\n",
    "_EVAL_BATCH_SIZE = 128\n",
    "\n",
    "\n",
    "real_keys =  _DENSE_FLOAT_FEATURE_KEYS\n",
    "sparse_keys = _VOCAB_FEATURE_KEYS + _BUCKET_FEATURE_KEYS + _CATEGORICAL_FEATURE_KEYS \n",
    "\n",
    "print(real_keys)\n",
    "print(sparse_keys)"
   ]
  },
  {
   "cell_type": "markdown",
   "metadata": {},
   "source": [
    "### Create module file for components "
   ]
  },
  {
   "cell_type": "code",
   "execution_count": 25,
   "metadata": {},
   "outputs": [
    {
     "name": "stdout",
     "output_type": "stream",
     "text": [
      "Overwriting /home/jupyter/titanic/titanic_utils.py\n"
     ]
    }
   ],
   "source": [
    "%%writefile {_module_file}\n",
    "\n",
    "from typing import List, Text\n",
    "import absl\n",
    "import kerastuner\n",
    "import numpy as np\n",
    "import tensorflow as tf\n",
    "from tensorflow import keras\n",
    "import tensorflow_transform as tft\n",
    "import tensorflow_model_analysis as tfma\n",
    "from tensorflow_transform.tf_metadata import schema_utils\n",
    "\n",
    "from tfx.components.trainer.executor import TrainerFnArgs\n",
    "from tfx.components.trainer.fn_args_utils import DataAccessor\n",
    "from tfx.components.trainer.fn_args_utils import FnArgs\n",
    "from tfx.components.tuner.component import TunerFnResult\n",
    "from tfx_bsl.tfxio import dataset_options\n",
    "\n",
    "\n",
    "_DROPPPED_FEATURES = [\n",
    "  'PassengerId', 'Name'\n",
    "]\n",
    "\n",
    "# Categorical features are assumed to each have a maximum value in the dataset.\n",
    "_MAX_CATEGORICAL_FEATURE_VALUES = [10, 10, 10]\n",
    "\n",
    "_CATEGORICAL_FEATURE_KEYS = [\n",
    "    #'Embarked', 'Pclass', 'Sex'\n",
    "]\n",
    "\n",
    "_DENSE_FLOAT_FEATURE_KEYS = [\n",
    "  'Age', 'Fare'\n",
    "]\n",
    "\n",
    "# Number of buckets used by tf.transform for encoding each feature.\n",
    "_FEATURE_BUCKET_COUNT = 10\n",
    "_FEATURE_BUCKET_COUNT_MAP = {'Parch': 3, 'SibSp': 3}\n",
    "_FEATURE_BUCKET_BOUNDARIES = {'Parch': [[0.0, 1.0, 2.0]], 'SibSp': [[0.0, 1.0, 2.0]]}\n",
    "\n",
    "_BUCKET_FEATURE_KEYS = [\n",
    "    'Parch', 'SibSp'\n",
    "]\n",
    "\n",
    "# Number of vocabulary terms used for encoding VOCAB_FEATURES by tf.transform\n",
    "_VOCAB_SIZE = 1000\n",
    "_VOCAB_SIZE_MAP = {'Embarked': 3, 'Pclass': 3, 'Sex':2}\n",
    "\n",
    "# Count of out-of-vocab buckets in which unrecognized VOCAB_FEATURES are hashed.\n",
    "_OOV_SIZE = 10\n",
    "\n",
    "_VOCAB_FEATURE_KEYS = [\n",
    "   'Embarked', 'Pclass', 'Sex'\n",
    "]\n",
    "\n",
    "# Keys\n",
    "_LABEL_KEY = 'Survived'\n",
    "_FARE_KEY = 'Fare'\n",
    "_CABIN_KEY = 'Cabin'\n",
    "_PARCH_KEY = 'Parch'\n",
    "_SIBSP_KEY = 'SibSp'\n",
    "\n",
    "_ALL_DATA_SIZE = 891\n",
    "train_ratio_percent=0.8\n",
    "_TRAIN_DATA_SIZE = int(_ALL_DATA_SIZE * train_ratio_percent)\n",
    "_EVAL_DATA_SIZE = _ALL_DATA_SIZE - _TRAIN_DATA_SIZE\n",
    "_TRAIN_BATCH_SIZE = 64\n",
    "_EVAL_BATCH_SIZE = 64\n",
    "\n",
    "\n",
    "def _transformed_name(key):\n",
    "  return key + '_xf'\n",
    "\n",
    "def _get_bucket_count(key):\n",
    "  if key in _FEATURE_BUCKET_BOUNDARIES:\n",
    "    return np.shape(_FEATURE_BUCKET_BOUNDARIES.get(key))[1]\n",
    "  if key in _FEATURE_BUCKET_COUNT_MAP:\n",
    "    return _FEATURE_BUCKET_COUNT_MAP.get(key)\n",
    "  return _FEATURE_BUCKET_COUNT    \n",
    "\n",
    "\n",
    "def _transformed_names(keys):\n",
    "  return [_transformed_name(key) for key in keys]\n",
    "\n",
    "\n",
    "def _fill_in_missing(x):\n",
    "  \"\"\"Replace missing values in a SparseTensor.\n",
    "  Fills in missing values of `x` with '' or 0, and converts to a dense tensor.\n",
    "  Args:\n",
    "    x: A `SparseTensor` of rank 2.  Its dense shape should have size at most 1\n",
    "      in the second dimension.\n",
    "  Returns:\n",
    "    A rank 1 tensor where missing values of `x` have been filled in.\n",
    "  \"\"\"\n",
    "\n",
    "  default_value = '' if x.dtype == tf.string else 0\n",
    "  return tf.squeeze(\n",
    "      tf.sparse.to_dense(\n",
    "          tf.SparseTensor(x.indices, x.values, [x.dense_shape[0], 1]),\n",
    "          default_value),\n",
    "      axis=1)\n",
    "  \n",
    "def preprocessing_fn(inputs):\n",
    "  \"\"\"tf.transform's callback function for preprocessing inputs.\n",
    "  Args:\n",
    "    inputs: map from feature keys to raw not-yet-transformed features.\n",
    "  Returns:\n",
    "    Map from string feature key to transformed feature operations.\n",
    "  \"\"\"\n",
    "  outputs = {}\n",
    "  for key in _DENSE_FLOAT_FEATURE_KEYS:\n",
    "    # Preserve this feature as a dense float, setting nan's to the mean.\n",
    "    outputs[_transformed_name(key)] = tft.scale_to_z_score(\n",
    "        _fill_in_missing(inputs[key]))\n",
    "\n",
    "  for key in _VOCAB_FEATURE_KEYS:\n",
    "    # Build a vocabulary for this feature.\n",
    "    outputs[_transformed_name(key)] = tft.compute_and_apply_vocabulary(\n",
    "        _fill_in_missing(inputs[key]),\n",
    "        top_k=_VOCAB_SIZE_MAP.get(key, _VOCAB_SIZE),\n",
    "        num_oov_buckets=_OOV_SIZE)\n",
    "\n",
    "  for key in _BUCKET_FEATURE_KEYS:\n",
    "    if key in _FEATURE_BUCKET_BOUNDARIES:\n",
    "      bucket_boundaries = tf.constant(_FEATURE_BUCKET_BOUNDARIES.get(key))\n",
    "      tf.print(\"bucket_boundaries:\", bucket_boundaries, output_stream=absl.logging.info)\n",
    "      outputs[_transformed_name(key)] = tft.apply_buckets(_fill_in_missing(inputs[key]),\n",
    "                                                          bucket_boundaries)\n",
    "    else:\n",
    "      outputs[_transformed_name(key)] = tft.bucketize(\n",
    "        _fill_in_missing(inputs[key]), _FEATURE_BUCKET_COUNT_MAP.get(key, _FEATURE_BUCKET_COUNT))\n",
    "\n",
    "  for key in _CATEGORICAL_FEATURE_KEYS:\n",
    "    outputs[_transformed_name(key)] = _fill_in_missing(inputs[key])\n",
    "\n",
    "  # Was this passenger a big tipper?\n",
    "  #taxi_fare = _fill_in_missing(inputs[_FARE_KEY])\n",
    "  #tips = _fill_in_missing(inputs[_LABEL_KEY])\n",
    "\n",
    "  outputs[_transformed_name(_LABEL_KEY)] = _fill_in_missing(inputs[_LABEL_KEY])\n",
    "\n",
    "  return outputs\n",
    "\n",
    "\n",
    "# Tf.Transform considers these features as \"raw\"\n",
    "def _get_raw_feature_spec(schema):\n",
    "  return schema_utils.schema_as_feature_spec(schema).feature_spec\n",
    "\n",
    "def _get_serve_tf_examples_fn(model, tf_transform_output):\n",
    "  \"\"\"Returns a function that parses a serialized tf.Example.\"\"\"\n",
    "\n",
    "  model.tft_layer = tf_transform_output.transform_features_layer()\n",
    "  #tf_transform_output = tft.TFTransformOutput(fn_args.transform_output)\n",
    "\n",
    "  @tf.function\n",
    "  def serve_tf_examples_fn(serialized_tf_examples):\n",
    "    \"\"\"Returns the output to be used in the serving signature.\"\"\"\n",
    "    feature_spec = tf_transform_output.raw_feature_spec()\n",
    "    feature_spec.pop(_LABEL_KEY)\n",
    "    parsed_features = tf.io.parse_example(serialized_tf_examples, feature_spec)\n",
    "\n",
    "    transformed_features = model.tft_layer(parsed_features)\n",
    "\n",
    "    return model(transformed_features)\n",
    "\n",
    "  return serve_tf_examples_fn\n",
    "\n",
    "def _example_serving_receiver_fn(tf_transform_graph, schema):\n",
    "  \"\"\"Build the serving in inputs.\n",
    "  Args:\n",
    "    tf_transform_graph: A TFTransformOutput.\n",
    "    schema: the schema of the input data.\n",
    "  Returns:\n",
    "    Tensorflow graph which parses examples, applying tf-transform to them.\n",
    "  \"\"\"\n",
    "  raw_feature_spec = _get_raw_feature_spec(schema)\n",
    "  raw_feature_spec.pop(_LABEL_KEY)\n",
    "\n",
    "  raw_input_fn = tf.estimator.export.build_parsing_serving_input_receiver_fn(\n",
    "      raw_feature_spec, default_batch_size=None)\n",
    "  serving_input_receiver = raw_input_fn()\n",
    "\n",
    "  transformed_features = tf_transform_graph.transform_raw_features(\n",
    "      serving_input_receiver.features)\n",
    "\n",
    "  return tf.estimator.export.ServingInputReceiver(\n",
    "      transformed_features, serving_input_receiver.receiver_tensors)\n",
    "\n",
    "\n",
    "def _eval_input_receiver_fn(tf_transform_graph, schema):\n",
    "  \"\"\"Build everything needed for the tf-model-analysis to run the model.\n",
    "  Args:\n",
    "    tf_transform_graph: A TFTransformOutput.\n",
    "    schema: the schema of the input data.\n",
    "  Returns:\n",
    "    EvalInputReceiver function, which contains:\n",
    "      - Tensorflow graph which parses raw untransformed features, applies the\n",
    "        tf-transform preprocessing operators.\n",
    "      - Set of raw, untransformed features.\n",
    "      - Label against which predictions will be compared.\n",
    "  \"\"\"\n",
    "  # Notice that the inputs are raw features, not transformed features here.\n",
    "  raw_feature_spec = _get_raw_feature_spec(schema)\n",
    "\n",
    "  serialized_tf_example = tf.compat.v1.placeholder(\n",
    "      dtype=tf.string, shape=[None], name='input_example_tensor')\n",
    "\n",
    "  # Add a parse_example operator to the tensorflow graph, which will parse\n",
    "  # raw, untransformed, tf examples.\n",
    "  features = tf.io.parse_example(serialized_tf_example, raw_feature_spec)\n",
    "\n",
    "  # Now that we have our raw examples, process them through the tf-transform\n",
    "  # function computed during the preprocessing step.\n",
    "  transformed_features = tf_transform_graph.transform_raw_features(\n",
    "      features)\n",
    "\n",
    "  # The key name MUST be 'examples'.\n",
    "  receiver_tensors = {'examples': serialized_tf_example}\n",
    "\n",
    "  # NOTE: Model is driven by transformed features (since training works on the\n",
    "  # materialized output of TFT, but slicing will happen on raw features.\n",
    "  features.update(transformed_features)\n",
    "\n",
    "  return tfma.export.EvalInputReceiver(\n",
    "      features=features,\n",
    "      receiver_tensors=receiver_tensors,\n",
    "      labels=transformed_features[_transformed_name(_LABEL_KEY)])\n",
    "\n",
    "\n",
    "def _input_fn(file_pattern, data_accessor, tf_transform_output, batch_size=_TRAIN_BATCH_SIZE):\n",
    "  \"\"\"Generates features and label for tuning/training.\n",
    "\n",
    "  Args:\n",
    "    file_pattern: List of paths or patterns of input tfrecord files.\n",
    "    data_accessor: DataAccessor for converting input to RecordBatch.\n",
    "    tf_transform_output: A TFTransformOutput.\n",
    "    batch_size: representing the number of consecutive elements of returned\n",
    "      dataset to combine in a single batch\n",
    "\n",
    "  Returns:\n",
    "    A dataset that contains (features, indices) tuple where features is a\n",
    "      dictionary of Tensors, and indices is a single Tensor of label indices.\n",
    "  \"\"\"\n",
    "  return data_accessor.tf_dataset_factory(\n",
    "      file_pattern,\n",
    "      dataset_options.TensorFlowDatasetOptions(\n",
    "          batch_size=batch_size, label_key=_transformed_name(_LABEL_KEY)),\n",
    "      tf_transform_output.transformed_metadata.schema)\n",
    "\n",
    "def _get_hyperparameters() -> kerastuner.HyperParameters:\n",
    "  \"\"\"Returns hyperparameters for building Keras model.\"\"\"\n",
    "  hp = kerastuner.HyperParameters()\n",
    "  # Defines search space.\n",
    "  hp.Choice('learning_rate', [1e-2, 3e-3, 1e-3], default=1e-2)\n",
    "  hp.Choice('first_dnn_layer_size', [128, 96, 64, 32], default=128)\n",
    "  hp.Choice('dnn_decay_factor', [0.3, 0.4, 0.5, 0.6, 0.7], default=0.5)\n",
    "  hp.Int('num_dnn_layers', 1, 3, default=2)\n",
    "  #hp.Float('dropout_rate', 0.1, 0.5, default=0.2)\n",
    "  return hp\n",
    "\n",
    "# Build a wide-and-deep model.\n",
    "def wide_and_deep_classifier(inputs, linear_feature_columns, dnn_feature_columns, dnn_hidden_units, optimizer):\n",
    "    deep = tf.keras.layers.DenseFeatures(dnn_feature_columns, name='deep_inputs')(inputs)\n",
    "    #layers = [int(x) for x in dnn_hidden_units.split(',')]\n",
    "    layers = dnn_hidden_units \n",
    "    for layerno, numnodes in enumerate(layers):\n",
    "        deep = tf.keras.layers.Dense(numnodes, activation='relu', name='dnn_{}'.format(layerno+1))(deep)        \n",
    "    wide = tf.keras.layers.DenseFeatures(linear_feature_columns, name='wide_inputs')(inputs)\n",
    "    both = tf.keras.layers.concatenate([deep, wide], name='both')\n",
    "    output = tf.keras.layers.Dense(1, activation='sigmoid', name='pred')(both)\n",
    "    model = tf.keras.Model(inputs, output)\n",
    "    model.compile(optimizer=optimizer,\n",
    "                  loss='binary_crossentropy',\n",
    "                  metrics=['accuracy']\n",
    "                  #,run_eagerly=True\n",
    "                  )\n",
    "    \n",
    "    return model\n",
    "\n",
    "def _build_keras_model(hparams: kerastuner.HyperParameters) -> tf.keras.Model:\n",
    "  \"\"\"Creates a DNN Keras model for classifying penguin data.\n",
    "  Args:\n",
    "    hparams: Holds HyperParameters for tuning.\n",
    "  Returns:\n",
    "    A Keras Model.\n",
    "  \"\"\"\n",
    "  # The model below is built with Functional API, please refer to\n",
    "  # https://www.tensorflow.org/guide/keras/overview for all API options.\n",
    "\n",
    "  real_keys =  _DENSE_FLOAT_FEATURE_KEYS\n",
    "  sparse_keys = _VOCAB_FEATURE_KEYS + _BUCKET_FEATURE_KEYS + _CATEGORICAL_FEATURE_KEYS\n",
    "\n",
    "  real_valued_columns = [\n",
    "      tf.feature_column.numeric_column(key, shape=())\n",
    "      for key in _transformed_names(_DENSE_FLOAT_FEATURE_KEYS)\n",
    "  ]\n",
    "\n",
    "  categorical_columns = [\n",
    "      tf.feature_column.categorical_column_with_identity(\n",
    "          key, num_buckets=_VOCAB_SIZE + _OOV_SIZE, default_value=0)\n",
    "      for key in _transformed_names(_VOCAB_FEATURE_KEYS)\n",
    "  ]\n",
    "\n",
    "  categorical_columns += [\n",
    "      tf.feature_column.categorical_column_with_identity(\n",
    "          _transformed_name(key), num_buckets=_get_bucket_count(key), default_value=0)\n",
    "      for key in _BUCKET_FEATURE_KEYS\n",
    "  ]\n",
    "\n",
    "  categorical_columns += [\n",
    "      tf.feature_column.categorical_column_with_identity(  # pylint: disable=g-complex-comprehension\n",
    "          key,\n",
    "          num_buckets=num_buckets,\n",
    "          default_value=0) for key, num_buckets in zip(\n",
    "              _transformed_names(_CATEGORICAL_FEATURE_KEYS),\n",
    "              _MAX_CATEGORICAL_FEATURE_VALUES)\n",
    "  ]\n",
    "\n",
    "  indicator_columns = [\n",
    "      tf.feature_column.indicator_column(categorical_column)\n",
    "      for categorical_column in categorical_columns\n",
    "  ]\n",
    "\n",
    "  first_dnn_layer_size = int(hparams.get('first_dnn_layer_size'))\n",
    "  dnn_decay_factor = float(hparams.get('dnn_decay_factor'))\n",
    "  num_dnn_layers = int(hparams.get('num_dnn_layers'))\n",
    "  learning_rate = float(hparams.get('learning_rate'))\n",
    "\n",
    "  hidden_units=[\n",
    "          max(2, int(first_dnn_layer_size * dnn_decay_factor**i))\n",
    "          for i in range(num_dnn_layers)\n",
    "      ]\n",
    "  optimizer = keras.optimizers.Adam(learning_rate)\n",
    "\n",
    "  inputs = {\n",
    "    _transformed_name(colname) : tf.keras.layers.Input(name=colname, shape=(), dtype='float32') \n",
    "          for colname in real_keys\n",
    "  }\n",
    "  inputs.update({\n",
    "      _transformed_name(colname) : tf.keras.layers.Input(name=colname, shape=(), dtype='int32') \n",
    "            for colname in sparse_keys\n",
    "  })\n",
    "\n",
    "  model = wide_and_deep_classifier(inputs=inputs, \n",
    "                                   linear_feature_columns=real_valued_columns,\n",
    "                                   dnn_feature_columns=indicator_columns, \n",
    "                                   dnn_hidden_units=hidden_units,\n",
    "                                   optimizer=optimizer)\n",
    "\n",
    "  model.summary(print_fn=absl.logging.info)\n",
    "  return model\n",
    "\n",
    "# TFX Trainer will call this function.\n",
    "def run_fn(fn_args: TrainerFnArgs):\n",
    "  \"\"\"Train the model based on given args.\n",
    "  Args:\n",
    "    fn_args: Holds args used to train the model as name/value pairs.\n",
    "  \"\"\"\n",
    "  tf_transform_output = tft.TFTransformOutput(fn_args.transform_output)\n",
    "\n",
    "  train_dataset = _input_fn(\n",
    "      fn_args.train_files,\n",
    "      fn_args.data_accessor,\n",
    "      tf_transform_output,\n",
    "      batch_size=_TRAIN_BATCH_SIZE)\n",
    "  eval_dataset = _input_fn(\n",
    "      fn_args.eval_files,\n",
    "      fn_args.data_accessor,\n",
    "      tf_transform_output,\n",
    "      batch_size=_EVAL_BATCH_SIZE)\n",
    "\n",
    "  if fn_args.hyperparameters:\n",
    "    hparams = kerastuner.HyperParameters.from_config(fn_args.hyperparameters)\n",
    "  else:\n",
    "    # This is a shown case when hyperparameters is decided and Tuner is removed\n",
    "    # from the pipeline. User can also inline the hyperparameters directly in\n",
    "    # _build_keras_model.\n",
    "    hparams = _get_hyperparameters()\n",
    "  absl.logging.info('HyperParameters for training: %s' % hparams.get_config())\n",
    "\n",
    "  mirrored_strategy = tf.distribute.MirroredStrategy()\n",
    "  with mirrored_strategy.scope():\n",
    "    model = _build_keras_model(hparams)\n",
    "  try:\n",
    "    log_dir = fn_args.model_run_dir\n",
    "  except KeyError:\n",
    "    log_dir = os.path.join(os.path.dirname(fn_args.serving_model_dir), 'logs')\n",
    "\n",
    "  # Write logs to path\n",
    "  tensorboard_callback = tf.keras.callbacks.TensorBoard(\n",
    "      log_dir=log_dir, update_freq='batch')\n",
    "  early_stopping_callback = tf.keras.callbacks.EarlyStopping(\n",
    "      monitor='val_loss', patience=15)\n",
    "\n",
    "  steps = fn_args.train_steps # 10000\n",
    "  batch_steps = steps // _TRAIN_BATCH_SIZE # 10000 // 64 -> 156\n",
    "  \n",
    "  steps_per_epoch = _TRAIN_DATA_SIZE // _TRAIN_BATCH_SIZE\n",
    "  # ( 891 * 0.8 =712) // 32 -> 22 ?\n",
    "\n",
    "  # Do not specify the batch_size if your data is in the form of datasets, \n",
    "  # generators, or keras.utils.Sequence instances (since they generate batches).\n",
    "\n",
    "  model.fit(\n",
    "      train_dataset,\n",
    "      epochs=fn_args.train_steps // steps_per_epoch,\n",
    "      steps_per_epoch=steps_per_epoch,\n",
    "      validation_data=eval_dataset,\n",
    "      validation_steps=fn_args.eval_steps,\n",
    "      callbacks=[tensorboard_callback, early_stopping_callback])\n",
    "\n",
    "  signatures = {\n",
    "      'serving_default':\n",
    "          _get_serve_tf_examples_fn(model,\n",
    "                                    tf_transform_output).get_concrete_function(\n",
    "                                        tf.TensorSpec(\n",
    "                                            shape=[None],\n",
    "                                            dtype=tf.string,\n",
    "                                            name='examples')),\n",
    "  }\n",
    "  model.save(fn_args.serving_model_dir, save_format='tf', signatures=signatures)\n",
    "\n",
    "# TFX Tuner will call this function.\n",
    "def tuner_fn(fn_args: FnArgs) -> TunerFnResult:\n",
    "  \"\"\"Build the tuner using the KerasTuner API.\n",
    "  Args:\n",
    "    fn_args: Holds args as name/value pairs.\n",
    "      - working_dir: working dir for tuning.\n",
    "      - train_files: List of file paths containing training tf.Example data.\n",
    "      - eval_files: List of file paths containing eval tf.Example data.\n",
    "      - train_steps: number of train steps.\n",
    "      - eval_steps: number of eval steps.\n",
    "      - schema_path: optional schema of the input data.\n",
    "      - transform_graph_path: optional transform graph produced by TFT.\n",
    "  Returns:\n",
    "    A namedtuple contains the following:\n",
    "      - tuner: A BaseTuner that will be used for tuning.\n",
    "      - fit_kwargs: Args to pass to tuner's run_trial function for fitting the\n",
    "                    model , e.g., the training and validation dataset. Required\n",
    "                    args depend on the above tuner's implementation.\n",
    "  \"\"\"\n",
    "  # RandomSearch is a subclass of kerastuner.Tuner which inherits from\n",
    "  # BaseTuner.\n",
    "  tuner = kerastuner.RandomSearch(\n",
    "      _build_keras_model,\n",
    "      max_trials=10,\n",
    "      hyperparameters=_get_hyperparameters(),\n",
    "      allow_new_entries=False,\n",
    "      objective=kerastuner.Objective('val_accuracy', 'max'),\n",
    "      directory=fn_args.working_dir,\n",
    "      project_name='titanic_tuning')\n",
    "  \n",
    "  transform_graph = tft.TFTransformOutput(fn_args.transform_graph_path)\n",
    "\n",
    "  train_dataset = _input_fn(\n",
    "      fn_args.train_files,\n",
    "      fn_args.data_accessor,\n",
    "      transform_graph,\n",
    "      batch_size=_TRAIN_BATCH_SIZE)\n",
    "  eval_dataset = _input_fn(\n",
    "      fn_args.eval_files,\n",
    "      fn_args.data_accessor,\n",
    "      transform_graph,\n",
    "      batch_size=_EVAL_BATCH_SIZE)\n",
    "\n",
    "  return TunerFnResult(\n",
    "      tuner=tuner,\n",
    "      fit_kwargs={\n",
    "          'x': train_dataset,\n",
    "          'validation_data': eval_dataset,\n",
    "          'steps_per_epoch': fn_args.train_steps,\n",
    "          'validation_steps': fn_args.eval_steps\n",
    "      })"
   ]
  },
  {
   "cell_type": "markdown",
   "metadata": {},
   "source": [
    "### Run the pipeline"
   ]
  },
  {
   "cell_type": "code",
   "execution_count": null,
   "metadata": {},
   "outputs": [
    {
     "name": "stderr",
     "output_type": "stream",
     "text": [
      "WARNING:absl:The \"input\" argument to the CsvExampleGen component has been deprecated by \"input_base\". Please update your usage as support for this argument will be removed soon.\n",
      "INFO:absl:Excluding no splits because exclude_splits is not set.\n",
      "INFO:absl:Excluding no splits because exclude_splits is not set.\n",
      "INFO:absl:Excluding no splits because exclude_splits is not set.\n",
      "WARNING:absl:`instance_name` is deprecated, please set node id directly using`with_id()` or `.id` setter.\n",
      "INFO:absl:Component CsvExampleGen is running.\n",
      "INFO:absl:Running driver for CsvExampleGen\n",
      "INFO:absl:MetadataStore with DB connection initialized\n",
      "INFO:absl:select span and version = (0, None)\n",
      "INFO:absl:latest span and version = (0, None)\n",
      "INFO:absl:Running publisher for CsvExampleGen\n",
      "INFO:absl:MetadataStore with DB connection initialized\n",
      "INFO:absl:Component CsvExampleGen is finished.\n",
      "INFO:absl:Component ResolverNode.latest_blessed_model_resolver is running.\n",
      "INFO:absl:Running driver for ResolverNode.latest_blessed_model_resolver\n",
      "INFO:absl:MetadataStore with DB connection initialized\n",
      "INFO:absl:Running publisher for ResolverNode.latest_blessed_model_resolver\n",
      "INFO:absl:MetadataStore with DB connection initialized\n",
      "INFO:absl:Component ResolverNode.latest_blessed_model_resolver is finished.\n",
      "INFO:absl:Component StatisticsGen is running.\n",
      "INFO:absl:Running driver for StatisticsGen\n",
      "INFO:absl:MetadataStore with DB connection initialized\n",
      "INFO:absl:Running publisher for StatisticsGen\n",
      "INFO:absl:MetadataStore with DB connection initialized\n",
      "INFO:absl:Component StatisticsGen is finished.\n",
      "INFO:absl:Component SchemaGen is running.\n",
      "INFO:absl:Running driver for SchemaGen\n",
      "INFO:absl:MetadataStore with DB connection initialized\n",
      "INFO:absl:Running publisher for SchemaGen\n",
      "INFO:absl:MetadataStore with DB connection initialized\n",
      "INFO:absl:Component SchemaGen is finished.\n",
      "INFO:absl:Component ExampleValidator is running.\n",
      "INFO:absl:Running driver for ExampleValidator\n",
      "INFO:absl:MetadataStore with DB connection initialized\n",
      "INFO:absl:Running publisher for ExampleValidator\n",
      "INFO:absl:MetadataStore with DB connection initialized\n",
      "INFO:absl:Component ExampleValidator is finished.\n",
      "INFO:absl:Component Transform is running.\n",
      "INFO:absl:Running driver for Transform\n",
      "INFO:absl:MetadataStore with DB connection initialized\n",
      "INFO:absl:Running executor for Transform\n",
      "INFO:absl:Attempting to infer TFX Python dependency for beam\n",
      "INFO:absl:Copying all content from install dir /opt/conda/lib/python3.7/site-packages/tfx to temp dir /tmp/tmp0l1fv2ho/build/tfx\n",
      "INFO:absl:Generating a temp setup file at /tmp/tmp0l1fv2ho/build/tfx/setup.py\n",
      "INFO:absl:Creating temporary sdist package, logs available at /tmp/tmp0l1fv2ho/build/tfx/setup.log\n",
      "INFO:absl:Added --extra_package=/tmp/tmp0l1fv2ho/build/tfx/dist/tfx_ephemeral-0.25.0.tar.gz to beam args\n",
      "INFO:absl:Analyze the 'train' split and transform all splits when splits_config is not set.\n",
      "INFO:absl:Feature Name has no shape. Setting to VarLenSparseTensor.\n",
      "INFO:absl:Feature Embarked has no shape. Setting to VarLenSparseTensor.\n",
      "INFO:absl:Feature Sex has no shape. Setting to VarLenSparseTensor.\n",
      "INFO:absl:Feature Ticket has no shape. Setting to VarLenSparseTensor.\n",
      "INFO:absl:Feature Age has no shape. Setting to VarLenSparseTensor.\n",
      "INFO:absl:Feature Cabin has no shape. Setting to VarLenSparseTensor.\n",
      "INFO:absl:Feature Fare has no shape. Setting to VarLenSparseTensor.\n",
      "INFO:absl:Feature Parch has no shape. Setting to VarLenSparseTensor.\n",
      "INFO:absl:Feature PassengerId has no shape. Setting to VarLenSparseTensor.\n",
      "INFO:absl:Feature Pclass has no shape. Setting to VarLenSparseTensor.\n",
      "INFO:absl:Feature SibSp has no shape. Setting to VarLenSparseTensor.\n",
      "INFO:absl:Feature Survived has no shape. Setting to VarLenSparseTensor.\n",
      "INFO:absl:Feature Name has no shape. Setting to VarLenSparseTensor.\n",
      "INFO:absl:Feature Embarked has no shape. Setting to VarLenSparseTensor.\n",
      "INFO:absl:Feature Sex has no shape. Setting to VarLenSparseTensor.\n",
      "INFO:absl:Feature Ticket has no shape. Setting to VarLenSparseTensor.\n",
      "INFO:absl:Feature Age has no shape. Setting to VarLenSparseTensor.\n",
      "INFO:absl:Feature Cabin has no shape. Setting to VarLenSparseTensor.\n",
      "INFO:absl:Feature Fare has no shape. Setting to VarLenSparseTensor.\n",
      "INFO:absl:Feature Parch has no shape. Setting to VarLenSparseTensor.\n",
      "INFO:absl:Feature PassengerId has no shape. Setting to VarLenSparseTensor.\n",
      "INFO:absl:Feature Pclass has no shape. Setting to VarLenSparseTensor.\n",
      "INFO:absl:Feature SibSp has no shape. Setting to VarLenSparseTensor.\n",
      "INFO:absl:Feature Survived has no shape. Setting to VarLenSparseTensor.\n",
      "INFO:absl:Feature Name has no shape. Setting to VarLenSparseTensor.\n",
      "INFO:absl:Feature Embarked has no shape. Setting to VarLenSparseTensor.\n",
      "INFO:absl:Feature Sex has no shape. Setting to VarLenSparseTensor.\n",
      "INFO:absl:Feature Ticket has no shape. Setting to VarLenSparseTensor.\n",
      "INFO:absl:Feature Age has no shape. Setting to VarLenSparseTensor.\n",
      "INFO:absl:Feature Cabin has no shape. Setting to VarLenSparseTensor.\n",
      "INFO:absl:Feature Fare has no shape. Setting to VarLenSparseTensor.\n",
      "INFO:absl:Feature Parch has no shape. Setting to VarLenSparseTensor.\n",
      "INFO:absl:Feature PassengerId has no shape. Setting to VarLenSparseTensor.\n",
      "INFO:absl:Feature Pclass has no shape. Setting to VarLenSparseTensor.\n",
      "INFO:absl:Feature SibSp has no shape. Setting to VarLenSparseTensor.\n",
      "INFO:absl:Feature Survived has no shape. Setting to VarLenSparseTensor.\n",
      "INFO:absl:Feature Name has no shape. Setting to VarLenSparseTensor.\n",
      "INFO:absl:Feature Embarked has no shape. Setting to VarLenSparseTensor.\n",
      "INFO:absl:Feature Sex has no shape. Setting to VarLenSparseTensor.\n",
      "INFO:absl:Feature Ticket has no shape. Setting to VarLenSparseTensor.\n",
      "INFO:absl:Feature Age has no shape. Setting to VarLenSparseTensor.\n",
      "INFO:absl:Feature Cabin has no shape. Setting to VarLenSparseTensor.\n",
      "INFO:absl:Feature Fare has no shape. Setting to VarLenSparseTensor.\n",
      "INFO:absl:Feature Parch has no shape. Setting to VarLenSparseTensor.\n",
      "INFO:absl:Feature PassengerId has no shape. Setting to VarLenSparseTensor.\n",
      "INFO:absl:Feature Pclass has no shape. Setting to VarLenSparseTensor.\n",
      "INFO:absl:Feature SibSp has no shape. Setting to VarLenSparseTensor.\n",
      "INFO:absl:Feature Survived has no shape. Setting to VarLenSparseTensor.\n",
      "INFO:absl:Feature Name has no shape. Setting to VarLenSparseTensor.\n",
      "INFO:absl:Feature Embarked has no shape. Setting to VarLenSparseTensor.\n",
      "INFO:absl:Feature Sex has no shape. Setting to VarLenSparseTensor.\n",
      "INFO:absl:Feature Ticket has no shape. Setting to VarLenSparseTensor.\n",
      "INFO:absl:Feature Age has no shape. Setting to VarLenSparseTensor.\n",
      "INFO:absl:Feature Cabin has no shape. Setting to VarLenSparseTensor.\n",
      "INFO:absl:Feature Fare has no shape. Setting to VarLenSparseTensor.\n",
      "INFO:absl:Feature Parch has no shape. Setting to VarLenSparseTensor.\n",
      "INFO:absl:Feature PassengerId has no shape. Setting to VarLenSparseTensor.\n",
      "INFO:absl:Feature Pclass has no shape. Setting to VarLenSparseTensor.\n",
      "INFO:absl:Feature SibSp has no shape. Setting to VarLenSparseTensor.\n",
      "INFO:absl:Feature Survived has no shape. Setting to VarLenSparseTensor.\n",
      "INFO:absl:Feature Name has no shape. Setting to VarLenSparseTensor.\n",
      "INFO:absl:Feature Embarked has no shape. Setting to VarLenSparseTensor.\n",
      "INFO:absl:Feature Sex has no shape. Setting to VarLenSparseTensor.\n",
      "INFO:absl:Feature Ticket has no shape. Setting to VarLenSparseTensor.\n",
      "INFO:absl:Feature Age has no shape. Setting to VarLenSparseTensor.\n",
      "INFO:absl:Feature Cabin has no shape. Setting to VarLenSparseTensor.\n",
      "INFO:absl:Feature Fare has no shape. Setting to VarLenSparseTensor.\n",
      "INFO:absl:Feature Parch has no shape. Setting to VarLenSparseTensor.\n",
      "INFO:absl:Feature PassengerId has no shape. Setting to VarLenSparseTensor.\n",
      "INFO:absl:Feature Pclass has no shape. Setting to VarLenSparseTensor.\n",
      "INFO:absl:Feature SibSp has no shape. Setting to VarLenSparseTensor.\n",
      "INFO:absl:Feature Survived has no shape. Setting to VarLenSparseTensor.\n"
     ]
    },
    {
     "name": "stdout",
     "output_type": "stream",
     "text": [
      "WARNING:tensorflow:TFT beam APIs accept both the TFXIO format and the instance dict format now. There is no need to set use_tfxio any more and it will be removed soon.\n"
     ]
    },
    {
     "name": "stderr",
     "output_type": "stream",
     "text": [
      "WARNING:root:This output type hint will be ignored and not used for type-checking purposes. Typically, output type hints for a PTransform are single (or nested) types wrapped by a PCollection, PDone, or None. Got: Tuple[Dict[str, Union[NoneType, _Dataset]], Union[Dict[str, Dict[str, PCollection]], NoneType]] instead.\n",
      "WARNING:root:This output type hint will be ignored and not used for type-checking purposes. Typically, output type hints for a PTransform are single (or nested) types wrapped by a PCollection, PDone, or None. Got: Tuple[Dict[str, Union[NoneType, _Dataset]], Union[Dict[str, Dict[str, PCollection]], NoneType]] instead.\n"
     ]
    },
    {
     "name": "stdout",
     "output_type": "stream",
     "text": [
      "WARNING:tensorflow:Tensorflow version (2.3.1) found. Note that Tensorflow Transform support for TF 2.0 is currently in beta, and features such as tf.function may not work as intended. \n",
      "INFO:tensorflow:Assets added to graph.\n",
      "INFO:tensorflow:No assets to write.\n",
      "WARNING:tensorflow:Issue encountered when serializing tft_mapper_use.\n",
      "Type is unsupported, or the types of the items don't match field type in CollectionDef. Note this is a warning and probably safe to ignore.\n",
      "'Counter' object has no attribute 'name'\n",
      "INFO:tensorflow:SavedModel written to: /home/jupyter/tfx/pipelines/titanic_local/Transform/transform_graph/26/.temp_path/tftransform_tmp/6d1ceaa5773e48c797734c1ed0b7be78/saved_model.pb\n",
      "WARNING:tensorflow:6 out of the last 6 calls to <function recreate_function.<locals>.restored_function_body at 0x7f9698aad560> triggered tf.function retracing. Tracing is expensive and the excessive number of tracings could be due to (1) creating @tf.function repeatedly in a loop, (2) passing tensors with different shapes, (3) passing Python objects instead of tensors. For (1), please define your @tf.function outside of the loop. For (2), @tf.function has experimental_relax_shapes=True option that relaxes argument shapes that can avoid unnecessary retracing. For (3), please refer to https://www.tensorflow.org/tutorials/customization/performance#python_or_tensor_args and https://www.tensorflow.org/api_docs/python/tf/function for  more details.\n",
      "WARNING:tensorflow:7 out of the last 7 calls to <function recreate_function.<locals>.restored_function_body at 0x7f96b0464c20> triggered tf.function retracing. Tracing is expensive and the excessive number of tracings could be due to (1) creating @tf.function repeatedly in a loop, (2) passing tensors with different shapes, (3) passing Python objects instead of tensors. For (1), please define your @tf.function outside of the loop. For (2), @tf.function has experimental_relax_shapes=True option that relaxes argument shapes that can avoid unnecessary retracing. For (3), please refer to https://www.tensorflow.org/tutorials/customization/performance#python_or_tensor_args and https://www.tensorflow.org/api_docs/python/tf/function for  more details.\n",
      "INFO:tensorflow:Assets added to graph.\n",
      "INFO:tensorflow:No assets to write.\n",
      "WARNING:tensorflow:Issue encountered when serializing tft_mapper_use.\n",
      "Type is unsupported, or the types of the items don't match field type in CollectionDef. Note this is a warning and probably safe to ignore.\n",
      "'Counter' object has no attribute 'name'\n",
      "INFO:tensorflow:SavedModel written to: /home/jupyter/tfx/pipelines/titanic_local/Transform/transform_graph/26/.temp_path/tftransform_tmp/a848ae22a6a446bc8a668b14df042e89/saved_model.pb\n"
     ]
    },
    {
     "name": "stderr",
     "output_type": "stream",
     "text": [
      "INFO:absl:Feature Name has no shape. Setting to VarLenSparseTensor.\n",
      "INFO:absl:Feature Embarked has no shape. Setting to VarLenSparseTensor.\n",
      "INFO:absl:Feature Sex has no shape. Setting to VarLenSparseTensor.\n",
      "INFO:absl:Feature Ticket has no shape. Setting to VarLenSparseTensor.\n",
      "INFO:absl:Feature Age has no shape. Setting to VarLenSparseTensor.\n",
      "INFO:absl:Feature Cabin has no shape. Setting to VarLenSparseTensor.\n",
      "INFO:absl:Feature Fare has no shape. Setting to VarLenSparseTensor.\n",
      "INFO:absl:Feature Parch has no shape. Setting to VarLenSparseTensor.\n",
      "INFO:absl:Feature PassengerId has no shape. Setting to VarLenSparseTensor.\n",
      "INFO:absl:Feature Pclass has no shape. Setting to VarLenSparseTensor.\n",
      "INFO:absl:Feature SibSp has no shape. Setting to VarLenSparseTensor.\n",
      "INFO:absl:Feature Survived has no shape. Setting to VarLenSparseTensor.\n"
     ]
    },
    {
     "name": "stdout",
     "output_type": "stream",
     "text": [
      "WARNING:tensorflow:Tensorflow version (2.3.1) found. Note that Tensorflow Transform support for TF 2.0 is currently in beta, and features such as tf.function may not work as intended. \n"
     ]
    },
    {
     "name": "stderr",
     "output_type": "stream",
     "text": [
      "WARNING:apache_beam.typehints.typehints:Ignoring send_type hint: <class 'NoneType'>\n",
      "WARNING:apache_beam.typehints.typehints:Ignoring return_type hint: <class 'NoneType'>\n",
      "WARNING:apache_beam.typehints.typehints:Ignoring send_type hint: <class 'NoneType'>\n",
      "WARNING:apache_beam.typehints.typehints:Ignoring return_type hint: <class 'NoneType'>\n",
      "WARNING:apache_beam.typehints.typehints:Ignoring send_type hint: <class 'NoneType'>\n",
      "WARNING:apache_beam.typehints.typehints:Ignoring return_type hint: <class 'NoneType'>\n",
      "INFO:absl:Feature Name has no shape. Setting to VarLenSparseTensor.\n",
      "INFO:absl:Feature Embarked has no shape. Setting to VarLenSparseTensor.\n",
      "INFO:absl:Feature Sex has no shape. Setting to VarLenSparseTensor.\n",
      "INFO:absl:Feature Ticket has no shape. Setting to VarLenSparseTensor.\n",
      "INFO:absl:Feature Age has no shape. Setting to VarLenSparseTensor.\n",
      "INFO:absl:Feature Cabin has no shape. Setting to VarLenSparseTensor.\n",
      "INFO:absl:Feature Fare has no shape. Setting to VarLenSparseTensor.\n",
      "INFO:absl:Feature Parch has no shape. Setting to VarLenSparseTensor.\n",
      "INFO:absl:Feature PassengerId has no shape. Setting to VarLenSparseTensor.\n",
      "INFO:absl:Feature Pclass has no shape. Setting to VarLenSparseTensor.\n",
      "INFO:absl:Feature SibSp has no shape. Setting to VarLenSparseTensor.\n",
      "INFO:absl:Feature Survived has no shape. Setting to VarLenSparseTensor.\n"
     ]
    },
    {
     "name": "stdout",
     "output_type": "stream",
     "text": [
      "WARNING:tensorflow:Tensorflow version (2.3.1) found. Note that Tensorflow Transform support for TF 2.0 is currently in beta, and features such as tf.function may not work as intended. \n"
     ]
    },
    {
     "name": "stderr",
     "output_type": "stream",
     "text": [
      "WARNING:apache_beam.typehints.typehints:Ignoring send_type hint: <class 'NoneType'>\n",
      "WARNING:apache_beam.typehints.typehints:Ignoring return_type hint: <class 'NoneType'>\n",
      "WARNING:apache_beam.typehints.typehints:Ignoring send_type hint: <class 'NoneType'>\n",
      "WARNING:apache_beam.typehints.typehints:Ignoring return_type hint: <class 'NoneType'>\n",
      "WARNING:apache_beam.typehints.typehints:Ignoring send_type hint: <class 'NoneType'>\n",
      "WARNING:apache_beam.typehints.typehints:Ignoring return_type hint: <class 'NoneType'>\n",
      "INFO:absl:Running publisher for Transform\n",
      "INFO:absl:MetadataStore with DB connection initialized\n",
      "INFO:absl:Component Transform is finished.\n",
      "INFO:absl:Component Tuner is running.\n",
      "INFO:absl:Running driver for Tuner\n",
      "INFO:absl:MetadataStore with DB connection initialized\n",
      "INFO:absl:Running executor for Tuner\n",
      "INFO:absl:Attempting to infer TFX Python dependency for beam\n",
      "INFO:absl:Copying all content from install dir /opt/conda/lib/python3.7/site-packages/tfx to temp dir /tmp/tmpaobx5o6y/build/tfx\n",
      "INFO:absl:Generating a temp setup file at /tmp/tmpaobx5o6y/build/tfx/setup.py\n",
      "INFO:absl:Creating temporary sdist package, logs available at /tmp/tmpaobx5o6y/build/tfx/setup.log\n",
      "INFO:absl:Added --extra_package=/tmp/tmpaobx5o6y/build/tfx/dist/tfx_ephemeral-0.25.0.tar.gz to beam args\n",
      "INFO:absl:Creating temp directory at /home/jupyter/tfx/pipelines/titanic_local/.temp/27/\n",
      "INFO:absl:Train on the 'train' split when train_args.splits is not set.\n",
      "INFO:absl:Evaluate on the 'eval' split when eval_args.splits is not set.\n",
      "WARNING:absl:Examples artifact does not have payload_format custom property. Falling back to FORMAT_TF_EXAMPLE\n",
      "WARNING:absl:Examples artifact does not have payload_format custom property. Falling back to FORMAT_TF_EXAMPLE\n",
      "INFO:absl:Model: \"functional_1\"\n",
      "INFO:absl:__________________________________________________________________________________________________\n",
      "INFO:absl:Layer (type)                    Output Shape         Param #     Connected to                     \n",
      "INFO:absl:==================================================================================================\n",
      "INFO:absl:Age (InputLayer)                [(None,)]            0                                            \n",
      "INFO:absl:__________________________________________________________________________________________________\n",
      "INFO:absl:Embarked (InputLayer)           [(None,)]            0                                            \n",
      "INFO:absl:__________________________________________________________________________________________________\n",
      "INFO:absl:Fare (InputLayer)               [(None,)]            0                                            \n",
      "INFO:absl:__________________________________________________________________________________________________\n",
      "INFO:absl:Parch (InputLayer)              [(None,)]            0                                            \n",
      "INFO:absl:__________________________________________________________________________________________________\n",
      "INFO:absl:Pclass (InputLayer)             [(None,)]            0                                            \n",
      "INFO:absl:__________________________________________________________________________________________________\n",
      "INFO:absl:Sex (InputLayer)                [(None,)]            0                                            \n",
      "INFO:absl:__________________________________________________________________________________________________\n",
      "INFO:absl:SibSp (InputLayer)              [(None,)]            0                                            \n",
      "INFO:absl:__________________________________________________________________________________________________\n",
      "INFO:absl:deep_inputs (DenseFeatures)     (None, 3036)         0           Age[0][0]                        \n",
      "INFO:absl:                                                                 Embarked[0][0]                   \n",
      "INFO:absl:                                                                 Fare[0][0]                       \n",
      "INFO:absl:                                                                 Parch[0][0]                      \n",
      "INFO:absl:                                                                 Pclass[0][0]                     \n",
      "INFO:absl:                                                                 Sex[0][0]                        \n",
      "INFO:absl:                                                                 SibSp[0][0]                      \n",
      "INFO:absl:__________________________________________________________________________________________________\n",
      "INFO:absl:dnn_1 (Dense)                   (None, 128)          388736      deep_inputs[0][0]                \n",
      "INFO:absl:__________________________________________________________________________________________________\n",
      "INFO:absl:dnn_2 (Dense)                   (None, 64)           8256        dnn_1[0][0]                      \n",
      "INFO:absl:__________________________________________________________________________________________________\n",
      "INFO:absl:wide_inputs (DenseFeatures)     (None, 2)            0           Age[0][0]                        \n",
      "INFO:absl:                                                                 Embarked[0][0]                   \n",
      "INFO:absl:                                                                 Fare[0][0]                       \n",
      "INFO:absl:                                                                 Parch[0][0]                      \n",
      "INFO:absl:                                                                 Pclass[0][0]                     \n",
      "INFO:absl:                                                                 Sex[0][0]                        \n",
      "INFO:absl:                                                                 SibSp[0][0]                      \n",
      "INFO:absl:__________________________________________________________________________________________________\n",
      "INFO:absl:both (Concatenate)              (None, 66)           0           dnn_2[0][0]                      \n",
      "INFO:absl:                                                                 wide_inputs[0][0]                \n",
      "INFO:absl:__________________________________________________________________________________________________\n",
      "INFO:absl:pred (Dense)                    (None, 1)            67          both[0][0]                       \n",
      "INFO:absl:==================================================================================================\n",
      "INFO:absl:Total params: 397,059\n",
      "INFO:absl:Trainable params: 397,059\n",
      "INFO:absl:Non-trainable params: 0\n",
      "INFO:absl:__________________________________________________________________________________________________\n",
      "INFO:absl:Feature Age_xf has a shape . Setting to DenseTensor.\n",
      "INFO:absl:Feature Embarked_xf has a shape . Setting to DenseTensor.\n",
      "INFO:absl:Feature Fare_xf has a shape . Setting to DenseTensor.\n",
      "INFO:absl:Feature Parch_xf has a shape . Setting to DenseTensor.\n",
      "INFO:absl:Feature Pclass_xf has a shape . Setting to DenseTensor.\n",
      "INFO:absl:Feature Sex_xf has a shape . Setting to DenseTensor.\n",
      "INFO:absl:Feature SibSp_xf has a shape . Setting to DenseTensor.\n",
      "INFO:absl:Feature Survived_xf has a shape . Setting to DenseTensor.\n",
      "INFO:absl:Feature Age_xf has a shape . Setting to DenseTensor.\n",
      "INFO:absl:Feature Embarked_xf has a shape . Setting to DenseTensor.\n",
      "INFO:absl:Feature Fare_xf has a shape . Setting to DenseTensor.\n",
      "INFO:absl:Feature Parch_xf has a shape . Setting to DenseTensor.\n",
      "INFO:absl:Feature Pclass_xf has a shape . Setting to DenseTensor.\n",
      "INFO:absl:Feature Sex_xf has a shape . Setting to DenseTensor.\n",
      "INFO:absl:Feature SibSp_xf has a shape . Setting to DenseTensor.\n",
      "INFO:absl:Feature Survived_xf has a shape . Setting to DenseTensor.\n"
     ]
    },
    {
     "data": {
      "text/html": [
       "<span style=\"color:#4527A0\"><h1 style=\"font-size:18px\">Search space summary</h1></span>"
      ],
      "text/plain": [
       "<IPython.core.display.HTML object>"
      ]
     },
     "metadata": {},
     "output_type": "display_data"
    },
    {
     "data": {
      "text/html": [
       "<span style=\"color:cyan\"> |-Default search space size: 4</span>"
      ],
      "text/plain": [
       "<IPython.core.display.HTML object>"
      ]
     },
     "metadata": {},
     "output_type": "display_data"
    },
    {
     "data": {
      "text/html": [
       "<span style=\"color:#7E57C2\"><h2 style=\"font-size:16px\">learning_rate (Choice)</h2></span>"
      ],
      "text/plain": [
       "<IPython.core.display.HTML object>"
      ]
     },
     "metadata": {},
     "output_type": "display_data"
    },
    {
     "data": {
      "text/html": [
       "<span style=\"color:cyan\"> |-default: 0.01</span>"
      ],
      "text/plain": [
       "<IPython.core.display.HTML object>"
      ]
     },
     "metadata": {},
     "output_type": "display_data"
    },
    {
     "data": {
      "text/html": [
       "<span style=\"color:blue\"> |-ordered: True</span>"
      ],
      "text/plain": [
       "<IPython.core.display.HTML object>"
      ]
     },
     "metadata": {},
     "output_type": "display_data"
    },
    {
     "data": {
      "text/html": [
       "<span style=\"color:cyan\"> |-values: [0.01, 0.003, 0.001]</span>"
      ],
      "text/plain": [
       "<IPython.core.display.HTML object>"
      ]
     },
     "metadata": {},
     "output_type": "display_data"
    },
    {
     "data": {
      "text/html": [
       "<span style=\"color:#7E57C2\"><h2 style=\"font-size:16px\">first_dnn_layer_size (Choice)</h2></span>"
      ],
      "text/plain": [
       "<IPython.core.display.HTML object>"
      ]
     },
     "metadata": {},
     "output_type": "display_data"
    },
    {
     "data": {
      "text/html": [
       "<span style=\"color:cyan\"> |-default: 128</span>"
      ],
      "text/plain": [
       "<IPython.core.display.HTML object>"
      ]
     },
     "metadata": {},
     "output_type": "display_data"
    },
    {
     "data": {
      "text/html": [
       "<span style=\"color:blue\"> |-ordered: True</span>"
      ],
      "text/plain": [
       "<IPython.core.display.HTML object>"
      ]
     },
     "metadata": {},
     "output_type": "display_data"
    },
    {
     "data": {
      "text/html": [
       "<span style=\"color:cyan\"> |-values: [128, 96, 64, 32]</span>"
      ],
      "text/plain": [
       "<IPython.core.display.HTML object>"
      ]
     },
     "metadata": {},
     "output_type": "display_data"
    },
    {
     "data": {
      "text/html": [
       "<span style=\"color:#7E57C2\"><h2 style=\"font-size:16px\">dnn_decay_factor (Choice)</h2></span>"
      ],
      "text/plain": [
       "<IPython.core.display.HTML object>"
      ]
     },
     "metadata": {},
     "output_type": "display_data"
    },
    {
     "data": {
      "text/html": [
       "<span style=\"color:cyan\"> |-default: 0.5</span>"
      ],
      "text/plain": [
       "<IPython.core.display.HTML object>"
      ]
     },
     "metadata": {},
     "output_type": "display_data"
    },
    {
     "data": {
      "text/html": [
       "<span style=\"color:blue\"> |-ordered: True</span>"
      ],
      "text/plain": [
       "<IPython.core.display.HTML object>"
      ]
     },
     "metadata": {},
     "output_type": "display_data"
    },
    {
     "data": {
      "text/html": [
       "<span style=\"color:cyan\"> |-values: [0.3, 0.4, 0.5, 0.6, 0.7]</span>"
      ],
      "text/plain": [
       "<IPython.core.display.HTML object>"
      ]
     },
     "metadata": {},
     "output_type": "display_data"
    },
    {
     "data": {
      "text/html": [
       "<span style=\"color:#7E57C2\"><h2 style=\"font-size:16px\">num_dnn_layers (Int)</h2></span>"
      ],
      "text/plain": [
       "<IPython.core.display.HTML object>"
      ]
     },
     "metadata": {},
     "output_type": "display_data"
    },
    {
     "data": {
      "text/html": [
       "<span style=\"color:cyan\"> |-default: 2</span>"
      ],
      "text/plain": [
       "<IPython.core.display.HTML object>"
      ]
     },
     "metadata": {},
     "output_type": "display_data"
    },
    {
     "data": {
      "text/html": [
       "<span style=\"color:blue\"> |-max_value: 3</span>"
      ],
      "text/plain": [
       "<IPython.core.display.HTML object>"
      ]
     },
     "metadata": {},
     "output_type": "display_data"
    },
    {
     "data": {
      "text/html": [
       "<span style=\"color:cyan\"> |-min_value: 1</span>"
      ],
      "text/plain": [
       "<IPython.core.display.HTML object>"
      ]
     },
     "metadata": {},
     "output_type": "display_data"
    },
    {
     "data": {
      "text/html": [
       "<span style=\"color:blue\"> |-sampling: None</span>"
      ],
      "text/plain": [
       "<IPython.core.display.HTML object>"
      ]
     },
     "metadata": {},
     "output_type": "display_data"
    },
    {
     "data": {
      "text/html": [
       "<span style=\"color:cyan\"> |-step: 1</span>"
      ],
      "text/plain": [
       "<IPython.core.display.HTML object>"
      ]
     },
     "metadata": {},
     "output_type": "display_data"
    },
    {
     "name": "stderr",
     "output_type": "stream",
     "text": [
      "INFO:absl:Start tuning... Tuner ID: tuner0\n",
      "INFO:absl:Model: \"functional_1\"\n",
      "INFO:absl:__________________________________________________________________________________________________\n",
      "INFO:absl:Layer (type)                    Output Shape         Param #     Connected to                     \n",
      "INFO:absl:==================================================================================================\n",
      "INFO:absl:Age (InputLayer)                [(None,)]            0                                            \n",
      "INFO:absl:__________________________________________________________________________________________________\n",
      "INFO:absl:Embarked (InputLayer)           [(None,)]            0                                            \n",
      "INFO:absl:__________________________________________________________________________________________________\n",
      "INFO:absl:Fare (InputLayer)               [(None,)]            0                                            \n",
      "INFO:absl:__________________________________________________________________________________________________\n",
      "INFO:absl:Parch (InputLayer)              [(None,)]            0                                            \n",
      "INFO:absl:__________________________________________________________________________________________________\n",
      "INFO:absl:Pclass (InputLayer)             [(None,)]            0                                            \n",
      "INFO:absl:__________________________________________________________________________________________________\n",
      "INFO:absl:Sex (InputLayer)                [(None,)]            0                                            \n",
      "INFO:absl:__________________________________________________________________________________________________\n",
      "INFO:absl:SibSp (InputLayer)              [(None,)]            0                                            \n",
      "INFO:absl:__________________________________________________________________________________________________\n",
      "INFO:absl:deep_inputs (DenseFeatures)     (None, 3036)         0           Age[0][0]                        \n",
      "INFO:absl:                                                                 Embarked[0][0]                   \n",
      "INFO:absl:                                                                 Fare[0][0]                       \n",
      "INFO:absl:                                                                 Parch[0][0]                      \n",
      "INFO:absl:                                                                 Pclass[0][0]                     \n",
      "INFO:absl:                                                                 Sex[0][0]                        \n",
      "INFO:absl:                                                                 SibSp[0][0]                      \n",
      "INFO:absl:__________________________________________________________________________________________________\n",
      "INFO:absl:dnn_1 (Dense)                   (None, 128)          388736      deep_inputs[0][0]                \n",
      "INFO:absl:__________________________________________________________________________________________________\n",
      "INFO:absl:dnn_2 (Dense)                   (None, 51)           6579        dnn_1[0][0]                      \n",
      "INFO:absl:__________________________________________________________________________________________________\n",
      "INFO:absl:dnn_3 (Dense)                   (None, 20)           1040        dnn_2[0][0]                      \n",
      "INFO:absl:__________________________________________________________________________________________________\n",
      "INFO:absl:wide_inputs (DenseFeatures)     (None, 2)            0           Age[0][0]                        \n",
      "INFO:absl:                                                                 Embarked[0][0]                   \n",
      "INFO:absl:                                                                 Fare[0][0]                       \n",
      "INFO:absl:                                                                 Parch[0][0]                      \n",
      "INFO:absl:                                                                 Pclass[0][0]                     \n",
      "INFO:absl:                                                                 Sex[0][0]                        \n",
      "INFO:absl:                                                                 SibSp[0][0]                      \n",
      "INFO:absl:__________________________________________________________________________________________________\n",
      "INFO:absl:both (Concatenate)              (None, 22)           0           dnn_3[0][0]                      \n",
      "INFO:absl:                                                                 wide_inputs[0][0]                \n",
      "INFO:absl:__________________________________________________________________________________________________\n",
      "INFO:absl:pred (Dense)                    (None, 1)            23          both[0][0]                       \n",
      "INFO:absl:==================================================================================================\n",
      "INFO:absl:Total params: 396,378\n",
      "INFO:absl:Trainable params: 396,378\n",
      "INFO:absl:Non-trainable params: 0\n",
      "INFO:absl:__________________________________________________________________________________________________\n"
     ]
    },
    {
     "name": "stdout",
     "output_type": "stream",
     "text": [
      "500/500 [==============================] - ETA: 0s - loss: 0.6505 - accuracy: 0.68 - ETA: 5s - loss: 0.6519 - accuracy: 0.66 - ETA: 5s - loss: 0.6474 - accuracy: 0.66 - ETA: 6s - loss: 0.6403 - accuracy: 0.68 - ETA: 5s - loss: 0.6334 - accuracy: 0.68 - ETA: 6s - loss: 0.6246 - accuracy: 0.69 - ETA: 6s - loss: 0.6222 - accuracy: 0.69 - ETA: 6s - loss: 0.6096 - accuracy: 0.71 - ETA: 6s - loss: 0.5994 - accuracy: 0.71 - ETA: 5s - loss: 0.5805 - accuracy: 0.73 - ETA: 5s - loss: 0.5691 - accuracy: 0.73 - ETA: 5s - loss: 0.5602 - accuracy: 0.74 - ETA: 5s - loss: 0.5484 - accuracy: 0.74 - ETA: 5s - loss: 0.5412 - accuracy: 0.75 - ETA: 5s - loss: 0.5364 - accuracy: 0.75 - ETA: 4s - loss: 0.5270 - accuracy: 0.76 - ETA: 4s - loss: 0.5217 - accuracy: 0.76 - ETA: 4s - loss: 0.5184 - accuracy: 0.76 - ETA: 4s - loss: 0.5161 - accuracy: 0.76 - ETA: 4s - loss: 0.5094 - accuracy: 0.76 - ETA: 4s - loss: 0.5073 - accuracy: 0.77 - ETA: 4s - loss: 0.5042 - accuracy: 0.77 - ETA: 4s - loss: 0.4998 - accuracy: 0.77 - ETA: 4s - loss: 0.4971 - accuracy: 0.77 - ETA: 4s - loss: 0.4945 - accuracy: 0.77 - ETA: 4s - loss: 0.4911 - accuracy: 0.77 - ETA: 4s - loss: 0.4883 - accuracy: 0.77 - ETA: 4s - loss: 0.4857 - accuracy: 0.78 - ETA: 4s - loss: 0.4841 - accuracy: 0.78 - ETA: 4s - loss: 0.4834 - accuracy: 0.78 - ETA: 4s - loss: 0.4822 - accuracy: 0.78 - ETA: 4s - loss: 0.4812 - accuracy: 0.78 - ETA: 4s - loss: 0.4813 - accuracy: 0.78 - ETA: 4s - loss: 0.4791 - accuracy: 0.78 - ETA: 4s - loss: 0.4779 - accuracy: 0.78 - ETA: 4s - loss: 0.4757 - accuracy: 0.78 - ETA: 4s - loss: 0.4743 - accuracy: 0.78 - ETA: 3s - loss: 0.4737 - accuracy: 0.78 - ETA: 3s - loss: 0.4709 - accuracy: 0.78 - ETA: 3s - loss: 0.4693 - accuracy: 0.78 - ETA: 3s - loss: 0.4678 - accuracy: 0.78 - ETA: 3s - loss: 0.4663 - accuracy: 0.79 - ETA: 3s - loss: 0.4649 - accuracy: 0.79 - ETA: 3s - loss: 0.4638 - accuracy: 0.79 - ETA: 3s - loss: 0.4606 - accuracy: 0.79 - ETA: 3s - loss: 0.4610 - accuracy: 0.79 - ETA: 3s - loss: 0.4596 - accuracy: 0.79 - ETA: 3s - loss: 0.4590 - accuracy: 0.79 - ETA: 3s - loss: 0.4584 - accuracy: 0.79 - ETA: 3s - loss: 0.4564 - accuracy: 0.79 - ETA: 3s - loss: 0.4561 - accuracy: 0.79 - ETA: 2s - loss: 0.4554 - accuracy: 0.79 - ETA: 2s - loss: 0.4543 - accuracy: 0.79 - ETA: 2s - loss: 0.4534 - accuracy: 0.79 - ETA: 2s - loss: 0.4521 - accuracy: 0.79 - ETA: 2s - loss: 0.4512 - accuracy: 0.79 - ETA: 2s - loss: 0.4508 - accuracy: 0.79 - ETA: 2s - loss: 0.4499 - accuracy: 0.79 - ETA: 2s - loss: 0.4485 - accuracy: 0.80 - ETA: 2s - loss: 0.4476 - accuracy: 0.80 - ETA: 2s - loss: 0.4475 - accuracy: 0.80 - ETA: 2s - loss: 0.4473 - accuracy: 0.80 - ETA: 2s - loss: 0.4459 - accuracy: 0.80 - ETA: 2s - loss: 0.4453 - accuracy: 0.80 - ETA: 2s - loss: 0.4444 - accuracy: 0.80 - ETA: 2s - loss: 0.4438 - accuracy: 0.80 - ETA: 2s - loss: 0.4428 - accuracy: 0.80 - ETA: 2s - loss: 0.4426 - accuracy: 0.80 - ETA: 2s - loss: 0.4418 - accuracy: 0.80 - ETA: 1s - loss: 0.4413 - accuracy: 0.80 - ETA: 1s - loss: 0.4402 - accuracy: 0.80 - ETA: 1s - loss: 0.4398 - accuracy: 0.80 - ETA: 1s - loss: 0.4398 - accuracy: 0.80 - ETA: 1s - loss: 0.4389 - accuracy: 0.80 - ETA: 1s - loss: 0.4383 - accuracy: 0.80 - ETA: 1s - loss: 0.4379 - accuracy: 0.80 - ETA: 1s - loss: 0.4373 - accuracy: 0.80 - ETA: 1s - loss: 0.4365 - accuracy: 0.80 - ETA: 1s - loss: 0.4366 - accuracy: 0.80 - ETA: 1s - loss: 0.4357 - accuracy: 0.80 - ETA: 1s - loss: 0.4347 - accuracy: 0.80 - ETA: 1s - loss: 0.4346 - accuracy: 0.80 - ETA: 1s - loss: 0.4341 - accuracy: 0.80 - ETA: 1s - loss: 0.4339 - accuracy: 0.80 - ETA: 1s - loss: 0.4331 - accuracy: 0.80 - ETA: 1s - loss: 0.4324 - accuracy: 0.80 - ETA: 1s - loss: 0.4320 - accuracy: 0.80 - ETA: 0s - loss: 0.4315 - accuracy: 0.80 - ETA: 0s - loss: 0.4313 - accuracy: 0.80 - ETA: 0s - loss: 0.4308 - accuracy: 0.80 - ETA: 0s - loss: 0.4300 - accuracy: 0.80 - ETA: 0s - loss: 0.4297 - accuracy: 0.80 - ETA: 0s - loss: 0.4294 - accuracy: 0.80 - ETA: 0s - loss: 0.4289 - accuracy: 0.81 - ETA: 0s - loss: 0.4280 - accuracy: 0.81 - ETA: 0s - loss: 0.4279 - accuracy: 0.81 - ETA: 0s - loss: 0.4281 - accuracy: 0.81 - ETA: 0s - loss: 0.4283 - accuracy: 0.81 - ETA: 0s - loss: 0.4281 - accuracy: 0.81 - ETA: 0s - loss: 0.4274 - accuracy: 0.81 - ETA: 0s - loss: 0.4271 - accuracy: 0.81 - ETA: 0s - loss: 0.4265 - accuracy: 0.81 - ETA: 0s - loss: 0.4264 - accuracy: 0.81 - ETA: 0s - loss: 0.4261 - accuracy: 0.81 - ETA: 0s - loss: 0.4254 - accuracy: 0.81 - ETA: 0s - loss: 0.4253 - accuracy: 0.81 - ETA: 0s - loss: 0.4251 - accuracy: 0.81 - ETA: 0s - loss: 0.4247 - accuracy: 0.81 - 7s 15ms/step - loss: 0.4246 - accuracy: 0.8123 - val_loss: 0.4659 - val_accuracy: 0.7730\n"
     ]
    },
    {
     "data": {
      "text/html": [
       "<span style=\"color:#4527A0\"><h1 style=\"font-size:18px\">Trial complete</h1></span>"
      ],
      "text/plain": [
       "<IPython.core.display.HTML object>"
      ]
     },
     "metadata": {},
     "output_type": "display_data"
    },
    {
     "data": {
      "text/html": [
       "<span style=\"color:#4527A0\"><h1 style=\"font-size:18px\">Trial summary</h1></span>"
      ],
      "text/plain": [
       "<IPython.core.display.HTML object>"
      ]
     },
     "metadata": {},
     "output_type": "display_data"
    },
    {
     "data": {
      "text/html": [
       "<span style=\"color:cyan\"> |-Trial ID: 3aeb339787dbc53fc2f7fddd428f79b9</span>"
      ],
      "text/plain": [
       "<IPython.core.display.HTML object>"
      ]
     },
     "metadata": {},
     "output_type": "display_data"
    },
    {
     "data": {
      "text/html": [
       "<span style=\"color:cyan\"> |-Score: 0.7729687690734863</span>"
      ],
      "text/plain": [
       "<IPython.core.display.HTML object>"
      ]
     },
     "metadata": {},
     "output_type": "display_data"
    },
    {
     "data": {
      "text/html": [
       "<span style=\"color:cyan\"> |-Best step: 0</span>"
      ],
      "text/plain": [
       "<IPython.core.display.HTML object>"
      ]
     },
     "metadata": {},
     "output_type": "display_data"
    },
    {
     "data": {
      "text/html": [
       "<span style=\"color:#7E57C2\"><h2 style=\"font-size:16px\">Hyperparameters:</h2></span>"
      ],
      "text/plain": [
       "<IPython.core.display.HTML object>"
      ]
     },
     "metadata": {},
     "output_type": "display_data"
    },
    {
     "data": {
      "text/html": [
       "<span style=\"color:cyan\"> |-dnn_decay_factor: 0.4</span>"
      ],
      "text/plain": [
       "<IPython.core.display.HTML object>"
      ]
     },
     "metadata": {},
     "output_type": "display_data"
    },
    {
     "data": {
      "text/html": [
       "<span style=\"color:blue\"> |-first_dnn_layer_size: 128</span>"
      ],
      "text/plain": [
       "<IPython.core.display.HTML object>"
      ]
     },
     "metadata": {},
     "output_type": "display_data"
    },
    {
     "data": {
      "text/html": [
       "<span style=\"color:cyan\"> |-learning_rate: 0.001</span>"
      ],
      "text/plain": [
       "<IPython.core.display.HTML object>"
      ]
     },
     "metadata": {},
     "output_type": "display_data"
    },
    {
     "data": {
      "text/html": [
       "<span style=\"color:blue\"> |-num_dnn_layers: 3</span>"
      ],
      "text/plain": [
       "<IPython.core.display.HTML object>"
      ]
     },
     "metadata": {},
     "output_type": "display_data"
    },
    {
     "name": "stderr",
     "output_type": "stream",
     "text": [
      "INFO:absl:Model: \"functional_1\"\n",
      "INFO:absl:__________________________________________________________________________________________________\n",
      "INFO:absl:Layer (type)                    Output Shape         Param #     Connected to                     \n",
      "INFO:absl:==================================================================================================\n",
      "INFO:absl:Age (InputLayer)                [(None,)]            0                                            \n",
      "INFO:absl:__________________________________________________________________________________________________\n",
      "INFO:absl:Embarked (InputLayer)           [(None,)]            0                                            \n",
      "INFO:absl:__________________________________________________________________________________________________\n",
      "INFO:absl:Fare (InputLayer)               [(None,)]            0                                            \n",
      "INFO:absl:__________________________________________________________________________________________________\n",
      "INFO:absl:Parch (InputLayer)              [(None,)]            0                                            \n",
      "INFO:absl:__________________________________________________________________________________________________\n",
      "INFO:absl:Pclass (InputLayer)             [(None,)]            0                                            \n",
      "INFO:absl:__________________________________________________________________________________________________\n",
      "INFO:absl:Sex (InputLayer)                [(None,)]            0                                            \n",
      "INFO:absl:__________________________________________________________________________________________________\n",
      "INFO:absl:SibSp (InputLayer)              [(None,)]            0                                            \n",
      "INFO:absl:__________________________________________________________________________________________________\n",
      "INFO:absl:deep_inputs (DenseFeatures)     (None, 3036)         0           Age[0][0]                        \n",
      "INFO:absl:                                                                 Embarked[0][0]                   \n",
      "INFO:absl:                                                                 Fare[0][0]                       \n",
      "INFO:absl:                                                                 Parch[0][0]                      \n",
      "INFO:absl:                                                                 Pclass[0][0]                     \n",
      "INFO:absl:                                                                 Sex[0][0]                        \n",
      "INFO:absl:                                                                 SibSp[0][0]                      \n",
      "INFO:absl:__________________________________________________________________________________________________\n",
      "INFO:absl:dnn_1 (Dense)                   (None, 96)           291552      deep_inputs[0][0]                \n",
      "INFO:absl:__________________________________________________________________________________________________\n",
      "INFO:absl:dnn_2 (Dense)                   (None, 67)           6499        dnn_1[0][0]                      \n",
      "INFO:absl:__________________________________________________________________________________________________\n",
      "INFO:absl:dnn_3 (Dense)                   (None, 47)           3196        dnn_2[0][0]                      \n",
      "INFO:absl:__________________________________________________________________________________________________\n",
      "INFO:absl:wide_inputs (DenseFeatures)     (None, 2)            0           Age[0][0]                        \n",
      "INFO:absl:                                                                 Embarked[0][0]                   \n",
      "INFO:absl:                                                                 Fare[0][0]                       \n",
      "INFO:absl:                                                                 Parch[0][0]                      \n",
      "INFO:absl:                                                                 Pclass[0][0]                     \n",
      "INFO:absl:                                                                 Sex[0][0]                        \n",
      "INFO:absl:                                                                 SibSp[0][0]                      \n",
      "INFO:absl:__________________________________________________________________________________________________\n",
      "INFO:absl:both (Concatenate)              (None, 49)           0           dnn_3[0][0]                      \n",
      "INFO:absl:                                                                 wide_inputs[0][0]                \n",
      "INFO:absl:__________________________________________________________________________________________________\n",
      "INFO:absl:pred (Dense)                    (None, 1)            50          both[0][0]                       \n",
      "INFO:absl:==================================================================================================\n",
      "INFO:absl:Total params: 301,297\n",
      "INFO:absl:Trainable params: 301,297\n",
      "INFO:absl:Non-trainable params: 0\n",
      "INFO:absl:__________________________________________________________________________________________________\n"
     ]
    },
    {
     "name": "stdout",
     "output_type": "stream",
     "text": [
      "500/500 [==============================] - ETA: 0s - loss: 0.7086 - accuracy: 0.43 - ETA: 3s - loss: 0.6785 - accuracy: 0.58 - ETA: 4s - loss: 0.6649 - accuracy: 0.61 - ETA: 4s - loss: 0.6531 - accuracy: 0.63 - ETA: 4s - loss: 0.6316 - accuracy: 0.66 - ETA: 4s - loss: 0.6155 - accuracy: 0.68 - ETA: 4s - loss: 0.5971 - accuracy: 0.69 - ETA: 4s - loss: 0.5766 - accuracy: 0.71 - ETA: 4s - loss: 0.5624 - accuracy: 0.72 - ETA: 4s - loss: 0.5536 - accuracy: 0.73 - ETA: 4s - loss: 0.5476 - accuracy: 0.73 - ETA: 4s - loss: 0.5432 - accuracy: 0.73 - ETA: 4s - loss: 0.5362 - accuracy: 0.74 - ETA: 4s - loss: 0.5299 - accuracy: 0.74 - ETA: 4s - loss: 0.5253 - accuracy: 0.74 - ETA: 4s - loss: 0.5200 - accuracy: 0.75 - ETA: 4s - loss: 0.5154 - accuracy: 0.75 - ETA: 4s - loss: 0.5101 - accuracy: 0.75 - ETA: 4s - loss: 0.5092 - accuracy: 0.75 - ETA: 4s - loss: 0.5040 - accuracy: 0.76 - ETA: 4s - loss: 0.5015 - accuracy: 0.76 - ETA: 4s - loss: 0.4980 - accuracy: 0.76 - ETA: 4s - loss: 0.4950 - accuracy: 0.76 - ETA: 4s - loss: 0.4950 - accuracy: 0.76 - ETA: 4s - loss: 0.4916 - accuracy: 0.76 - ETA: 3s - loss: 0.4898 - accuracy: 0.77 - ETA: 3s - loss: 0.4878 - accuracy: 0.77 - ETA: 3s - loss: 0.4844 - accuracy: 0.77 - ETA: 3s - loss: 0.4829 - accuracy: 0.77 - ETA: 3s - loss: 0.4807 - accuracy: 0.77 - ETA: 3s - loss: 0.4798 - accuracy: 0.77 - ETA: 3s - loss: 0.4787 - accuracy: 0.77 - ETA: 3s - loss: 0.4759 - accuracy: 0.77 - ETA: 3s - loss: 0.4741 - accuracy: 0.77 - ETA: 3s - loss: 0.4721 - accuracy: 0.78 - ETA: 3s - loss: 0.4702 - accuracy: 0.78 - ETA: 3s - loss: 0.4688 - accuracy: 0.78 - ETA: 3s - loss: 0.4670 - accuracy: 0.78 - ETA: 3s - loss: 0.4655 - accuracy: 0.78 - ETA: 3s - loss: 0.4634 - accuracy: 0.78 - ETA: 2s - loss: 0.4621 - accuracy: 0.78 - ETA: 2s - loss: 0.4604 - accuracy: 0.78 - ETA: 2s - loss: 0.4586 - accuracy: 0.78 - ETA: 2s - loss: 0.4576 - accuracy: 0.78 - ETA: 2s - loss: 0.4560 - accuracy: 0.79 - ETA: 2s - loss: 0.4550 - accuracy: 0.79 - ETA: 2s - loss: 0.4543 - accuracy: 0.79 - ETA: 2s - loss: 0.4534 - accuracy: 0.79 - ETA: 2s - loss: 0.4521 - accuracy: 0.79 - ETA: 2s - loss: 0.4517 - accuracy: 0.79 - ETA: 2s - loss: 0.4503 - accuracy: 0.79 - ETA: 2s - loss: 0.4496 - accuracy: 0.79 - ETA: 2s - loss: 0.4496 - accuracy: 0.79 - ETA: 2s - loss: 0.4486 - accuracy: 0.79 - ETA: 2s - loss: 0.4476 - accuracy: 0.79 - ETA: 2s - loss: 0.4466 - accuracy: 0.79 - ETA: 1s - loss: 0.4458 - accuracy: 0.79 - ETA: 1s - loss: 0.4453 - accuracy: 0.79 - ETA: 1s - loss: 0.4446 - accuracy: 0.79 - ETA: 1s - loss: 0.4443 - accuracy: 0.79 - ETA: 1s - loss: 0.4431 - accuracy: 0.79 - ETA: 1s - loss: 0.4423 - accuracy: 0.79 - ETA: 1s - loss: 0.4420 - accuracy: 0.79 - ETA: 1s - loss: 0.4410 - accuracy: 0.80 - ETA: 1s - loss: 0.4403 - accuracy: 0.80 - ETA: 1s - loss: 0.4398 - accuracy: 0.80 - ETA: 1s - loss: 0.4393 - accuracy: 0.80 - ETA: 1s - loss: 0.4383 - accuracy: 0.80 - ETA: 1s - loss: 0.4376 - accuracy: 0.80 - ETA: 1s - loss: 0.4377 - accuracy: 0.80 - ETA: 1s - loss: 0.4374 - accuracy: 0.80 - ETA: 1s - loss: 0.4366 - accuracy: 0.80 - ETA: 1s - loss: 0.4357 - accuracy: 0.80 - ETA: 1s - loss: 0.4355 - accuracy: 0.80 - ETA: 1s - loss: 0.4346 - accuracy: 0.80 - ETA: 1s - loss: 0.4340 - accuracy: 0.80 - ETA: 0s - loss: 0.4339 - accuracy: 0.80 - ETA: 0s - loss: 0.4335 - accuracy: 0.80 - ETA: 0s - loss: 0.4330 - accuracy: 0.80 - ETA: 0s - loss: 0.4325 - accuracy: 0.80 - ETA: 0s - loss: 0.4316 - accuracy: 0.80 - ETA: 0s - loss: 0.4314 - accuracy: 0.80 - ETA: 0s - loss: 0.4312 - accuracy: 0.80 - ETA: 0s - loss: 0.4307 - accuracy: 0.80 - ETA: 0s - loss: 0.4305 - accuracy: 0.80 - ETA: 0s - loss: 0.4296 - accuracy: 0.80 - ETA: 0s - loss: 0.4296 - accuracy: 0.80 - ETA: 0s - loss: 0.4287 - accuracy: 0.80 - ETA: 0s - loss: 0.4283 - accuracy: 0.80 - ETA: 0s - loss: 0.4276 - accuracy: 0.80 - ETA: 0s - loss: 0.4271 - accuracy: 0.80 - ETA: 0s - loss: 0.4269 - accuracy: 0.80 - ETA: 0s - loss: 0.4264 - accuracy: 0.80 - ETA: 0s - loss: 0.4262 - accuracy: 0.80 - 6s 13ms/step - loss: 0.4262 - accuracy: 0.8098 - val_loss: 0.4593 - val_accuracy: 0.7806\n"
     ]
    },
    {
     "data": {
      "text/html": [
       "<span style=\"color:#4527A0\"><h1 style=\"font-size:18px\">Trial complete</h1></span>"
      ],
      "text/plain": [
       "<IPython.core.display.HTML object>"
      ]
     },
     "metadata": {},
     "output_type": "display_data"
    },
    {
     "data": {
      "text/html": [
       "<span style=\"color:#4527A0\"><h1 style=\"font-size:18px\">Trial summary</h1></span>"
      ],
      "text/plain": [
       "<IPython.core.display.HTML object>"
      ]
     },
     "metadata": {},
     "output_type": "display_data"
    },
    {
     "data": {
      "text/html": [
       "<span style=\"color:cyan\"> |-Trial ID: 71902ff3cb43fb0d2a5df26d5b5db778</span>"
      ],
      "text/plain": [
       "<IPython.core.display.HTML object>"
      ]
     },
     "metadata": {},
     "output_type": "display_data"
    },
    {
     "data": {
      "text/html": [
       "<span style=\"color:cyan\"> |-Score: 0.7806249856948853</span>"
      ],
      "text/plain": [
       "<IPython.core.display.HTML object>"
      ]
     },
     "metadata": {},
     "output_type": "display_data"
    },
    {
     "data": {
      "text/html": [
       "<span style=\"color:cyan\"> |-Best step: 0</span>"
      ],
      "text/plain": [
       "<IPython.core.display.HTML object>"
      ]
     },
     "metadata": {},
     "output_type": "display_data"
    },
    {
     "data": {
      "text/html": [
       "<span style=\"color:#7E57C2\"><h2 style=\"font-size:16px\">Hyperparameters:</h2></span>"
      ],
      "text/plain": [
       "<IPython.core.display.HTML object>"
      ]
     },
     "metadata": {},
     "output_type": "display_data"
    },
    {
     "data": {
      "text/html": [
       "<span style=\"color:cyan\"> |-dnn_decay_factor: 0.7</span>"
      ],
      "text/plain": [
       "<IPython.core.display.HTML object>"
      ]
     },
     "metadata": {},
     "output_type": "display_data"
    },
    {
     "data": {
      "text/html": [
       "<span style=\"color:blue\"> |-first_dnn_layer_size: 96</span>"
      ],
      "text/plain": [
       "<IPython.core.display.HTML object>"
      ]
     },
     "metadata": {},
     "output_type": "display_data"
    },
    {
     "data": {
      "text/html": [
       "<span style=\"color:cyan\"> |-learning_rate: 0.001</span>"
      ],
      "text/plain": [
       "<IPython.core.display.HTML object>"
      ]
     },
     "metadata": {},
     "output_type": "display_data"
    },
    {
     "data": {
      "text/html": [
       "<span style=\"color:blue\"> |-num_dnn_layers: 3</span>"
      ],
      "text/plain": [
       "<IPython.core.display.HTML object>"
      ]
     },
     "metadata": {},
     "output_type": "display_data"
    },
    {
     "name": "stderr",
     "output_type": "stream",
     "text": [
      "INFO:absl:Model: \"functional_1\"\n",
      "INFO:absl:__________________________________________________________________________________________________\n",
      "INFO:absl:Layer (type)                    Output Shape         Param #     Connected to                     \n",
      "INFO:absl:==================================================================================================\n",
      "INFO:absl:Age (InputLayer)                [(None,)]            0                                            \n",
      "INFO:absl:__________________________________________________________________________________________________\n",
      "INFO:absl:Embarked (InputLayer)           [(None,)]            0                                            \n",
      "INFO:absl:__________________________________________________________________________________________________\n",
      "INFO:absl:Fare (InputLayer)               [(None,)]            0                                            \n",
      "INFO:absl:__________________________________________________________________________________________________\n",
      "INFO:absl:Parch (InputLayer)              [(None,)]            0                                            \n",
      "INFO:absl:__________________________________________________________________________________________________\n",
      "INFO:absl:Pclass (InputLayer)             [(None,)]            0                                            \n",
      "INFO:absl:__________________________________________________________________________________________________\n",
      "INFO:absl:Sex (InputLayer)                [(None,)]            0                                            \n",
      "INFO:absl:__________________________________________________________________________________________________\n",
      "INFO:absl:SibSp (InputLayer)              [(None,)]            0                                            \n",
      "INFO:absl:__________________________________________________________________________________________________\n",
      "INFO:absl:deep_inputs (DenseFeatures)     (None, 3036)         0           Age[0][0]                        \n",
      "INFO:absl:                                                                 Embarked[0][0]                   \n",
      "INFO:absl:                                                                 Fare[0][0]                       \n",
      "INFO:absl:                                                                 Parch[0][0]                      \n",
      "INFO:absl:                                                                 Pclass[0][0]                     \n",
      "INFO:absl:                                                                 Sex[0][0]                        \n",
      "INFO:absl:                                                                 SibSp[0][0]                      \n",
      "INFO:absl:__________________________________________________________________________________________________\n",
      "INFO:absl:dnn_1 (Dense)                   (None, 96)           291552      deep_inputs[0][0]                \n",
      "INFO:absl:__________________________________________________________________________________________________\n",
      "INFO:absl:wide_inputs (DenseFeatures)     (None, 2)            0           Age[0][0]                        \n",
      "INFO:absl:                                                                 Embarked[0][0]                   \n",
      "INFO:absl:                                                                 Fare[0][0]                       \n",
      "INFO:absl:                                                                 Parch[0][0]                      \n",
      "INFO:absl:                                                                 Pclass[0][0]                     \n",
      "INFO:absl:                                                                 Sex[0][0]                        \n",
      "INFO:absl:                                                                 SibSp[0][0]                      \n",
      "INFO:absl:__________________________________________________________________________________________________\n",
      "INFO:absl:both (Concatenate)              (None, 98)           0           dnn_1[0][0]                      \n",
      "INFO:absl:                                                                 wide_inputs[0][0]                \n",
      "INFO:absl:__________________________________________________________________________________________________\n",
      "INFO:absl:pred (Dense)                    (None, 1)            99          both[0][0]                       \n",
      "INFO:absl:==================================================================================================\n",
      "INFO:absl:Total params: 291,651\n",
      "INFO:absl:Trainable params: 291,651\n",
      "INFO:absl:Non-trainable params: 0\n",
      "INFO:absl:__________________________________________________________________________________________________\n"
     ]
    },
    {
     "name": "stdout",
     "output_type": "stream",
     "text": [
      "500/500 [==============================] - ETA: 0s - loss: 0.6962 - accuracy: 0.45 - ETA: 5s - loss: 0.6167 - accuracy: 0.62 - ETA: 5s - loss: 0.5739 - accuracy: 0.67 - ETA: 5s - loss: 0.5595 - accuracy: 0.71 - ETA: 5s - loss: 0.5432 - accuracy: 0.72 - ETA: 5s - loss: 0.5272 - accuracy: 0.74 - ETA: 5s - loss: 0.5182 - accuracy: 0.75 - ETA: 5s - loss: 0.5059 - accuracy: 0.76 - ETA: 5s - loss: 0.4978 - accuracy: 0.76 - ETA: 4s - loss: 0.4922 - accuracy: 0.76 - ETA: 4s - loss: 0.4871 - accuracy: 0.77 - ETA: 4s - loss: 0.4824 - accuracy: 0.77 - ETA: 4s - loss: 0.4783 - accuracy: 0.77 - ETA: 4s - loss: 0.4742 - accuracy: 0.78 - ETA: 4s - loss: 0.4706 - accuracy: 0.78 - ETA: 4s - loss: 0.4665 - accuracy: 0.78 - ETA: 4s - loss: 0.4631 - accuracy: 0.78 - ETA: 4s - loss: 0.4624 - accuracy: 0.78 - ETA: 3s - loss: 0.4576 - accuracy: 0.79 - ETA: 3s - loss: 0.4558 - accuracy: 0.79 - ETA: 3s - loss: 0.4555 - accuracy: 0.79 - ETA: 3s - loss: 0.4524 - accuracy: 0.79 - ETA: 3s - loss: 0.4493 - accuracy: 0.79 - ETA: 3s - loss: 0.4468 - accuracy: 0.80 - ETA: 3s - loss: 0.4452 - accuracy: 0.80 - ETA: 3s - loss: 0.4454 - accuracy: 0.80 - ETA: 3s - loss: 0.4436 - accuracy: 0.80 - ETA: 3s - loss: 0.4417 - accuracy: 0.80 - ETA: 3s - loss: 0.4402 - accuracy: 0.80 - ETA: 3s - loss: 0.4418 - accuracy: 0.80 - ETA: 3s - loss: 0.4387 - accuracy: 0.80 - ETA: 2s - loss: 0.4374 - accuracy: 0.80 - ETA: 2s - loss: 0.4360 - accuracy: 0.80 - ETA: 2s - loss: 0.4350 - accuracy: 0.80 - ETA: 2s - loss: 0.4339 - accuracy: 0.80 - ETA: 2s - loss: 0.4334 - accuracy: 0.80 - ETA: 2s - loss: 0.4324 - accuracy: 0.81 - ETA: 2s - loss: 0.4298 - accuracy: 0.81 - ETA: 2s - loss: 0.4295 - accuracy: 0.81 - ETA: 2s - loss: 0.4285 - accuracy: 0.81 - ETA: 2s - loss: 0.4281 - accuracy: 0.81 - ETA: 2s - loss: 0.4276 - accuracy: 0.81 - ETA: 2s - loss: 0.4276 - accuracy: 0.81 - ETA: 2s - loss: 0.4262 - accuracy: 0.81 - ETA: 2s - loss: 0.4250 - accuracy: 0.81 - ETA: 2s - loss: 0.4252 - accuracy: 0.81 - ETA: 2s - loss: 0.4245 - accuracy: 0.81 - ETA: 2s - loss: 0.4239 - accuracy: 0.81 - ETA: 1s - loss: 0.4234 - accuracy: 0.81 - ETA: 1s - loss: 0.4230 - accuracy: 0.81 - ETA: 1s - loss: 0.4224 - accuracy: 0.81 - ETA: 1s - loss: 0.4215 - accuracy: 0.81 - ETA: 1s - loss: 0.4214 - accuracy: 0.81 - ETA: 1s - loss: 0.4203 - accuracy: 0.81 - ETA: 1s - loss: 0.4198 - accuracy: 0.81 - ETA: 1s - loss: 0.4194 - accuracy: 0.81 - ETA: 1s - loss: 0.4192 - accuracy: 0.81 - ETA: 1s - loss: 0.4181 - accuracy: 0.81 - ETA: 1s - loss: 0.4173 - accuracy: 0.81 - ETA: 1s - loss: 0.4168 - accuracy: 0.81 - ETA: 1s - loss: 0.4170 - accuracy: 0.81 - ETA: 1s - loss: 0.4163 - accuracy: 0.81 - ETA: 1s - loss: 0.4164 - accuracy: 0.81 - ETA: 0s - loss: 0.4161 - accuracy: 0.81 - ETA: 0s - loss: 0.4152 - accuracy: 0.81 - ETA: 0s - loss: 0.4152 - accuracy: 0.81 - ETA: 0s - loss: 0.4147 - accuracy: 0.81 - ETA: 0s - loss: 0.4142 - accuracy: 0.81 - ETA: 0s - loss: 0.4139 - accuracy: 0.81 - ETA: 0s - loss: 0.4134 - accuracy: 0.81 - ETA: 0s - loss: 0.4127 - accuracy: 0.81 - ETA: 0s - loss: 0.4132 - accuracy: 0.81 - ETA: 0s - loss: 0.4129 - accuracy: 0.81 - ETA: 0s - loss: 0.4128 - accuracy: 0.81 - ETA: 0s - loss: 0.4120 - accuracy: 0.81 - ETA: 0s - loss: 0.4125 - accuracy: 0.81 - ETA: 0s - loss: 0.4120 - accuracy: 0.81 - ETA: 0s - loss: 0.4119 - accuracy: 0.82 - ETA: 0s - loss: 0.4113 - accuracy: 0.82 - ETA: 0s - loss: 0.4112 - accuracy: 0.82 - ETA: 0s - loss: 0.4113 - accuracy: 0.82 - ETA: 0s - loss: 0.4111 - accuracy: 0.82 - ETA: 0s - loss: 0.4101 - accuracy: 0.82 - 6s 12ms/step - loss: 0.4101 - accuracy: 0.8209 - val_loss: 0.4779 - val_accuracy: 0.7861\n"
     ]
    },
    {
     "data": {
      "text/html": [
       "<span style=\"color:#4527A0\"><h1 style=\"font-size:18px\">Trial complete</h1></span>"
      ],
      "text/plain": [
       "<IPython.core.display.HTML object>"
      ]
     },
     "metadata": {},
     "output_type": "display_data"
    },
    {
     "data": {
      "text/html": [
       "<span style=\"color:#4527A0\"><h1 style=\"font-size:18px\">Trial summary</h1></span>"
      ],
      "text/plain": [
       "<IPython.core.display.HTML object>"
      ]
     },
     "metadata": {},
     "output_type": "display_data"
    },
    {
     "data": {
      "text/html": [
       "<span style=\"color:cyan\"> |-Trial ID: 492b60bb734ccfbea958050348f717de</span>"
      ],
      "text/plain": [
       "<IPython.core.display.HTML object>"
      ]
     },
     "metadata": {},
     "output_type": "display_data"
    },
    {
     "data": {
      "text/html": [
       "<span style=\"color:cyan\"> |-Score: 0.7860937714576721</span>"
      ],
      "text/plain": [
       "<IPython.core.display.HTML object>"
      ]
     },
     "metadata": {},
     "output_type": "display_data"
    },
    {
     "data": {
      "text/html": [
       "<span style=\"color:cyan\"> |-Best step: 0</span>"
      ],
      "text/plain": [
       "<IPython.core.display.HTML object>"
      ]
     },
     "metadata": {},
     "output_type": "display_data"
    },
    {
     "data": {
      "text/html": [
       "<span style=\"color:#7E57C2\"><h2 style=\"font-size:16px\">Hyperparameters:</h2></span>"
      ],
      "text/plain": [
       "<IPython.core.display.HTML object>"
      ]
     },
     "metadata": {},
     "output_type": "display_data"
    },
    {
     "data": {
      "text/html": [
       "<span style=\"color:cyan\"> |-dnn_decay_factor: 0.4</span>"
      ],
      "text/plain": [
       "<IPython.core.display.HTML object>"
      ]
     },
     "metadata": {},
     "output_type": "display_data"
    },
    {
     "data": {
      "text/html": [
       "<span style=\"color:blue\"> |-first_dnn_layer_size: 96</span>"
      ],
      "text/plain": [
       "<IPython.core.display.HTML object>"
      ]
     },
     "metadata": {},
     "output_type": "display_data"
    },
    {
     "data": {
      "text/html": [
       "<span style=\"color:cyan\"> |-learning_rate: 0.01</span>"
      ],
      "text/plain": [
       "<IPython.core.display.HTML object>"
      ]
     },
     "metadata": {},
     "output_type": "display_data"
    },
    {
     "data": {
      "text/html": [
       "<span style=\"color:blue\"> |-num_dnn_layers: 1</span>"
      ],
      "text/plain": [
       "<IPython.core.display.HTML object>"
      ]
     },
     "metadata": {},
     "output_type": "display_data"
    },
    {
     "name": "stderr",
     "output_type": "stream",
     "text": [
      "INFO:absl:Model: \"functional_1\"\n",
      "INFO:absl:__________________________________________________________________________________________________\n",
      "INFO:absl:Layer (type)                    Output Shape         Param #     Connected to                     \n",
      "INFO:absl:==================================================================================================\n",
      "INFO:absl:Age (InputLayer)                [(None,)]            0                                            \n",
      "INFO:absl:__________________________________________________________________________________________________\n",
      "INFO:absl:Embarked (InputLayer)           [(None,)]            0                                            \n",
      "INFO:absl:__________________________________________________________________________________________________\n",
      "INFO:absl:Fare (InputLayer)               [(None,)]            0                                            \n",
      "INFO:absl:__________________________________________________________________________________________________\n",
      "INFO:absl:Parch (InputLayer)              [(None,)]            0                                            \n",
      "INFO:absl:__________________________________________________________________________________________________\n",
      "INFO:absl:Pclass (InputLayer)             [(None,)]            0                                            \n",
      "INFO:absl:__________________________________________________________________________________________________\n",
      "INFO:absl:Sex (InputLayer)                [(None,)]            0                                            \n",
      "INFO:absl:__________________________________________________________________________________________________\n",
      "INFO:absl:SibSp (InputLayer)              [(None,)]            0                                            \n",
      "INFO:absl:__________________________________________________________________________________________________\n",
      "INFO:absl:deep_inputs (DenseFeatures)     (None, 3036)         0           Age[0][0]                        \n",
      "INFO:absl:                                                                 Embarked[0][0]                   \n",
      "INFO:absl:                                                                 Fare[0][0]                       \n",
      "INFO:absl:                                                                 Parch[0][0]                      \n",
      "INFO:absl:                                                                 Pclass[0][0]                     \n",
      "INFO:absl:                                                                 Sex[0][0]                        \n",
      "INFO:absl:                                                                 SibSp[0][0]                      \n",
      "INFO:absl:__________________________________________________________________________________________________\n",
      "INFO:absl:dnn_1 (Dense)                   (None, 64)           194368      deep_inputs[0][0]                \n",
      "INFO:absl:__________________________________________________________________________________________________\n",
      "INFO:absl:wide_inputs (DenseFeatures)     (None, 2)            0           Age[0][0]                        \n",
      "INFO:absl:                                                                 Embarked[0][0]                   \n",
      "INFO:absl:                                                                 Fare[0][0]                       \n",
      "INFO:absl:                                                                 Parch[0][0]                      \n",
      "INFO:absl:                                                                 Pclass[0][0]                     \n",
      "INFO:absl:                                                                 Sex[0][0]                        \n",
      "INFO:absl:                                                                 SibSp[0][0]                      \n",
      "INFO:absl:__________________________________________________________________________________________________\n",
      "INFO:absl:both (Concatenate)              (None, 66)           0           dnn_1[0][0]                      \n",
      "INFO:absl:                                                                 wide_inputs[0][0]                \n",
      "INFO:absl:__________________________________________________________________________________________________\n",
      "INFO:absl:pred (Dense)                    (None, 1)            67          both[0][0]                       \n",
      "INFO:absl:==================================================================================================\n",
      "INFO:absl:Total params: 194,435\n",
      "INFO:absl:Trainable params: 194,435\n",
      "INFO:absl:Non-trainable params: 0\n",
      "INFO:absl:__________________________________________________________________________________________________\n"
     ]
    },
    {
     "name": "stdout",
     "output_type": "stream",
     "text": [
      "500/500 [==============================] - ETA: 0s - loss: 0.7453 - accuracy: 0.37 - ETA: 3s - loss: 0.7043 - accuracy: 0.55 - ETA: 3s - loss: 0.6640 - accuracy: 0.62 - ETA: 3s - loss: 0.6201 - accuracy: 0.68 - ETA: 3s - loss: 0.5841 - accuracy: 0.70 - ETA: 3s - loss: 0.5578 - accuracy: 0.72 - ETA: 3s - loss: 0.5450 - accuracy: 0.73 - ETA: 2s - loss: 0.5316 - accuracy: 0.74 - ETA: 3s - loss: 0.5204 - accuracy: 0.74 - ETA: 3s - loss: 0.5168 - accuracy: 0.75 - ETA: 3s - loss: 0.5107 - accuracy: 0.75 - ETA: 3s - loss: 0.5059 - accuracy: 0.75 - ETA: 3s - loss: 0.5017 - accuracy: 0.76 - ETA: 3s - loss: 0.4986 - accuracy: 0.76 - ETA: 3s - loss: 0.4951 - accuracy: 0.76 - ETA: 3s - loss: 0.4919 - accuracy: 0.76 - ETA: 3s - loss: 0.4913 - accuracy: 0.76 - ETA: 3s - loss: 0.4898 - accuracy: 0.77 - ETA: 3s - loss: 0.4883 - accuracy: 0.77 - ETA: 3s - loss: 0.4850 - accuracy: 0.77 - ETA: 3s - loss: 0.4843 - accuracy: 0.77 - ETA: 3s - loss: 0.4839 - accuracy: 0.77 - ETA: 3s - loss: 0.4819 - accuracy: 0.77 - ETA: 3s - loss: 0.4810 - accuracy: 0.77 - ETA: 3s - loss: 0.4787 - accuracy: 0.77 - ETA: 3s - loss: 0.4771 - accuracy: 0.77 - ETA: 3s - loss: 0.4745 - accuracy: 0.78 - ETA: 3s - loss: 0.4742 - accuracy: 0.78 - ETA: 3s - loss: 0.4738 - accuracy: 0.78 - ETA: 3s - loss: 0.4725 - accuracy: 0.78 - ETA: 3s - loss: 0.4704 - accuracy: 0.78 - ETA: 3s - loss: 0.4697 - accuracy: 0.78 - ETA: 3s - loss: 0.4689 - accuracy: 0.78 - ETA: 3s - loss: 0.4676 - accuracy: 0.78 - ETA: 2s - loss: 0.4665 - accuracy: 0.78 - ETA: 2s - loss: 0.4648 - accuracy: 0.78 - ETA: 2s - loss: 0.4639 - accuracy: 0.78 - ETA: 2s - loss: 0.4629 - accuracy: 0.78 - ETA: 2s - loss: 0.4624 - accuracy: 0.78 - ETA: 2s - loss: 0.4617 - accuracy: 0.78 - ETA: 2s - loss: 0.4616 - accuracy: 0.78 - ETA: 2s - loss: 0.4609 - accuracy: 0.78 - ETA: 2s - loss: 0.4605 - accuracy: 0.78 - ETA: 2s - loss: 0.4599 - accuracy: 0.78 - ETA: 2s - loss: 0.4586 - accuracy: 0.79 - ETA: 2s - loss: 0.4580 - accuracy: 0.79 - ETA: 2s - loss: 0.4575 - accuracy: 0.79 - ETA: 2s - loss: 0.4567 - accuracy: 0.79 - ETA: 2s - loss: 0.4566 - accuracy: 0.79 - ETA: 2s - loss: 0.4554 - accuracy: 0.79 - ETA: 2s - loss: 0.4539 - accuracy: 0.79 - ETA: 2s - loss: 0.4535 - accuracy: 0.79 - ETA: 2s - loss: 0.4529 - accuracy: 0.79 - ETA: 2s - loss: 0.4522 - accuracy: 0.79 - ETA: 2s - loss: 0.4512 - accuracy: 0.79 - ETA: 2s - loss: 0.4509 - accuracy: 0.79 - ETA: 2s - loss: 0.4502 - accuracy: 0.79 - ETA: 1s - loss: 0.4496 - accuracy: 0.79 - ETA: 1s - loss: 0.4488 - accuracy: 0.79 - ETA: 1s - loss: 0.4484 - accuracy: 0.79 - ETA: 1s - loss: 0.4476 - accuracy: 0.79 - ETA: 1s - loss: 0.4469 - accuracy: 0.79 - ETA: 1s - loss: 0.4470 - accuracy: 0.79 - ETA: 1s - loss: 0.4467 - accuracy: 0.79 - ETA: 1s - loss: 0.4461 - accuracy: 0.79 - ETA: 1s - loss: 0.4455 - accuracy: 0.80 - ETA: 1s - loss: 0.4445 - accuracy: 0.80 - ETA: 1s - loss: 0.4441 - accuracy: 0.80 - ETA: 1s - loss: 0.4431 - accuracy: 0.80 - ETA: 1s - loss: 0.4428 - accuracy: 0.80 - ETA: 1s - loss: 0.4427 - accuracy: 0.80 - ETA: 1s - loss: 0.4422 - accuracy: 0.80 - ETA: 1s - loss: 0.4420 - accuracy: 0.80 - ETA: 1s - loss: 0.4414 - accuracy: 0.80 - ETA: 0s - loss: 0.4415 - accuracy: 0.80 - ETA: 0s - loss: 0.4406 - accuracy: 0.80 - ETA: 0s - loss: 0.4401 - accuracy: 0.80 - ETA: 0s - loss: 0.4397 - accuracy: 0.80 - ETA: 0s - loss: 0.4387 - accuracy: 0.80 - ETA: 0s - loss: 0.4390 - accuracy: 0.80 - ETA: 0s - loss: 0.4392 - accuracy: 0.80 - ETA: 0s - loss: 0.4386 - accuracy: 0.80 - ETA: 0s - loss: 0.4384 - accuracy: 0.80 - ETA: 0s - loss: 0.4377 - accuracy: 0.80 - ETA: 0s - loss: 0.4374 - accuracy: 0.80 - ETA: 0s - loss: 0.4372 - accuracy: 0.80 - ETA: 0s - loss: 0.4372 - accuracy: 0.80 - ETA: 0s - loss: 0.4367 - accuracy: 0.80 - ETA: 0s - loss: 0.4362 - accuracy: 0.80 - ETA: 0s - loss: 0.4363 - accuracy: 0.80 - ETA: 0s - loss: 0.4358 - accuracy: 0.80 - ETA: 0s - loss: 0.4354 - accuracy: 0.80 - ETA: 0s - loss: 0.4354 - accuracy: 0.80 - ETA: 0s - loss: 0.4354 - accuracy: 0.80 - ETA: 0s - loss: 0.4348 - accuracy: 0.80 - 7s 13ms/step - loss: 0.4348 - accuracy: 0.8082 - val_loss: 0.4469 - val_accuracy: 0.7797\n"
     ]
    },
    {
     "data": {
      "text/html": [
       "<span style=\"color:#4527A0\"><h1 style=\"font-size:18px\">Trial complete</h1></span>"
      ],
      "text/plain": [
       "<IPython.core.display.HTML object>"
      ]
     },
     "metadata": {},
     "output_type": "display_data"
    },
    {
     "data": {
      "text/html": [
       "<span style=\"color:#4527A0\"><h1 style=\"font-size:18px\">Trial summary</h1></span>"
      ],
      "text/plain": [
       "<IPython.core.display.HTML object>"
      ]
     },
     "metadata": {},
     "output_type": "display_data"
    },
    {
     "data": {
      "text/html": [
       "<span style=\"color:cyan\"> |-Trial ID: a65b1672a0a9c14881257424ec4d0410</span>"
      ],
      "text/plain": [
       "<IPython.core.display.HTML object>"
      ]
     },
     "metadata": {},
     "output_type": "display_data"
    },
    {
     "data": {
      "text/html": [
       "<span style=\"color:cyan\"> |-Score: 0.7796875238418579</span>"
      ],
      "text/plain": [
       "<IPython.core.display.HTML object>"
      ]
     },
     "metadata": {},
     "output_type": "display_data"
    },
    {
     "data": {
      "text/html": [
       "<span style=\"color:cyan\"> |-Best step: 0</span>"
      ],
      "text/plain": [
       "<IPython.core.display.HTML object>"
      ]
     },
     "metadata": {},
     "output_type": "display_data"
    },
    {
     "data": {
      "text/html": [
       "<span style=\"color:#7E57C2\"><h2 style=\"font-size:16px\">Hyperparameters:</h2></span>"
      ],
      "text/plain": [
       "<IPython.core.display.HTML object>"
      ]
     },
     "metadata": {},
     "output_type": "display_data"
    },
    {
     "data": {
      "text/html": [
       "<span style=\"color:cyan\"> |-dnn_decay_factor: 0.6</span>"
      ],
      "text/plain": [
       "<IPython.core.display.HTML object>"
      ]
     },
     "metadata": {},
     "output_type": "display_data"
    },
    {
     "data": {
      "text/html": [
       "<span style=\"color:blue\"> |-first_dnn_layer_size: 64</span>"
      ],
      "text/plain": [
       "<IPython.core.display.HTML object>"
      ]
     },
     "metadata": {},
     "output_type": "display_data"
    },
    {
     "data": {
      "text/html": [
       "<span style=\"color:cyan\"> |-learning_rate: 0.003</span>"
      ],
      "text/plain": [
       "<IPython.core.display.HTML object>"
      ]
     },
     "metadata": {},
     "output_type": "display_data"
    },
    {
     "data": {
      "text/html": [
       "<span style=\"color:blue\"> |-num_dnn_layers: 1</span>"
      ],
      "text/plain": [
       "<IPython.core.display.HTML object>"
      ]
     },
     "metadata": {},
     "output_type": "display_data"
    },
    {
     "name": "stderr",
     "output_type": "stream",
     "text": [
      "INFO:absl:Model: \"functional_1\"\n",
      "INFO:absl:__________________________________________________________________________________________________\n",
      "INFO:absl:Layer (type)                    Output Shape         Param #     Connected to                     \n",
      "INFO:absl:==================================================================================================\n",
      "INFO:absl:Age (InputLayer)                [(None,)]            0                                            \n",
      "INFO:absl:__________________________________________________________________________________________________\n",
      "INFO:absl:Embarked (InputLayer)           [(None,)]            0                                            \n",
      "INFO:absl:__________________________________________________________________________________________________\n",
      "INFO:absl:Fare (InputLayer)               [(None,)]            0                                            \n",
      "INFO:absl:__________________________________________________________________________________________________\n",
      "INFO:absl:Parch (InputLayer)              [(None,)]            0                                            \n",
      "INFO:absl:__________________________________________________________________________________________________\n",
      "INFO:absl:Pclass (InputLayer)             [(None,)]            0                                            \n",
      "INFO:absl:__________________________________________________________________________________________________\n",
      "INFO:absl:Sex (InputLayer)                [(None,)]            0                                            \n",
      "INFO:absl:__________________________________________________________________________________________________\n",
      "INFO:absl:SibSp (InputLayer)              [(None,)]            0                                            \n",
      "INFO:absl:__________________________________________________________________________________________________\n",
      "INFO:absl:deep_inputs (DenseFeatures)     (None, 3036)         0           Age[0][0]                        \n",
      "INFO:absl:                                                                 Embarked[0][0]                   \n",
      "INFO:absl:                                                                 Fare[0][0]                       \n",
      "INFO:absl:                                                                 Parch[0][0]                      \n",
      "INFO:absl:                                                                 Pclass[0][0]                     \n",
      "INFO:absl:                                                                 Sex[0][0]                        \n",
      "INFO:absl:                                                                 SibSp[0][0]                      \n",
      "INFO:absl:__________________________________________________________________________________________________\n",
      "INFO:absl:dnn_1 (Dense)                   (None, 128)          388736      deep_inputs[0][0]                \n",
      "INFO:absl:__________________________________________________________________________________________________\n",
      "INFO:absl:wide_inputs (DenseFeatures)     (None, 2)            0           Age[0][0]                        \n",
      "INFO:absl:                                                                 Embarked[0][0]                   \n",
      "INFO:absl:                                                                 Fare[0][0]                       \n",
      "INFO:absl:                                                                 Parch[0][0]                      \n",
      "INFO:absl:                                                                 Pclass[0][0]                     \n",
      "INFO:absl:                                                                 Sex[0][0]                        \n",
      "INFO:absl:                                                                 SibSp[0][0]                      \n",
      "INFO:absl:__________________________________________________________________________________________________\n",
      "INFO:absl:both (Concatenate)              (None, 130)          0           dnn_1[0][0]                      \n",
      "INFO:absl:                                                                 wide_inputs[0][0]                \n",
      "INFO:absl:__________________________________________________________________________________________________\n",
      "INFO:absl:pred (Dense)                    (None, 1)            131         both[0][0]                       \n",
      "INFO:absl:==================================================================================================\n",
      "INFO:absl:Total params: 388,867\n",
      "INFO:absl:Trainable params: 388,867\n",
      "INFO:absl:Non-trainable params: 0\n",
      "INFO:absl:__________________________________________________________________________________________________\n"
     ]
    },
    {
     "name": "stdout",
     "output_type": "stream",
     "text": [
      "500/500 [==============================] - ETA: 0s - loss: 0.7235 - accuracy: 0.42 - ETA: 5s - loss: 0.6761 - accuracy: 0.55 - ETA: 4s - loss: 0.5834 - accuracy: 0.68 - ETA: 4s - loss: 0.5440 - accuracy: 0.71 - ETA: 4s - loss: 0.5313 - accuracy: 0.73 - ETA: 4s - loss: 0.5205 - accuracy: 0.74 - ETA: 4s - loss: 0.5115 - accuracy: 0.75 - ETA: 4s - loss: 0.4985 - accuracy: 0.76 - ETA: 4s - loss: 0.4953 - accuracy: 0.76 - ETA: 4s - loss: 0.4933 - accuracy: 0.76 - ETA: 4s - loss: 0.4887 - accuracy: 0.76 - ETA: 4s - loss: 0.4791 - accuracy: 0.77 - ETA: 4s - loss: 0.4792 - accuracy: 0.77 - ETA: 4s - loss: 0.4729 - accuracy: 0.77 - ETA: 4s - loss: 0.4680 - accuracy: 0.78 - ETA: 3s - loss: 0.4671 - accuracy: 0.78 - ETA: 3s - loss: 0.4643 - accuracy: 0.78 - ETA: 3s - loss: 0.4589 - accuracy: 0.78 - ETA: 3s - loss: 0.4573 - accuracy: 0.78 - ETA: 3s - loss: 0.4569 - accuracy: 0.78 - ETA: 3s - loss: 0.4536 - accuracy: 0.79 - ETA: 3s - loss: 0.4531 - accuracy: 0.79 - ETA: 3s - loss: 0.4510 - accuracy: 0.79 - ETA: 3s - loss: 0.4507 - accuracy: 0.79 - ETA: 3s - loss: 0.4490 - accuracy: 0.79 - ETA: 3s - loss: 0.4475 - accuracy: 0.79 - ETA: 3s - loss: 0.4467 - accuracy: 0.79 - ETA: 3s - loss: 0.4464 - accuracy: 0.79 - ETA: 3s - loss: 0.4418 - accuracy: 0.80 - ETA: 3s - loss: 0.4416 - accuracy: 0.80 - ETA: 3s - loss: 0.4405 - accuracy: 0.80 - ETA: 3s - loss: 0.4390 - accuracy: 0.80 - ETA: 3s - loss: 0.4388 - accuracy: 0.80 - ETA: 3s - loss: 0.4380 - accuracy: 0.80 - ETA: 3s - loss: 0.4370 - accuracy: 0.80 - ETA: 3s - loss: 0.4363 - accuracy: 0.80 - ETA: 2s - loss: 0.4355 - accuracy: 0.80 - ETA: 2s - loss: 0.4346 - accuracy: 0.80 - ETA: 2s - loss: 0.4343 - accuracy: 0.80 - ETA: 2s - loss: 0.4342 - accuracy: 0.80 - ETA: 2s - loss: 0.4333 - accuracy: 0.80 - ETA: 2s - loss: 0.4315 - accuracy: 0.80 - ETA: 2s - loss: 0.4309 - accuracy: 0.80 - ETA: 2s - loss: 0.4304 - accuracy: 0.80 - ETA: 2s - loss: 0.4300 - accuracy: 0.80 - ETA: 2s - loss: 0.4296 - accuracy: 0.80 - ETA: 2s - loss: 0.4287 - accuracy: 0.80 - ETA: 2s - loss: 0.4270 - accuracy: 0.81 - ETA: 2s - loss: 0.4269 - accuracy: 0.81 - ETA: 2s - loss: 0.4264 - accuracy: 0.81 - ETA: 2s - loss: 0.4257 - accuracy: 0.81 - ETA: 2s - loss: 0.4253 - accuracy: 0.81 - ETA: 2s - loss: 0.4248 - accuracy: 0.81 - ETA: 1s - loss: 0.4239 - accuracy: 0.81 - ETA: 1s - loss: 0.4237 - accuracy: 0.81 - ETA: 1s - loss: 0.4228 - accuracy: 0.81 - ETA: 1s - loss: 0.4218 - accuracy: 0.81 - ETA: 1s - loss: 0.4221 - accuracy: 0.81 - ETA: 1s - loss: 0.4214 - accuracy: 0.81 - ETA: 1s - loss: 0.4222 - accuracy: 0.81 - ETA: 1s - loss: 0.4212 - accuracy: 0.81 - ETA: 1s - loss: 0.4211 - accuracy: 0.81 - ETA: 1s - loss: 0.4206 - accuracy: 0.81 - ETA: 1s - loss: 0.4204 - accuracy: 0.81 - ETA: 1s - loss: 0.4198 - accuracy: 0.81 - ETA: 1s - loss: 0.4189 - accuracy: 0.81 - ETA: 1s - loss: 0.4189 - accuracy: 0.81 - ETA: 1s - loss: 0.4182 - accuracy: 0.81 - ETA: 1s - loss: 0.4177 - accuracy: 0.81 - ETA: 1s - loss: 0.4173 - accuracy: 0.81 - ETA: 0s - loss: 0.4170 - accuracy: 0.81 - ETA: 0s - loss: 0.4162 - accuracy: 0.81 - ETA: 0s - loss: 0.4165 - accuracy: 0.81 - ETA: 0s - loss: 0.4163 - accuracy: 0.81 - ETA: 0s - loss: 0.4162 - accuracy: 0.81 - ETA: 0s - loss: 0.4154 - accuracy: 0.81 - ETA: 0s - loss: 0.4155 - accuracy: 0.81 - ETA: 0s - loss: 0.4152 - accuracy: 0.81 - ETA: 0s - loss: 0.4149 - accuracy: 0.81 - ETA: 0s - loss: 0.4135 - accuracy: 0.81 - ETA: 0s - loss: 0.4139 - accuracy: 0.81 - ETA: 0s - loss: 0.4129 - accuracy: 0.81 - ETA: 0s - loss: 0.4134 - accuracy: 0.81 - ETA: 0s - loss: 0.4135 - accuracy: 0.81 - ETA: 0s - loss: 0.4129 - accuracy: 0.81 - ETA: 0s - loss: 0.4127 - accuracy: 0.81 - ETA: 0s - loss: 0.4121 - accuracy: 0.81 - ETA: 0s - loss: 0.4121 - accuracy: 0.81 - ETA: 0s - loss: 0.4118 - accuracy: 0.81 - 6s 12ms/step - loss: 0.4120 - accuracy: 0.8192 - val_loss: 0.4936 - val_accuracy: 0.7548\n"
     ]
    },
    {
     "data": {
      "text/html": [
       "<span style=\"color:#4527A0\"><h1 style=\"font-size:18px\">Trial complete</h1></span>"
      ],
      "text/plain": [
       "<IPython.core.display.HTML object>"
      ]
     },
     "metadata": {},
     "output_type": "display_data"
    },
    {
     "data": {
      "text/html": [
       "<span style=\"color:#4527A0\"><h1 style=\"font-size:18px\">Trial summary</h1></span>"
      ],
      "text/plain": [
       "<IPython.core.display.HTML object>"
      ]
     },
     "metadata": {},
     "output_type": "display_data"
    },
    {
     "data": {
      "text/html": [
       "<span style=\"color:cyan\"> |-Trial ID: f15e293286c03ec4fe3823e3b4f612c2</span>"
      ],
      "text/plain": [
       "<IPython.core.display.HTML object>"
      ]
     },
     "metadata": {},
     "output_type": "display_data"
    },
    {
     "data": {
      "text/html": [
       "<span style=\"color:cyan\"> |-Score: 0.7548437714576721</span>"
      ],
      "text/plain": [
       "<IPython.core.display.HTML object>"
      ]
     },
     "metadata": {},
     "output_type": "display_data"
    },
    {
     "data": {
      "text/html": [
       "<span style=\"color:cyan\"> |-Best step: 0</span>"
      ],
      "text/plain": [
       "<IPython.core.display.HTML object>"
      ]
     },
     "metadata": {},
     "output_type": "display_data"
    },
    {
     "data": {
      "text/html": [
       "<span style=\"color:#7E57C2\"><h2 style=\"font-size:16px\">Hyperparameters:</h2></span>"
      ],
      "text/plain": [
       "<IPython.core.display.HTML object>"
      ]
     },
     "metadata": {},
     "output_type": "display_data"
    },
    {
     "data": {
      "text/html": [
       "<span style=\"color:cyan\"> |-dnn_decay_factor: 0.4</span>"
      ],
      "text/plain": [
       "<IPython.core.display.HTML object>"
      ]
     },
     "metadata": {},
     "output_type": "display_data"
    },
    {
     "data": {
      "text/html": [
       "<span style=\"color:blue\"> |-first_dnn_layer_size: 128</span>"
      ],
      "text/plain": [
       "<IPython.core.display.HTML object>"
      ]
     },
     "metadata": {},
     "output_type": "display_data"
    },
    {
     "data": {
      "text/html": [
       "<span style=\"color:cyan\"> |-learning_rate: 0.01</span>"
      ],
      "text/plain": [
       "<IPython.core.display.HTML object>"
      ]
     },
     "metadata": {},
     "output_type": "display_data"
    },
    {
     "data": {
      "text/html": [
       "<span style=\"color:blue\"> |-num_dnn_layers: 1</span>"
      ],
      "text/plain": [
       "<IPython.core.display.HTML object>"
      ]
     },
     "metadata": {},
     "output_type": "display_data"
    },
    {
     "name": "stderr",
     "output_type": "stream",
     "text": [
      "INFO:absl:Model: \"functional_1\"\n",
      "INFO:absl:__________________________________________________________________________________________________\n",
      "INFO:absl:Layer (type)                    Output Shape         Param #     Connected to                     \n",
      "INFO:absl:==================================================================================================\n",
      "INFO:absl:Age (InputLayer)                [(None,)]            0                                            \n",
      "INFO:absl:__________________________________________________________________________________________________\n",
      "INFO:absl:Embarked (InputLayer)           [(None,)]            0                                            \n",
      "INFO:absl:__________________________________________________________________________________________________\n",
      "INFO:absl:Fare (InputLayer)               [(None,)]            0                                            \n",
      "INFO:absl:__________________________________________________________________________________________________\n",
      "INFO:absl:Parch (InputLayer)              [(None,)]            0                                            \n",
      "INFO:absl:__________________________________________________________________________________________________\n",
      "INFO:absl:Pclass (InputLayer)             [(None,)]            0                                            \n",
      "INFO:absl:__________________________________________________________________________________________________\n",
      "INFO:absl:Sex (InputLayer)                [(None,)]            0                                            \n",
      "INFO:absl:__________________________________________________________________________________________________\n",
      "INFO:absl:SibSp (InputLayer)              [(None,)]            0                                            \n",
      "INFO:absl:__________________________________________________________________________________________________\n",
      "INFO:absl:deep_inputs (DenseFeatures)     (None, 3036)         0           Age[0][0]                        \n",
      "INFO:absl:                                                                 Embarked[0][0]                   \n",
      "INFO:absl:                                                                 Fare[0][0]                       \n",
      "INFO:absl:                                                                 Parch[0][0]                      \n",
      "INFO:absl:                                                                 Pclass[0][0]                     \n",
      "INFO:absl:                                                                 Sex[0][0]                        \n",
      "INFO:absl:                                                                 SibSp[0][0]                      \n",
      "INFO:absl:__________________________________________________________________________________________________\n",
      "INFO:absl:dnn_1 (Dense)                   (None, 64)           194368      deep_inputs[0][0]                \n",
      "INFO:absl:__________________________________________________________________________________________________\n",
      "INFO:absl:wide_inputs (DenseFeatures)     (None, 2)            0           Age[0][0]                        \n",
      "INFO:absl:                                                                 Embarked[0][0]                   \n",
      "INFO:absl:                                                                 Fare[0][0]                       \n",
      "INFO:absl:                                                                 Parch[0][0]                      \n",
      "INFO:absl:                                                                 Pclass[0][0]                     \n",
      "INFO:absl:                                                                 Sex[0][0]                        \n",
      "INFO:absl:                                                                 SibSp[0][0]                      \n",
      "INFO:absl:__________________________________________________________________________________________________\n",
      "INFO:absl:both (Concatenate)              (None, 66)           0           dnn_1[0][0]                      \n",
      "INFO:absl:                                                                 wide_inputs[0][0]                \n",
      "INFO:absl:__________________________________________________________________________________________________\n",
      "INFO:absl:pred (Dense)                    (None, 1)            67          both[0][0]                       \n",
      "INFO:absl:==================================================================================================\n",
      "INFO:absl:Total params: 194,435\n",
      "INFO:absl:Trainable params: 194,435\n",
      "INFO:absl:Non-trainable params: 0\n",
      "INFO:absl:__________________________________________________________________________________________________\n"
     ]
    },
    {
     "name": "stdout",
     "output_type": "stream",
     "text": [
      "500/500 [==============================] - ETA: 0s - loss: 0.7402 - accuracy: 0.40 - ETA: 7s - loss: 0.6500 - accuracy: 0.59 - ETA: 9s - loss: 0.6191 - accuracy: 0.62 - ETA: 9s - loss: 0.5897 - accuracy: 0.66 - ETA: 10s - loss: 0.5858 - accuracy: 0.675 - ETA: 10s - loss: 0.5748 - accuracy: 0.684 - ETA: 11s - loss: 0.5595 - accuracy: 0.698 - ETA: 11s - loss: 0.5469 - accuracy: 0.711 - ETA: 10s - loss: 0.5308 - accuracy: 0.725 - ETA: 10s - loss: 0.5263 - accuracy: 0.730 - ETA: 9s - loss: 0.5204 - accuracy: 0.738 - ETA: 9s - loss: 0.5108 - accuracy: 0.74 - ETA: 8s - loss: 0.5037 - accuracy: 0.74 - ETA: 7s - loss: 0.4955 - accuracy: 0.76 - ETA: 7s - loss: 0.4860 - accuracy: 0.76 - ETA: 6s - loss: 0.4844 - accuracy: 0.76 - ETA: 6s - loss: 0.4776 - accuracy: 0.77 - ETA: 6s - loss: 0.4752 - accuracy: 0.77 - ETA: 5s - loss: 0.4707 - accuracy: 0.77 - ETA: 5s - loss: 0.4643 - accuracy: 0.78 - ETA: 5s - loss: 0.4644 - accuracy: 0.78 - ETA: 5s - loss: 0.4633 - accuracy: 0.78 - ETA: 5s - loss: 0.4612 - accuracy: 0.78 - ETA: 5s - loss: 0.4568 - accuracy: 0.78 - ETA: 4s - loss: 0.4557 - accuracy: 0.79 - ETA: 4s - loss: 0.4544 - accuracy: 0.79 - ETA: 4s - loss: 0.4526 - accuracy: 0.79 - ETA: 4s - loss: 0.4516 - accuracy: 0.79 - ETA: 4s - loss: 0.4495 - accuracy: 0.79 - ETA: 4s - loss: 0.4487 - accuracy: 0.79 - ETA: 4s - loss: 0.4470 - accuracy: 0.79 - ETA: 4s - loss: 0.4469 - accuracy: 0.79 - ETA: 4s - loss: 0.4447 - accuracy: 0.79 - ETA: 3s - loss: 0.4426 - accuracy: 0.80 - ETA: 3s - loss: 0.4420 - accuracy: 0.80 - ETA: 3s - loss: 0.4406 - accuracy: 0.80 - ETA: 3s - loss: 0.4396 - accuracy: 0.80 - ETA: 3s - loss: 0.4399 - accuracy: 0.80 - ETA: 3s - loss: 0.4380 - accuracy: 0.80 - ETA: 3s - loss: 0.4366 - accuracy: 0.80 - ETA: 3s - loss: 0.4357 - accuracy: 0.80 - ETA: 3s - loss: 0.4349 - accuracy: 0.80 - ETA: 3s - loss: 0.4338 - accuracy: 0.80 - ETA: 3s - loss: 0.4338 - accuracy: 0.80 - ETA: 3s - loss: 0.4324 - accuracy: 0.80 - ETA: 3s - loss: 0.4318 - accuracy: 0.80 - ETA: 3s - loss: 0.4321 - accuracy: 0.80 - ETA: 3s - loss: 0.4316 - accuracy: 0.80 - ETA: 2s - loss: 0.4307 - accuracy: 0.80 - ETA: 2s - loss: 0.4311 - accuracy: 0.80 - ETA: 2s - loss: 0.4306 - accuracy: 0.80 - ETA: 2s - loss: 0.4305 - accuracy: 0.80 - ETA: 2s - loss: 0.4316 - accuracy: 0.80 - ETA: 2s - loss: 0.4308 - accuracy: 0.80 - ETA: 2s - loss: 0.4305 - accuracy: 0.80 - ETA: 2s - loss: 0.4296 - accuracy: 0.80 - ETA: 2s - loss: 0.4290 - accuracy: 0.80 - ETA: 2s - loss: 0.4286 - accuracy: 0.80 - ETA: 2s - loss: 0.4284 - accuracy: 0.80 - ETA: 2s - loss: 0.4276 - accuracy: 0.80 - ETA: 2s - loss: 0.4275 - accuracy: 0.80 - ETA: 2s - loss: 0.4272 - accuracy: 0.80 - ETA: 2s - loss: 0.4265 - accuracy: 0.81 - ETA: 2s - loss: 0.4254 - accuracy: 0.81 - ETA: 2s - loss: 0.4252 - accuracy: 0.81 - ETA: 2s - loss: 0.4244 - accuracy: 0.81 - ETA: 2s - loss: 0.4244 - accuracy: 0.81 - ETA: 1s - loss: 0.4236 - accuracy: 0.81 - ETA: 1s - loss: 0.4236 - accuracy: 0.81 - ETA: 1s - loss: 0.4231 - accuracy: 0.81 - ETA: 1s - loss: 0.4225 - accuracy: 0.81 - ETA: 1s - loss: 0.4228 - accuracy: 0.81 - ETA: 1s - loss: 0.4226 - accuracy: 0.81 - ETA: 1s - loss: 0.4221 - accuracy: 0.81 - ETA: 1s - loss: 0.4220 - accuracy: 0.81 - ETA: 1s - loss: 0.4211 - accuracy: 0.81 - ETA: 1s - loss: 0.4218 - accuracy: 0.81 - ETA: 1s - loss: 0.4215 - accuracy: 0.81 - ETA: 1s - loss: 0.4210 - accuracy: 0.81 - ETA: 1s - loss: 0.4206 - accuracy: 0.81 - ETA: 1s - loss: 0.4199 - accuracy: 0.81 - ETA: 1s - loss: 0.4193 - accuracy: 0.81 - ETA: 1s - loss: 0.4196 - accuracy: 0.81 - ETA: 1s - loss: 0.4186 - accuracy: 0.81 - ETA: 1s - loss: 0.4183 - accuracy: 0.81 - ETA: 1s - loss: 0.4178 - accuracy: 0.81 - ETA: 0s - loss: 0.4177 - accuracy: 0.81 - ETA: 0s - loss: 0.4170 - accuracy: 0.81 - ETA: 0s - loss: 0.4170 - accuracy: 0.81 - ETA: 0s - loss: 0.4167 - accuracy: 0.81 - ETA: 0s - loss: 0.4164 - accuracy: 0.81 - ETA: 0s - loss: 0.4163 - accuracy: 0.81 - ETA: 0s - loss: 0.4159 - accuracy: 0.81 - ETA: 0s - loss: 0.4154 - accuracy: 0.81 - ETA: 0s - loss: 0.4151 - accuracy: 0.81 - ETA: 0s - loss: 0.4145 - accuracy: 0.81 - ETA: 0s - loss: 0.4142 - accuracy: 0.81 - ETA: 0s - loss: 0.4139 - accuracy: 0.81 - ETA: 0s - loss: 0.4140 - accuracy: 0.81 - ETA: 0s - loss: 0.4135 - accuracy: 0.81 - ETA: 0s - loss: 0.4132 - accuracy: 0.81 - ETA: 0s - loss: 0.4131 - accuracy: 0.81 - 7s 14ms/step - loss: 0.4125 - accuracy: 0.8164 - val_loss: 0.4718 - val_accuracy: 0.7798\n"
     ]
    },
    {
     "data": {
      "text/html": [
       "<span style=\"color:#4527A0\"><h1 style=\"font-size:18px\">Trial complete</h1></span>"
      ],
      "text/plain": [
       "<IPython.core.display.HTML object>"
      ]
     },
     "metadata": {},
     "output_type": "display_data"
    },
    {
     "data": {
      "text/html": [
       "<span style=\"color:#4527A0\"><h1 style=\"font-size:18px\">Trial summary</h1></span>"
      ],
      "text/plain": [
       "<IPython.core.display.HTML object>"
      ]
     },
     "metadata": {},
     "output_type": "display_data"
    },
    {
     "data": {
      "text/html": [
       "<span style=\"color:cyan\"> |-Trial ID: 5b2937f60dd3383193829e2cf518dd04</span>"
      ],
      "text/plain": [
       "<IPython.core.display.HTML object>"
      ]
     },
     "metadata": {},
     "output_type": "display_data"
    },
    {
     "data": {
      "text/html": [
       "<span style=\"color:cyan\"> |-Score: 0.7798437476158142</span>"
      ],
      "text/plain": [
       "<IPython.core.display.HTML object>"
      ]
     },
     "metadata": {},
     "output_type": "display_data"
    },
    {
     "data": {
      "text/html": [
       "<span style=\"color:cyan\"> |-Best step: 0</span>"
      ],
      "text/plain": [
       "<IPython.core.display.HTML object>"
      ]
     },
     "metadata": {},
     "output_type": "display_data"
    },
    {
     "data": {
      "text/html": [
       "<span style=\"color:#7E57C2\"><h2 style=\"font-size:16px\">Hyperparameters:</h2></span>"
      ],
      "text/plain": [
       "<IPython.core.display.HTML object>"
      ]
     },
     "metadata": {},
     "output_type": "display_data"
    },
    {
     "data": {
      "text/html": [
       "<span style=\"color:cyan\"> |-dnn_decay_factor: 0.7</span>"
      ],
      "text/plain": [
       "<IPython.core.display.HTML object>"
      ]
     },
     "metadata": {},
     "output_type": "display_data"
    },
    {
     "data": {
      "text/html": [
       "<span style=\"color:blue\"> |-first_dnn_layer_size: 64</span>"
      ],
      "text/plain": [
       "<IPython.core.display.HTML object>"
      ]
     },
     "metadata": {},
     "output_type": "display_data"
    },
    {
     "data": {
      "text/html": [
       "<span style=\"color:cyan\"> |-learning_rate: 0.01</span>"
      ],
      "text/plain": [
       "<IPython.core.display.HTML object>"
      ]
     },
     "metadata": {},
     "output_type": "display_data"
    },
    {
     "data": {
      "text/html": [
       "<span style=\"color:blue\"> |-num_dnn_layers: 1</span>"
      ],
      "text/plain": [
       "<IPython.core.display.HTML object>"
      ]
     },
     "metadata": {},
     "output_type": "display_data"
    },
    {
     "name": "stderr",
     "output_type": "stream",
     "text": [
      "INFO:absl:Model: \"functional_1\"\n",
      "INFO:absl:__________________________________________________________________________________________________\n",
      "INFO:absl:Layer (type)                    Output Shape         Param #     Connected to                     \n",
      "INFO:absl:==================================================================================================\n",
      "INFO:absl:Age (InputLayer)                [(None,)]            0                                            \n",
      "INFO:absl:__________________________________________________________________________________________________\n",
      "INFO:absl:Embarked (InputLayer)           [(None,)]            0                                            \n",
      "INFO:absl:__________________________________________________________________________________________________\n",
      "INFO:absl:Fare (InputLayer)               [(None,)]            0                                            \n",
      "INFO:absl:__________________________________________________________________________________________________\n",
      "INFO:absl:Parch (InputLayer)              [(None,)]            0                                            \n",
      "INFO:absl:__________________________________________________________________________________________________\n",
      "INFO:absl:Pclass (InputLayer)             [(None,)]            0                                            \n",
      "INFO:absl:__________________________________________________________________________________________________\n",
      "INFO:absl:Sex (InputLayer)                [(None,)]            0                                            \n",
      "INFO:absl:__________________________________________________________________________________________________\n",
      "INFO:absl:SibSp (InputLayer)              [(None,)]            0                                            \n",
      "INFO:absl:__________________________________________________________________________________________________\n",
      "INFO:absl:deep_inputs (DenseFeatures)     (None, 3036)         0           Age[0][0]                        \n",
      "INFO:absl:                                                                 Embarked[0][0]                   \n",
      "INFO:absl:                                                                 Fare[0][0]                       \n",
      "INFO:absl:                                                                 Parch[0][0]                      \n",
      "INFO:absl:                                                                 Pclass[0][0]                     \n",
      "INFO:absl:                                                                 Sex[0][0]                        \n",
      "INFO:absl:                                                                 SibSp[0][0]                      \n",
      "INFO:absl:__________________________________________________________________________________________________\n",
      "INFO:absl:dnn_1 (Dense)                   (None, 64)           194368      deep_inputs[0][0]                \n",
      "INFO:absl:__________________________________________________________________________________________________\n",
      "INFO:absl:wide_inputs (DenseFeatures)     (None, 2)            0           Age[0][0]                        \n",
      "INFO:absl:                                                                 Embarked[0][0]                   \n",
      "INFO:absl:                                                                 Fare[0][0]                       \n",
      "INFO:absl:                                                                 Parch[0][0]                      \n",
      "INFO:absl:                                                                 Pclass[0][0]                     \n",
      "INFO:absl:                                                                 Sex[0][0]                        \n",
      "INFO:absl:                                                                 SibSp[0][0]                      \n",
      "INFO:absl:__________________________________________________________________________________________________\n",
      "INFO:absl:both (Concatenate)              (None, 66)           0           dnn_1[0][0]                      \n",
      "INFO:absl:                                                                 wide_inputs[0][0]                \n",
      "INFO:absl:__________________________________________________________________________________________________\n",
      "INFO:absl:pred (Dense)                    (None, 1)            67          both[0][0]                       \n",
      "INFO:absl:==================================================================================================\n",
      "INFO:absl:Total params: 194,435\n",
      "INFO:absl:Trainable params: 194,435\n",
      "INFO:absl:Non-trainable params: 0\n",
      "INFO:absl:__________________________________________________________________________________________________\n"
     ]
    },
    {
     "name": "stdout",
     "output_type": "stream",
     "text": [
      "500/500 [==============================] - ETA: 0s - loss: 0.7683 - accuracy: 0.35 - ETA: 4s - loss: 0.7340 - accuracy: 0.43 - ETA: 6s - loss: 0.7291 - accuracy: 0.45 - ETA: 8s - loss: 0.7215 - accuracy: 0.46 - ETA: 7s - loss: 0.7088 - accuracy: 0.51 - ETA: 7s - loss: 0.7050 - accuracy: 0.52 - ETA: 7s - loss: 0.6927 - accuracy: 0.55 - ETA: 6s - loss: 0.6827 - accuracy: 0.57 - ETA: 6s - loss: 0.6729 - accuracy: 0.58 - ETA: 6s - loss: 0.6651 - accuracy: 0.60 - ETA: 5s - loss: 0.6596 - accuracy: 0.60 - ETA: 5s - loss: 0.6509 - accuracy: 0.62 - ETA: 5s - loss: 0.6422 - accuracy: 0.63 - ETA: 5s - loss: 0.6345 - accuracy: 0.64 - ETA: 5s - loss: 0.6287 - accuracy: 0.64 - ETA: 5s - loss: 0.6219 - accuracy: 0.65 - ETA: 5s - loss: 0.6175 - accuracy: 0.66 - ETA: 5s - loss: 0.6158 - accuracy: 0.66 - ETA: 5s - loss: 0.6078 - accuracy: 0.67 - ETA: 5s - loss: 0.6020 - accuracy: 0.67 - ETA: 5s - loss: 0.5932 - accuracy: 0.68 - ETA: 5s - loss: 0.5872 - accuracy: 0.69 - ETA: 4s - loss: 0.5818 - accuracy: 0.69 - ETA: 4s - loss: 0.5764 - accuracy: 0.70 - ETA: 4s - loss: 0.5712 - accuracy: 0.70 - ETA: 4s - loss: 0.5663 - accuracy: 0.70 - ETA: 4s - loss: 0.5621 - accuracy: 0.71 - ETA: 4s - loss: 0.5576 - accuracy: 0.71 - ETA: 4s - loss: 0.5538 - accuracy: 0.72 - ETA: 3s - loss: 0.5485 - accuracy: 0.72 - ETA: 3s - loss: 0.5449 - accuracy: 0.72 - ETA: 3s - loss: 0.5417 - accuracy: 0.73 - ETA: 3s - loss: 0.5382 - accuracy: 0.73 - ETA: 3s - loss: 0.5356 - accuracy: 0.73 - ETA: 3s - loss: 0.5346 - accuracy: 0.73 - ETA: 3s - loss: 0.5309 - accuracy: 0.73 - ETA: 3s - loss: 0.5285 - accuracy: 0.74 - ETA: 3s - loss: 0.5269 - accuracy: 0.74 - ETA: 2s - loss: 0.5241 - accuracy: 0.74 - ETA: 2s - loss: 0.5221 - accuracy: 0.74 - ETA: 2s - loss: 0.5198 - accuracy: 0.74 - ETA: 2s - loss: 0.5185 - accuracy: 0.74 - ETA: 2s - loss: 0.5179 - accuracy: 0.75 - ETA: 2s - loss: 0.5153 - accuracy: 0.75 - ETA: 2s - loss: 0.5132 - accuracy: 0.75 - ETA: 2s - loss: 0.5126 - accuracy: 0.75 - ETA: 2s - loss: 0.5116 - accuracy: 0.75 - ETA: 2s - loss: 0.5103 - accuracy: 0.75 - ETA: 2s - loss: 0.5076 - accuracy: 0.75 - ETA: 2s - loss: 0.5068 - accuracy: 0.75 - ETA: 2s - loss: 0.5051 - accuracy: 0.75 - ETA: 2s - loss: 0.5037 - accuracy: 0.75 - ETA: 1s - loss: 0.5028 - accuracy: 0.75 - ETA: 1s - loss: 0.5013 - accuracy: 0.76 - ETA: 1s - loss: 0.5007 - accuracy: 0.76 - ETA: 1s - loss: 0.4997 - accuracy: 0.76 - ETA: 1s - loss: 0.4991 - accuracy: 0.76 - ETA: 1s - loss: 0.4983 - accuracy: 0.76 - ETA: 1s - loss: 0.4976 - accuracy: 0.76 - ETA: 1s - loss: 0.4962 - accuracy: 0.76 - ETA: 1s - loss: 0.4959 - accuracy: 0.76 - ETA: 1s - loss: 0.4953 - accuracy: 0.76 - ETA: 1s - loss: 0.4954 - accuracy: 0.76 - ETA: 1s - loss: 0.4947 - accuracy: 0.76 - ETA: 1s - loss: 0.4943 - accuracy: 0.76 - ETA: 1s - loss: 0.4929 - accuracy: 0.76 - ETA: 1s - loss: 0.4915 - accuracy: 0.76 - ETA: 1s - loss: 0.4906 - accuracy: 0.76 - ETA: 1s - loss: 0.4904 - accuracy: 0.76 - ETA: 1s - loss: 0.4897 - accuracy: 0.76 - ETA: 1s - loss: 0.4886 - accuracy: 0.76 - ETA: 1s - loss: 0.4885 - accuracy: 0.76 - ETA: 0s - loss: 0.4873 - accuracy: 0.76 - ETA: 0s - loss: 0.4864 - accuracy: 0.77 - ETA: 0s - loss: 0.4858 - accuracy: 0.77 - ETA: 0s - loss: 0.4852 - accuracy: 0.77 - ETA: 0s - loss: 0.4848 - accuracy: 0.77 - ETA: 0s - loss: 0.4842 - accuracy: 0.77 - ETA: 0s - loss: 0.4837 - accuracy: 0.77 - ETA: 0s - loss: 0.4832 - accuracy: 0.77 - ETA: 0s - loss: 0.4823 - accuracy: 0.77 - ETA: 0s - loss: 0.4818 - accuracy: 0.77 - ETA: 0s - loss: 0.4810 - accuracy: 0.77 - ETA: 0s - loss: 0.4805 - accuracy: 0.77 - ETA: 0s - loss: 0.4798 - accuracy: 0.77 - ETA: 0s - loss: 0.4794 - accuracy: 0.77 - ETA: 0s - loss: 0.4792 - accuracy: 0.77 - ETA: 0s - loss: 0.4785 - accuracy: 0.77 - ETA: 0s - loss: 0.4783 - accuracy: 0.77 - ETA: 0s - loss: 0.4775 - accuracy: 0.77 - ETA: 0s - loss: 0.4768 - accuracy: 0.77 - 6s 12ms/step - loss: 0.4765 - accuracy: 0.7776 - val_loss: 0.4280 - val_accuracy: 0.7923\n"
     ]
    },
    {
     "data": {
      "text/html": [
       "<span style=\"color:#4527A0\"><h1 style=\"font-size:18px\">Trial complete</h1></span>"
      ],
      "text/plain": [
       "<IPython.core.display.HTML object>"
      ]
     },
     "metadata": {},
     "output_type": "display_data"
    },
    {
     "data": {
      "text/html": [
       "<span style=\"color:#4527A0\"><h1 style=\"font-size:18px\">Trial summary</h1></span>"
      ],
      "text/plain": [
       "<IPython.core.display.HTML object>"
      ]
     },
     "metadata": {},
     "output_type": "display_data"
    },
    {
     "data": {
      "text/html": [
       "<span style=\"color:cyan\"> |-Trial ID: c4a56cb30166acb1c672a80e6bec0415</span>"
      ],
      "text/plain": [
       "<IPython.core.display.HTML object>"
      ]
     },
     "metadata": {},
     "output_type": "display_data"
    },
    {
     "data": {
      "text/html": [
       "<span style=\"color:cyan\"> |-Score: 0.7923437356948853</span>"
      ],
      "text/plain": [
       "<IPython.core.display.HTML object>"
      ]
     },
     "metadata": {},
     "output_type": "display_data"
    },
    {
     "data": {
      "text/html": [
       "<span style=\"color:cyan\"> |-Best step: 0</span>"
      ],
      "text/plain": [
       "<IPython.core.display.HTML object>"
      ]
     },
     "metadata": {},
     "output_type": "display_data"
    },
    {
     "data": {
      "text/html": [
       "<span style=\"color:#7E57C2\"><h2 style=\"font-size:16px\">Hyperparameters:</h2></span>"
      ],
      "text/plain": [
       "<IPython.core.display.HTML object>"
      ]
     },
     "metadata": {},
     "output_type": "display_data"
    },
    {
     "data": {
      "text/html": [
       "<span style=\"color:cyan\"> |-dnn_decay_factor: 0.7</span>"
      ],
      "text/plain": [
       "<IPython.core.display.HTML object>"
      ]
     },
     "metadata": {},
     "output_type": "display_data"
    },
    {
     "data": {
      "text/html": [
       "<span style=\"color:blue\"> |-first_dnn_layer_size: 64</span>"
      ],
      "text/plain": [
       "<IPython.core.display.HTML object>"
      ]
     },
     "metadata": {},
     "output_type": "display_data"
    },
    {
     "data": {
      "text/html": [
       "<span style=\"color:cyan\"> |-learning_rate: 0.001</span>"
      ],
      "text/plain": [
       "<IPython.core.display.HTML object>"
      ]
     },
     "metadata": {},
     "output_type": "display_data"
    },
    {
     "data": {
      "text/html": [
       "<span style=\"color:blue\"> |-num_dnn_layers: 1</span>"
      ],
      "text/plain": [
       "<IPython.core.display.HTML object>"
      ]
     },
     "metadata": {},
     "output_type": "display_data"
    },
    {
     "name": "stderr",
     "output_type": "stream",
     "text": [
      "INFO:absl:Model: \"functional_1\"\n",
      "INFO:absl:__________________________________________________________________________________________________\n",
      "INFO:absl:Layer (type)                    Output Shape         Param #     Connected to                     \n",
      "INFO:absl:==================================================================================================\n",
      "INFO:absl:Age (InputLayer)                [(None,)]            0                                            \n",
      "INFO:absl:__________________________________________________________________________________________________\n",
      "INFO:absl:Embarked (InputLayer)           [(None,)]            0                                            \n",
      "INFO:absl:__________________________________________________________________________________________________\n",
      "INFO:absl:Fare (InputLayer)               [(None,)]            0                                            \n",
      "INFO:absl:__________________________________________________________________________________________________\n",
      "INFO:absl:Parch (InputLayer)              [(None,)]            0                                            \n",
      "INFO:absl:__________________________________________________________________________________________________\n",
      "INFO:absl:Pclass (InputLayer)             [(None,)]            0                                            \n",
      "INFO:absl:__________________________________________________________________________________________________\n",
      "INFO:absl:Sex (InputLayer)                [(None,)]            0                                            \n",
      "INFO:absl:__________________________________________________________________________________________________\n",
      "INFO:absl:SibSp (InputLayer)              [(None,)]            0                                            \n",
      "INFO:absl:__________________________________________________________________________________________________\n",
      "INFO:absl:deep_inputs (DenseFeatures)     (None, 3036)         0           Age[0][0]                        \n",
      "INFO:absl:                                                                 Embarked[0][0]                   \n",
      "INFO:absl:                                                                 Fare[0][0]                       \n",
      "INFO:absl:                                                                 Parch[0][0]                      \n",
      "INFO:absl:                                                                 Pclass[0][0]                     \n",
      "INFO:absl:                                                                 Sex[0][0]                        \n",
      "INFO:absl:                                                                 SibSp[0][0]                      \n",
      "INFO:absl:__________________________________________________________________________________________________\n",
      "INFO:absl:dnn_1 (Dense)                   (None, 128)          388736      deep_inputs[0][0]                \n",
      "INFO:absl:__________________________________________________________________________________________________\n",
      "INFO:absl:dnn_2 (Dense)                   (None, 64)           8256        dnn_1[0][0]                      \n",
      "INFO:absl:__________________________________________________________________________________________________\n",
      "INFO:absl:wide_inputs (DenseFeatures)     (None, 2)            0           Age[0][0]                        \n",
      "INFO:absl:                                                                 Embarked[0][0]                   \n",
      "INFO:absl:                                                                 Fare[0][0]                       \n",
      "INFO:absl:                                                                 Parch[0][0]                      \n",
      "INFO:absl:                                                                 Pclass[0][0]                     \n",
      "INFO:absl:                                                                 Sex[0][0]                        \n",
      "INFO:absl:                                                                 SibSp[0][0]                      \n",
      "INFO:absl:__________________________________________________________________________________________________\n",
      "INFO:absl:both (Concatenate)              (None, 66)           0           dnn_2[0][0]                      \n",
      "INFO:absl:                                                                 wide_inputs[0][0]                \n",
      "INFO:absl:__________________________________________________________________________________________________\n",
      "INFO:absl:pred (Dense)                    (None, 1)            67          both[0][0]                       \n",
      "INFO:absl:==================================================================================================\n",
      "INFO:absl:Total params: 397,059\n",
      "INFO:absl:Trainable params: 397,059\n",
      "INFO:absl:Non-trainable params: 0\n",
      "INFO:absl:__________________________________________________________________________________________________\n"
     ]
    },
    {
     "name": "stdout",
     "output_type": "stream",
     "text": [
      "500/500 [==============================] - ETA: 0s - loss: 0.7068 - accuracy: 0.42 - ETA: 7s - loss: 0.6747 - accuracy: 0.55 - ETA: 6s - loss: 0.6215 - accuracy: 0.64 - ETA: 5s - loss: 0.5820 - accuracy: 0.69 - ETA: 5s - loss: 0.5552 - accuracy: 0.72 - ETA: 5s - loss: 0.5348 - accuracy: 0.73 - ETA: 5s - loss: 0.5169 - accuracy: 0.74 - ETA: 5s - loss: 0.5067 - accuracy: 0.75 - ETA: 4s - loss: 0.4986 - accuracy: 0.76 - ETA: 4s - loss: 0.4912 - accuracy: 0.76 - ETA: 4s - loss: 0.4861 - accuracy: 0.77 - ETA: 4s - loss: 0.4839 - accuracy: 0.77 - ETA: 4s - loss: 0.4833 - accuracy: 0.76 - ETA: 4s - loss: 0.4755 - accuracy: 0.77 - ETA: 4s - loss: 0.4708 - accuracy: 0.77 - ETA: 4s - loss: 0.4686 - accuracy: 0.78 - ETA: 4s - loss: 0.4653 - accuracy: 0.78 - ETA: 4s - loss: 0.4631 - accuracy: 0.78 - ETA: 4s - loss: 0.4627 - accuracy: 0.78 - ETA: 4s - loss: 0.4586 - accuracy: 0.78 - ETA: 4s - loss: 0.4608 - accuracy: 0.78 - ETA: 4s - loss: 0.4590 - accuracy: 0.78 - ETA: 4s - loss: 0.4579 - accuracy: 0.79 - ETA: 3s - loss: 0.4570 - accuracy: 0.79 - ETA: 3s - loss: 0.4553 - accuracy: 0.79 - ETA: 3s - loss: 0.4538 - accuracy: 0.79 - ETA: 3s - loss: 0.4537 - accuracy: 0.79 - ETA: 3s - loss: 0.4513 - accuracy: 0.79 - ETA: 3s - loss: 0.4516 - accuracy: 0.79 - ETA: 3s - loss: 0.4486 - accuracy: 0.79 - ETA: 3s - loss: 0.4488 - accuracy: 0.79 - ETA: 3s - loss: 0.4458 - accuracy: 0.79 - ETA: 3s - loss: 0.4439 - accuracy: 0.80 - ETA: 3s - loss: 0.4424 - accuracy: 0.80 - ETA: 3s - loss: 0.4422 - accuracy: 0.80 - ETA: 3s - loss: 0.4406 - accuracy: 0.80 - ETA: 3s - loss: 0.4388 - accuracy: 0.80 - ETA: 3s - loss: 0.4378 - accuracy: 0.80 - ETA: 3s - loss: 0.4370 - accuracy: 0.80 - ETA: 2s - loss: 0.4361 - accuracy: 0.80 - ETA: 2s - loss: 0.4363 - accuracy: 0.80 - ETA: 2s - loss: 0.4339 - accuracy: 0.80 - ETA: 2s - loss: 0.4328 - accuracy: 0.80 - ETA: 2s - loss: 0.4333 - accuracy: 0.80 - ETA: 2s - loss: 0.4326 - accuracy: 0.80 - ETA: 2s - loss: 0.4316 - accuracy: 0.80 - ETA: 2s - loss: 0.4306 - accuracy: 0.80 - ETA: 2s - loss: 0.4303 - accuracy: 0.80 - ETA: 2s - loss: 0.4297 - accuracy: 0.80 - ETA: 2s - loss: 0.4294 - accuracy: 0.81 - ETA: 2s - loss: 0.4285 - accuracy: 0.81 - ETA: 2s - loss: 0.4283 - accuracy: 0.81 - ETA: 2s - loss: 0.4281 - accuracy: 0.81 - ETA: 2s - loss: 0.4275 - accuracy: 0.81 - ETA: 2s - loss: 0.4269 - accuracy: 0.81 - ETA: 2s - loss: 0.4262 - accuracy: 0.81 - ETA: 2s - loss: 0.4262 - accuracy: 0.81 - ETA: 2s - loss: 0.4249 - accuracy: 0.81 - ETA: 2s - loss: 0.4249 - accuracy: 0.81 - ETA: 2s - loss: 0.4243 - accuracy: 0.81 - ETA: 2s - loss: 0.4228 - accuracy: 0.81 - ETA: 2s - loss: 0.4231 - accuracy: 0.81 - ETA: 1s - loss: 0.4227 - accuracy: 0.81 - ETA: 1s - loss: 0.4219 - accuracy: 0.81 - ETA: 1s - loss: 0.4216 - accuracy: 0.81 - ETA: 1s - loss: 0.4212 - accuracy: 0.81 - ETA: 1s - loss: 0.4201 - accuracy: 0.81 - ETA: 1s - loss: 0.4203 - accuracy: 0.81 - ETA: 1s - loss: 0.4196 - accuracy: 0.81 - ETA: 1s - loss: 0.4191 - accuracy: 0.81 - ETA: 1s - loss: 0.4186 - accuracy: 0.81 - ETA: 1s - loss: 0.4180 - accuracy: 0.81 - ETA: 1s - loss: 0.4176 - accuracy: 0.81 - ETA: 1s - loss: 0.4166 - accuracy: 0.81 - ETA: 1s - loss: 0.4164 - accuracy: 0.81 - ETA: 1s - loss: 0.4169 - accuracy: 0.81 - ETA: 1s - loss: 0.4159 - accuracy: 0.81 - ETA: 1s - loss: 0.4152 - accuracy: 0.81 - ETA: 1s - loss: 0.4148 - accuracy: 0.81 - ETA: 1s - loss: 0.4147 - accuracy: 0.81 - ETA: 0s - loss: 0.4140 - accuracy: 0.81 - ETA: 0s - loss: 0.4136 - accuracy: 0.81 - ETA: 0s - loss: 0.4140 - accuracy: 0.81 - ETA: 0s - loss: 0.4132 - accuracy: 0.81 - ETA: 0s - loss: 0.4132 - accuracy: 0.81 - ETA: 0s - loss: 0.4125 - accuracy: 0.81 - ETA: 0s - loss: 0.4121 - accuracy: 0.81 - ETA: 0s - loss: 0.4121 - accuracy: 0.81 - ETA: 0s - loss: 0.4113 - accuracy: 0.81 - ETA: 0s - loss: 0.4115 - accuracy: 0.81 - ETA: 0s - loss: 0.4110 - accuracy: 0.81 - ETA: 0s - loss: 0.4107 - accuracy: 0.81 - ETA: 0s - loss: 0.4104 - accuracy: 0.81 - ETA: 0s - loss: 0.4099 - accuracy: 0.81 - ETA: 0s - loss: 0.4099 - accuracy: 0.81 - ETA: 0s - loss: 0.4094 - accuracy: 0.81 - ETA: 0s - loss: 0.4092 - accuracy: 0.81 - ETA: 0s - loss: 0.4091 - accuracy: 0.82 - ETA: 0s - loss: 0.4089 - accuracy: 0.82 - ETA: 0s - loss: 0.4083 - accuracy: 0.82 - 7s 13ms/step - loss: 0.4080 - accuracy: 0.8204 - val_loss: 0.4861 - val_accuracy: 0.7734\n"
     ]
    },
    {
     "data": {
      "text/html": [
       "<span style=\"color:#4527A0\"><h1 style=\"font-size:18px\">Trial complete</h1></span>"
      ],
      "text/plain": [
       "<IPython.core.display.HTML object>"
      ]
     },
     "metadata": {},
     "output_type": "display_data"
    },
    {
     "data": {
      "text/html": [
       "<span style=\"color:#4527A0\"><h1 style=\"font-size:18px\">Trial summary</h1></span>"
      ],
      "text/plain": [
       "<IPython.core.display.HTML object>"
      ]
     },
     "metadata": {},
     "output_type": "display_data"
    },
    {
     "data": {
      "text/html": [
       "<span style=\"color:cyan\"> |-Trial ID: dee6f8b0bc3b9eb1e466438f7ac20294</span>"
      ],
      "text/plain": [
       "<IPython.core.display.HTML object>"
      ]
     },
     "metadata": {},
     "output_type": "display_data"
    },
    {
     "data": {
      "text/html": [
       "<span style=\"color:cyan\"> |-Score: 0.7734375</span>"
      ],
      "text/plain": [
       "<IPython.core.display.HTML object>"
      ]
     },
     "metadata": {},
     "output_type": "display_data"
    },
    {
     "data": {
      "text/html": [
       "<span style=\"color:cyan\"> |-Best step: 0</span>"
      ],
      "text/plain": [
       "<IPython.core.display.HTML object>"
      ]
     },
     "metadata": {},
     "output_type": "display_data"
    },
    {
     "data": {
      "text/html": [
       "<span style=\"color:#7E57C2\"><h2 style=\"font-size:16px\">Hyperparameters:</h2></span>"
      ],
      "text/plain": [
       "<IPython.core.display.HTML object>"
      ]
     },
     "metadata": {},
     "output_type": "display_data"
    },
    {
     "data": {
      "text/html": [
       "<span style=\"color:cyan\"> |-dnn_decay_factor: 0.5</span>"
      ],
      "text/plain": [
       "<IPython.core.display.HTML object>"
      ]
     },
     "metadata": {},
     "output_type": "display_data"
    },
    {
     "data": {
      "text/html": [
       "<span style=\"color:blue\"> |-first_dnn_layer_size: 128</span>"
      ],
      "text/plain": [
       "<IPython.core.display.HTML object>"
      ]
     },
     "metadata": {},
     "output_type": "display_data"
    },
    {
     "data": {
      "text/html": [
       "<span style=\"color:cyan\"> |-learning_rate: 0.003</span>"
      ],
      "text/plain": [
       "<IPython.core.display.HTML object>"
      ]
     },
     "metadata": {},
     "output_type": "display_data"
    },
    {
     "data": {
      "text/html": [
       "<span style=\"color:blue\"> |-num_dnn_layers: 2</span>"
      ],
      "text/plain": [
       "<IPython.core.display.HTML object>"
      ]
     },
     "metadata": {},
     "output_type": "display_data"
    },
    {
     "name": "stderr",
     "output_type": "stream",
     "text": [
      "INFO:absl:Model: \"functional_1\"\n",
      "INFO:absl:__________________________________________________________________________________________________\n",
      "INFO:absl:Layer (type)                    Output Shape         Param #     Connected to                     \n",
      "INFO:absl:==================================================================================================\n",
      "INFO:absl:Age (InputLayer)                [(None,)]            0                                            \n",
      "INFO:absl:__________________________________________________________________________________________________\n",
      "INFO:absl:Embarked (InputLayer)           [(None,)]            0                                            \n",
      "INFO:absl:__________________________________________________________________________________________________\n",
      "INFO:absl:Fare (InputLayer)               [(None,)]            0                                            \n",
      "INFO:absl:__________________________________________________________________________________________________\n",
      "INFO:absl:Parch (InputLayer)              [(None,)]            0                                            \n",
      "INFO:absl:__________________________________________________________________________________________________\n",
      "INFO:absl:Pclass (InputLayer)             [(None,)]            0                                            \n",
      "INFO:absl:__________________________________________________________________________________________________\n",
      "INFO:absl:Sex (InputLayer)                [(None,)]            0                                            \n",
      "INFO:absl:__________________________________________________________________________________________________\n",
      "INFO:absl:SibSp (InputLayer)              [(None,)]            0                                            \n",
      "INFO:absl:__________________________________________________________________________________________________\n",
      "INFO:absl:deep_inputs (DenseFeatures)     (None, 3036)         0           Age[0][0]                        \n",
      "INFO:absl:                                                                 Embarked[0][0]                   \n",
      "INFO:absl:                                                                 Fare[0][0]                       \n",
      "INFO:absl:                                                                 Parch[0][0]                      \n",
      "INFO:absl:                                                                 Pclass[0][0]                     \n",
      "INFO:absl:                                                                 Sex[0][0]                        \n",
      "INFO:absl:                                                                 SibSp[0][0]                      \n",
      "INFO:absl:__________________________________________________________________________________________________\n",
      "INFO:absl:dnn_1 (Dense)                   (None, 64)           194368      deep_inputs[0][0]                \n",
      "INFO:absl:__________________________________________________________________________________________________\n",
      "INFO:absl:wide_inputs (DenseFeatures)     (None, 2)            0           Age[0][0]                        \n",
      "INFO:absl:                                                                 Embarked[0][0]                   \n",
      "INFO:absl:                                                                 Fare[0][0]                       \n",
      "INFO:absl:                                                                 Parch[0][0]                      \n",
      "INFO:absl:                                                                 Pclass[0][0]                     \n",
      "INFO:absl:                                                                 Sex[0][0]                        \n",
      "INFO:absl:                                                                 SibSp[0][0]                      \n",
      "INFO:absl:__________________________________________________________________________________________________\n",
      "INFO:absl:both (Concatenate)              (None, 66)           0           dnn_1[0][0]                      \n",
      "INFO:absl:                                                                 wide_inputs[0][0]                \n",
      "INFO:absl:__________________________________________________________________________________________________\n",
      "INFO:absl:pred (Dense)                    (None, 1)            67          both[0][0]                       \n",
      "INFO:absl:==================================================================================================\n",
      "INFO:absl:Total params: 194,435\n",
      "INFO:absl:Trainable params: 194,435\n",
      "INFO:absl:Non-trainable params: 0\n",
      "INFO:absl:__________________________________________________________________________________________________\n"
     ]
    },
    {
     "name": "stdout",
     "output_type": "stream",
     "text": [
      "500/500 [==============================] - ETA: 0s - loss: 0.7120 - accuracy: 0.29 - ETA: 3s - loss: 0.6695 - accuracy: 0.64 - ETA: 4s - loss: 0.6498 - accuracy: 0.68 - ETA: 3s - loss: 0.6141 - accuracy: 0.72 - ETA: 3s - loss: 0.5735 - accuracy: 0.74 - ETA: 3s - loss: 0.5455 - accuracy: 0.75 - ETA: 3s - loss: 0.5305 - accuracy: 0.76 - ETA: 2s - loss: 0.5155 - accuracy: 0.76 - ETA: 2s - loss: 0.5033 - accuracy: 0.77 - ETA: 2s - loss: 0.5018 - accuracy: 0.77 - ETA: 2s - loss: 0.4952 - accuracy: 0.77 - ETA: 2s - loss: 0.4886 - accuracy: 0.78 - ETA: 2s - loss: 0.4866 - accuracy: 0.78 - ETA: 2s - loss: 0.4833 - accuracy: 0.78 - ETA: 2s - loss: 0.4814 - accuracy: 0.78 - ETA: 2s - loss: 0.4798 - accuracy: 0.78 - ETA: 2s - loss: 0.4777 - accuracy: 0.78 - ETA: 2s - loss: 0.4741 - accuracy: 0.78 - ETA: 2s - loss: 0.4725 - accuracy: 0.78 - ETA: 2s - loss: 0.4706 - accuracy: 0.78 - ETA: 2s - loss: 0.4697 - accuracy: 0.78 - ETA: 2s - loss: 0.4674 - accuracy: 0.79 - ETA: 2s - loss: 0.4669 - accuracy: 0.79 - ETA: 2s - loss: 0.4661 - accuracy: 0.79 - ETA: 2s - loss: 0.4644 - accuracy: 0.79 - ETA: 2s - loss: 0.4634 - accuracy: 0.79 - ETA: 3s - loss: 0.4637 - accuracy: 0.79 - ETA: 3s - loss: 0.4632 - accuracy: 0.79 - ETA: 3s - loss: 0.4625 - accuracy: 0.79 - ETA: 3s - loss: 0.4613 - accuracy: 0.79 - ETA: 2s - loss: 0.4601 - accuracy: 0.79 - ETA: 2s - loss: 0.4586 - accuracy: 0.79 - ETA: 2s - loss: 0.4570 - accuracy: 0.79 - ETA: 2s - loss: 0.4565 - accuracy: 0.79 - ETA: 2s - loss: 0.4549 - accuracy: 0.79 - ETA: 2s - loss: 0.4527 - accuracy: 0.79 - ETA: 2s - loss: 0.4523 - accuracy: 0.79 - ETA: 2s - loss: 0.4520 - accuracy: 0.79 - ETA: 2s - loss: 0.4507 - accuracy: 0.79 - ETA: 2s - loss: 0.4495 - accuracy: 0.79 - ETA: 2s - loss: 0.4491 - accuracy: 0.79 - ETA: 2s - loss: 0.4473 - accuracy: 0.80 - ETA: 2s - loss: 0.4468 - accuracy: 0.80 - ETA: 2s - loss: 0.4465 - accuracy: 0.80 - ETA: 2s - loss: 0.4458 - accuracy: 0.80 - ETA: 2s - loss: 0.4455 - accuracy: 0.80 - ETA: 2s - loss: 0.4455 - accuracy: 0.80 - ETA: 2s - loss: 0.4455 - accuracy: 0.80 - ETA: 2s - loss: 0.4453 - accuracy: 0.80 - ETA: 2s - loss: 0.4452 - accuracy: 0.80 - ETA: 2s - loss: 0.4447 - accuracy: 0.80 - ETA: 2s - loss: 0.4445 - accuracy: 0.80 - ETA: 2s - loss: 0.4441 - accuracy: 0.80 - ETA: 2s - loss: 0.4442 - accuracy: 0.80 - ETA: 2s - loss: 0.4440 - accuracy: 0.80 - ETA: 2s - loss: 0.4434 - accuracy: 0.80 - ETA: 2s - loss: 0.4431 - accuracy: 0.80 - ETA: 2s - loss: 0.4432 - accuracy: 0.80 - ETA: 2s - loss: 0.4426 - accuracy: 0.80 - ETA: 2s - loss: 0.4422 - accuracy: 0.80 - ETA: 2s - loss: 0.4421 - accuracy: 0.80 - ETA: 2s - loss: 0.4419 - accuracy: 0.80 - ETA: 2s - loss: 0.4420 - accuracy: 0.80 - ETA: 2s - loss: 0.4416 - accuracy: 0.80 - ETA: 2s - loss: 0.4407 - accuracy: 0.80 - ETA: 2s - loss: 0.4406 - accuracy: 0.80 - ETA: 2s - loss: 0.4400 - accuracy: 0.80 - ETA: 2s - loss: 0.4400 - accuracy: 0.80 - ETA: 2s - loss: 0.4397 - accuracy: 0.80 - ETA: 1s - loss: 0.4387 - accuracy: 0.80 - ETA: 1s - loss: 0.4385 - accuracy: 0.80 - ETA: 1s - loss: 0.4376 - accuracy: 0.80 - ETA: 1s - loss: 0.4375 - accuracy: 0.80 - ETA: 1s - loss: 0.4375 - accuracy: 0.80 - ETA: 1s - loss: 0.4370 - accuracy: 0.80 - ETA: 1s - loss: 0.4367 - accuracy: 0.80 - ETA: 1s - loss: 0.4363 - accuracy: 0.80 - ETA: 1s - loss: 0.4359 - accuracy: 0.80 - ETA: 1s - loss: 0.4358 - accuracy: 0.80 - ETA: 1s - loss: 0.4352 - accuracy: 0.80 - ETA: 1s - loss: 0.4347 - accuracy: 0.80 - ETA: 1s - loss: 0.4349 - accuracy: 0.80 - ETA: 1s - loss: 0.4349 - accuracy: 0.80 - ETA: 1s - loss: 0.4345 - accuracy: 0.81 - ETA: 1s - loss: 0.4346 - accuracy: 0.81 - ETA: 1s - loss: 0.4341 - accuracy: 0.81 - ETA: 1s - loss: 0.4342 - accuracy: 0.81 - ETA: 1s - loss: 0.4337 - accuracy: 0.81 - ETA: 1s - loss: 0.4336 - accuracy: 0.81 - ETA: 1s - loss: 0.4334 - accuracy: 0.81 - ETA: 1s - loss: 0.4334 - accuracy: 0.81 - ETA: 1s - loss: 0.4332 - accuracy: 0.81 - ETA: 1s - loss: 0.4327 - accuracy: 0.81 - ETA: 1s - loss: 0.4325 - accuracy: 0.81 - ETA: 1s - loss: 0.4317 - accuracy: 0.81 - ETA: 1s - loss: 0.4324 - accuracy: 0.81 - ETA: 1s - loss: 0.4323 - accuracy: 0.81 - ETA: 0s - loss: 0.4323 - accuracy: 0.81 - ETA: 0s - loss: 0.4317 - accuracy: 0.81 - ETA: 0s - loss: 0.4315 - accuracy: 0.81 - ETA: 0s - loss: 0.4313 - accuracy: 0.81 - ETA: 0s - loss: 0.4311 - accuracy: 0.81 - ETA: 0s - loss: 0.4306 - accuracy: 0.81 - ETA: 0s - loss: 0.4311 - accuracy: 0.81 - ETA: 0s - loss: 0.4306 - accuracy: 0.81 - ETA: 0s - loss: 0.4303 - accuracy: 0.81 - ETA: 0s - loss: 0.4302 - accuracy: 0.81 - ETA: 0s - loss: 0.4300 - accuracy: 0.81 - ETA: 0s - loss: 0.4299 - accuracy: 0.81 - ETA: 0s - loss: 0.4295 - accuracy: 0.81 - ETA: 0s - loss: 0.4294 - accuracy: 0.81 - ETA: 0s - loss: 0.4287 - accuracy: 0.81 - ETA: 0s - loss: 0.4288 - accuracy: 0.81 - ETA: 0s - loss: 0.4286 - accuracy: 0.81 - ETA: 0s - loss: 0.4283 - accuracy: 0.81 - ETA: 0s - loss: 0.4283 - accuracy: 0.81 - ETA: 0s - loss: 0.4282 - accuracy: 0.81 - 8s 16ms/step - loss: 0.4280 - accuracy: 0.8144 - val_loss: 0.4439 - val_accuracy: 0.7675\n"
     ]
    },
    {
     "data": {
      "text/html": [
       "<span style=\"color:#4527A0\"><h1 style=\"font-size:18px\">Trial complete</h1></span>"
      ],
      "text/plain": [
       "<IPython.core.display.HTML object>"
      ]
     },
     "metadata": {},
     "output_type": "display_data"
    },
    {
     "data": {
      "text/html": [
       "<span style=\"color:#4527A0\"><h1 style=\"font-size:18px\">Trial summary</h1></span>"
      ],
      "text/plain": [
       "<IPython.core.display.HTML object>"
      ]
     },
     "metadata": {},
     "output_type": "display_data"
    },
    {
     "data": {
      "text/html": [
       "<span style=\"color:cyan\"> |-Trial ID: 7f15182a9d4fd437f464609ebef2cc5b</span>"
      ],
      "text/plain": [
       "<IPython.core.display.HTML object>"
      ]
     },
     "metadata": {},
     "output_type": "display_data"
    },
    {
     "data": {
      "text/html": [
       "<span style=\"color:cyan\"> |-Score: 0.7674999833106995</span>"
      ],
      "text/plain": [
       "<IPython.core.display.HTML object>"
      ]
     },
     "metadata": {},
     "output_type": "display_data"
    },
    {
     "data": {
      "text/html": [
       "<span style=\"color:cyan\"> |-Best step: 0</span>"
      ],
      "text/plain": [
       "<IPython.core.display.HTML object>"
      ]
     },
     "metadata": {},
     "output_type": "display_data"
    },
    {
     "data": {
      "text/html": [
       "<span style=\"color:#7E57C2\"><h2 style=\"font-size:16px\">Hyperparameters:</h2></span>"
      ],
      "text/plain": [
       "<IPython.core.display.HTML object>"
      ]
     },
     "metadata": {},
     "output_type": "display_data"
    },
    {
     "data": {
      "text/html": [
       "<span style=\"color:cyan\"> |-dnn_decay_factor: 0.5</span>"
      ],
      "text/plain": [
       "<IPython.core.display.HTML object>"
      ]
     },
     "metadata": {},
     "output_type": "display_data"
    },
    {
     "data": {
      "text/html": [
       "<span style=\"color:blue\"> |-first_dnn_layer_size: 64</span>"
      ],
      "text/plain": [
       "<IPython.core.display.HTML object>"
      ]
     },
     "metadata": {},
     "output_type": "display_data"
    },
    {
     "data": {
      "text/html": [
       "<span style=\"color:cyan\"> |-learning_rate: 0.003</span>"
      ],
      "text/plain": [
       "<IPython.core.display.HTML object>"
      ]
     },
     "metadata": {},
     "output_type": "display_data"
    },
    {
     "data": {
      "text/html": [
       "<span style=\"color:blue\"> |-num_dnn_layers: 1</span>"
      ],
      "text/plain": [
       "<IPython.core.display.HTML object>"
      ]
     },
     "metadata": {},
     "output_type": "display_data"
    },
    {
     "name": "stderr",
     "output_type": "stream",
     "text": [
      "INFO:absl:Model: \"functional_1\"\n",
      "INFO:absl:__________________________________________________________________________________________________\n",
      "INFO:absl:Layer (type)                    Output Shape         Param #     Connected to                     \n",
      "INFO:absl:==================================================================================================\n",
      "INFO:absl:Age (InputLayer)                [(None,)]            0                                            \n",
      "INFO:absl:__________________________________________________________________________________________________\n",
      "INFO:absl:Embarked (InputLayer)           [(None,)]            0                                            \n",
      "INFO:absl:__________________________________________________________________________________________________\n",
      "INFO:absl:Fare (InputLayer)               [(None,)]            0                                            \n",
      "INFO:absl:__________________________________________________________________________________________________\n",
      "INFO:absl:Parch (InputLayer)              [(None,)]            0                                            \n",
      "INFO:absl:__________________________________________________________________________________________________\n",
      "INFO:absl:Pclass (InputLayer)             [(None,)]            0                                            \n",
      "INFO:absl:__________________________________________________________________________________________________\n",
      "INFO:absl:Sex (InputLayer)                [(None,)]            0                                            \n",
      "INFO:absl:__________________________________________________________________________________________________\n",
      "INFO:absl:SibSp (InputLayer)              [(None,)]            0                                            \n",
      "INFO:absl:__________________________________________________________________________________________________\n",
      "INFO:absl:deep_inputs (DenseFeatures)     (None, 3036)         0           Age[0][0]                        \n",
      "INFO:absl:                                                                 Embarked[0][0]                   \n",
      "INFO:absl:                                                                 Fare[0][0]                       \n",
      "INFO:absl:                                                                 Parch[0][0]                      \n",
      "INFO:absl:                                                                 Pclass[0][0]                     \n",
      "INFO:absl:                                                                 Sex[0][0]                        \n",
      "INFO:absl:                                                                 SibSp[0][0]                      \n",
      "INFO:absl:__________________________________________________________________________________________________\n",
      "INFO:absl:dnn_1 (Dense)                   (None, 32)           97184       deep_inputs[0][0]                \n",
      "INFO:absl:__________________________________________________________________________________________________\n",
      "INFO:absl:dnn_2 (Dense)                   (None, 9)            297         dnn_1[0][0]                      \n",
      "INFO:absl:__________________________________________________________________________________________________\n",
      "INFO:absl:dnn_3 (Dense)                   (None, 2)            20          dnn_2[0][0]                      \n",
      "INFO:absl:__________________________________________________________________________________________________\n",
      "INFO:absl:wide_inputs (DenseFeatures)     (None, 2)            0           Age[0][0]                        \n",
      "INFO:absl:                                                                 Embarked[0][0]                   \n",
      "INFO:absl:                                                                 Fare[0][0]                       \n",
      "INFO:absl:                                                                 Parch[0][0]                      \n",
      "INFO:absl:                                                                 Pclass[0][0]                     \n",
      "INFO:absl:                                                                 Sex[0][0]                        \n",
      "INFO:absl:                                                                 SibSp[0][0]                      \n",
      "INFO:absl:__________________________________________________________________________________________________\n",
      "INFO:absl:both (Concatenate)              (None, 4)            0           dnn_3[0][0]                      \n",
      "INFO:absl:                                                                 wide_inputs[0][0]                \n",
      "INFO:absl:__________________________________________________________________________________________________\n",
      "INFO:absl:pred (Dense)                    (None, 1)            5           both[0][0]                       \n",
      "INFO:absl:==================================================================================================\n",
      "INFO:absl:Total params: 97,506\n",
      "INFO:absl:Trainable params: 97,506\n",
      "INFO:absl:Non-trainable params: 0\n",
      "INFO:absl:__________________________________________________________________________________________________\n"
     ]
    },
    {
     "name": "stdout",
     "output_type": "stream",
     "text": [
      "500/500 [==============================] - ETA: 0s - loss: 0.6235 - accuracy: 0.67 - ETA: 6s - loss: 0.5912 - accuracy: 0.67 - ETA: 7s - loss: 0.5963 - accuracy: 0.68 - ETA: 6s - loss: 0.5834 - accuracy: 0.69 - ETA: 7s - loss: 0.5812 - accuracy: 0.69 - ETA: 6s - loss: 0.5807 - accuracy: 0.69 - ETA: 7s - loss: 0.5758 - accuracy: 0.69 - ETA: 7s - loss: 0.5750 - accuracy: 0.69 - ETA: 6s - loss: 0.5562 - accuracy: 0.70 - ETA: 6s - loss: 0.5560 - accuracy: 0.70 - ETA: 6s - loss: 0.5560 - accuracy: 0.70 - ETA: 6s - loss: 0.5495 - accuracy: 0.71 - ETA: 6s - loss: 0.5445 - accuracy: 0.71 - ETA: 6s - loss: 0.5419 - accuracy: 0.71 - ETA: 6s - loss: 0.5404 - accuracy: 0.71 - ETA: 6s - loss: 0.5376 - accuracy: 0.72 - ETA: 6s - loss: 0.5358 - accuracy: 0.72 - ETA: 5s - loss: 0.5313 - accuracy: 0.73 - ETA: 5s - loss: 0.5307 - accuracy: 0.73 - ETA: 5s - loss: 0.5258 - accuracy: 0.74 - ETA: 5s - loss: 0.5215 - accuracy: 0.74 - ETA: 5s - loss: 0.5216 - accuracy: 0.75 - ETA: 5s - loss: 0.5189 - accuracy: 0.75 - ETA: 5s - loss: 0.5158 - accuracy: 0.75 - ETA: 5s - loss: 0.5134 - accuracy: 0.76 - ETA: 5s - loss: 0.5122 - accuracy: 0.76 - ETA: 4s - loss: 0.5087 - accuracy: 0.76 - ETA: 4s - loss: 0.5060 - accuracy: 0.76 - ETA: 4s - loss: 0.5025 - accuracy: 0.77 - ETA: 4s - loss: 0.5025 - accuracy: 0.77 - ETA: 4s - loss: 0.4992 - accuracy: 0.77 - ETA: 4s - loss: 0.4984 - accuracy: 0.77 - ETA: 4s - loss: 0.4959 - accuracy: 0.77 - ETA: 4s - loss: 0.4937 - accuracy: 0.77 - ETA: 4s - loss: 0.4925 - accuracy: 0.78 - ETA: 4s - loss: 0.4904 - accuracy: 0.78 - ETA: 3s - loss: 0.4884 - accuracy: 0.78 - ETA: 3s - loss: 0.4872 - accuracy: 0.78 - ETA: 3s - loss: 0.4857 - accuracy: 0.78 - ETA: 3s - loss: 0.4824 - accuracy: 0.78 - ETA: 3s - loss: 0.4824 - accuracy: 0.78 - ETA: 3s - loss: 0.4803 - accuracy: 0.78 - ETA: 3s - loss: 0.4792 - accuracy: 0.78 - ETA: 3s - loss: 0.4791 - accuracy: 0.78 - ETA: 3s - loss: 0.4773 - accuracy: 0.79 - ETA: 3s - loss: 0.4764 - accuracy: 0.79 - ETA: 3s - loss: 0.4755 - accuracy: 0.79 - ETA: 3s - loss: 0.4747 - accuracy: 0.79 - ETA: 3s - loss: 0.4742 - accuracy: 0.79 - ETA: 3s - loss: 0.4730 - accuracy: 0.79 - ETA: 3s - loss: 0.4725 - accuracy: 0.79 - ETA: 3s - loss: 0.4712 - accuracy: 0.79 - ETA: 3s - loss: 0.4699 - accuracy: 0.79 - ETA: 2s - loss: 0.4689 - accuracy: 0.79 - ETA: 2s - loss: 0.4683 - accuracy: 0.79 - ETA: 2s - loss: 0.4675 - accuracy: 0.79 - ETA: 2s - loss: 0.4671 - accuracy: 0.79 - ETA: 2s - loss: 0.4656 - accuracy: 0.79 - ETA: 2s - loss: 0.4644 - accuracy: 0.79 - ETA: 2s - loss: 0.4638 - accuracy: 0.79 - ETA: 2s - loss: 0.4631 - accuracy: 0.79 - ETA: 2s - loss: 0.4625 - accuracy: 0.79 - ETA: 2s - loss: 0.4622 - accuracy: 0.79 - ETA: 2s - loss: 0.4618 - accuracy: 0.79 - ETA: 2s - loss: 0.4606 - accuracy: 0.79 - ETA: 2s - loss: 0.4602 - accuracy: 0.79 - ETA: 2s - loss: 0.4588 - accuracy: 0.80 - ETA: 2s - loss: 0.4586 - accuracy: 0.80 - ETA: 2s - loss: 0.4573 - accuracy: 0.80 - ETA: 1s - loss: 0.4569 - accuracy: 0.80 - ETA: 1s - loss: 0.4561 - accuracy: 0.80 - ETA: 1s - loss: 0.4549 - accuracy: 0.80 - ETA: 1s - loss: 0.4536 - accuracy: 0.80 - ETA: 1s - loss: 0.4535 - accuracy: 0.80 - ETA: 1s - loss: 0.4533 - accuracy: 0.80 - ETA: 1s - loss: 0.4522 - accuracy: 0.80 - ETA: 1s - loss: 0.4521 - accuracy: 0.80 - ETA: 1s - loss: 0.4516 - accuracy: 0.80 - ETA: 1s - loss: 0.4509 - accuracy: 0.80 - ETA: 1s - loss: 0.4500 - accuracy: 0.80 - ETA: 1s - loss: 0.4493 - accuracy: 0.80 - ETA: 0s - loss: 0.4491 - accuracy: 0.80 - ETA: 0s - loss: 0.4482 - accuracy: 0.80 - ETA: 0s - loss: 0.4480 - accuracy: 0.80 - ETA: 0s - loss: 0.4475 - accuracy: 0.80 - ETA: 0s - loss: 0.4464 - accuracy: 0.80 - ETA: 0s - loss: 0.4457 - accuracy: 0.80 - ETA: 0s - loss: 0.4451 - accuracy: 0.80 - ETA: 0s - loss: 0.4443 - accuracy: 0.80 - ETA: 0s - loss: 0.4441 - accuracy: 0.80 - ETA: 0s - loss: 0.4434 - accuracy: 0.80 - ETA: 0s - loss: 0.4422 - accuracy: 0.80 - ETA: 0s - loss: 0.4415 - accuracy: 0.80 - ETA: 0s - loss: 0.4409 - accuracy: 0.80 - 7s 14ms/step - loss: 0.4410 - accuracy: 0.8088 - val_loss: 0.5099 - val_accuracy: 0.7681\n"
     ]
    },
    {
     "data": {
      "text/html": [
       "<span style=\"color:#4527A0\"><h1 style=\"font-size:18px\">Trial complete</h1></span>"
      ],
      "text/plain": [
       "<IPython.core.display.HTML object>"
      ]
     },
     "metadata": {},
     "output_type": "display_data"
    },
    {
     "data": {
      "text/html": [
       "<span style=\"color:#4527A0\"><h1 style=\"font-size:18px\">Trial summary</h1></span>"
      ],
      "text/plain": [
       "<IPython.core.display.HTML object>"
      ]
     },
     "metadata": {},
     "output_type": "display_data"
    },
    {
     "data": {
      "text/html": [
       "<span style=\"color:cyan\"> |-Trial ID: fe16ea4c0e79fa3fcb1a24d97795ca26</span>"
      ],
      "text/plain": [
       "<IPython.core.display.HTML object>"
      ]
     },
     "metadata": {},
     "output_type": "display_data"
    },
    {
     "data": {
      "text/html": [
       "<span style=\"color:cyan\"> |-Score: 0.7681249976158142</span>"
      ],
      "text/plain": [
       "<IPython.core.display.HTML object>"
      ]
     },
     "metadata": {},
     "output_type": "display_data"
    },
    {
     "data": {
      "text/html": [
       "<span style=\"color:cyan\"> |-Best step: 0</span>"
      ],
      "text/plain": [
       "<IPython.core.display.HTML object>"
      ]
     },
     "metadata": {},
     "output_type": "display_data"
    },
    {
     "data": {
      "text/html": [
       "<span style=\"color:#7E57C2\"><h2 style=\"font-size:16px\">Hyperparameters:</h2></span>"
      ],
      "text/plain": [
       "<IPython.core.display.HTML object>"
      ]
     },
     "metadata": {},
     "output_type": "display_data"
    },
    {
     "data": {
      "text/html": [
       "<span style=\"color:cyan\"> |-dnn_decay_factor: 0.3</span>"
      ],
      "text/plain": [
       "<IPython.core.display.HTML object>"
      ]
     },
     "metadata": {},
     "output_type": "display_data"
    },
    {
     "data": {
      "text/html": [
       "<span style=\"color:blue\"> |-first_dnn_layer_size: 32</span>"
      ],
      "text/plain": [
       "<IPython.core.display.HTML object>"
      ]
     },
     "metadata": {},
     "output_type": "display_data"
    },
    {
     "data": {
      "text/html": [
       "<span style=\"color:cyan\"> |-learning_rate: 0.01</span>"
      ],
      "text/plain": [
       "<IPython.core.display.HTML object>"
      ]
     },
     "metadata": {},
     "output_type": "display_data"
    },
    {
     "data": {
      "text/html": [
       "<span style=\"color:blue\"> |-num_dnn_layers: 3</span>"
      ],
      "text/plain": [
       "<IPython.core.display.HTML object>"
      ]
     },
     "metadata": {},
     "output_type": "display_data"
    },
    {
     "name": "stdout",
     "output_type": "stream",
     "text": [
      "INFO:tensorflow:Oracle triggered exit\n"
     ]
    },
    {
     "name": "stderr",
     "output_type": "stream",
     "text": [
      "INFO:absl:Finished tuning... Tuner ID: tuner0\n"
     ]
    },
    {
     "data": {
      "text/html": [
       "<span style=\"color:#4527A0\"><h1 style=\"font-size:18px\">Results summary</h1></span>"
      ],
      "text/plain": [
       "<IPython.core.display.HTML object>"
      ]
     },
     "metadata": {},
     "output_type": "display_data"
    },
    {
     "data": {
      "text/html": [
       "<span style=\"color:cyan\"> |-Results in /home/jupyter/tfx/pipelines/titanic_local/.temp/27/titanic_tuning</span>"
      ],
      "text/plain": [
       "<IPython.core.display.HTML object>"
      ]
     },
     "metadata": {},
     "output_type": "display_data"
    },
    {
     "data": {
      "text/html": [
       "<span style=\"color:cyan\"> |-Showing 10 best trials</span>"
      ],
      "text/plain": [
       "<IPython.core.display.HTML object>"
      ]
     },
     "metadata": {},
     "output_type": "display_data"
    },
    {
     "data": {
      "text/html": [
       "<span style=\"color:cyan\"> |-Objective(name='val_accuracy', direction='max')</span>"
      ],
      "text/plain": [
       "<IPython.core.display.HTML object>"
      ]
     },
     "metadata": {},
     "output_type": "display_data"
    },
    {
     "data": {
      "text/html": [
       "<span style=\"color:#4527A0\"><h1 style=\"font-size:18px\">Trial summary</h1></span>"
      ],
      "text/plain": [
       "<IPython.core.display.HTML object>"
      ]
     },
     "metadata": {},
     "output_type": "display_data"
    },
    {
     "data": {
      "text/html": [
       "<span style=\"color:cyan\"> |-Trial ID: c4a56cb30166acb1c672a80e6bec0415</span>"
      ],
      "text/plain": [
       "<IPython.core.display.HTML object>"
      ]
     },
     "metadata": {},
     "output_type": "display_data"
    },
    {
     "data": {
      "text/html": [
       "<span style=\"color:cyan\"> |-Score: 0.7923437356948853</span>"
      ],
      "text/plain": [
       "<IPython.core.display.HTML object>"
      ]
     },
     "metadata": {},
     "output_type": "display_data"
    },
    {
     "data": {
      "text/html": [
       "<span style=\"color:cyan\"> |-Best step: 0</span>"
      ],
      "text/plain": [
       "<IPython.core.display.HTML object>"
      ]
     },
     "metadata": {},
     "output_type": "display_data"
    },
    {
     "data": {
      "text/html": [
       "<span style=\"color:#7E57C2\"><h2 style=\"font-size:16px\">Hyperparameters:</h2></span>"
      ],
      "text/plain": [
       "<IPython.core.display.HTML object>"
      ]
     },
     "metadata": {},
     "output_type": "display_data"
    },
    {
     "data": {
      "text/html": [
       "<span style=\"color:cyan\"> |-dnn_decay_factor: 0.7</span>"
      ],
      "text/plain": [
       "<IPython.core.display.HTML object>"
      ]
     },
     "metadata": {},
     "output_type": "display_data"
    },
    {
     "data": {
      "text/html": [
       "<span style=\"color:blue\"> |-first_dnn_layer_size: 64</span>"
      ],
      "text/plain": [
       "<IPython.core.display.HTML object>"
      ]
     },
     "metadata": {},
     "output_type": "display_data"
    },
    {
     "data": {
      "text/html": [
       "<span style=\"color:cyan\"> |-learning_rate: 0.001</span>"
      ],
      "text/plain": [
       "<IPython.core.display.HTML object>"
      ]
     },
     "metadata": {},
     "output_type": "display_data"
    },
    {
     "data": {
      "text/html": [
       "<span style=\"color:blue\"> |-num_dnn_layers: 1</span>"
      ],
      "text/plain": [
       "<IPython.core.display.HTML object>"
      ]
     },
     "metadata": {},
     "output_type": "display_data"
    },
    {
     "data": {
      "text/html": [
       "<span style=\"color:#4527A0\"><h1 style=\"font-size:18px\">Trial summary</h1></span>"
      ],
      "text/plain": [
       "<IPython.core.display.HTML object>"
      ]
     },
     "metadata": {},
     "output_type": "display_data"
    },
    {
     "data": {
      "text/html": [
       "<span style=\"color:cyan\"> |-Trial ID: 492b60bb734ccfbea958050348f717de</span>"
      ],
      "text/plain": [
       "<IPython.core.display.HTML object>"
      ]
     },
     "metadata": {},
     "output_type": "display_data"
    },
    {
     "data": {
      "text/html": [
       "<span style=\"color:cyan\"> |-Score: 0.7860937714576721</span>"
      ],
      "text/plain": [
       "<IPython.core.display.HTML object>"
      ]
     },
     "metadata": {},
     "output_type": "display_data"
    },
    {
     "data": {
      "text/html": [
       "<span style=\"color:cyan\"> |-Best step: 0</span>"
      ],
      "text/plain": [
       "<IPython.core.display.HTML object>"
      ]
     },
     "metadata": {},
     "output_type": "display_data"
    },
    {
     "data": {
      "text/html": [
       "<span style=\"color:#7E57C2\"><h2 style=\"font-size:16px\">Hyperparameters:</h2></span>"
      ],
      "text/plain": [
       "<IPython.core.display.HTML object>"
      ]
     },
     "metadata": {},
     "output_type": "display_data"
    },
    {
     "data": {
      "text/html": [
       "<span style=\"color:cyan\"> |-dnn_decay_factor: 0.4</span>"
      ],
      "text/plain": [
       "<IPython.core.display.HTML object>"
      ]
     },
     "metadata": {},
     "output_type": "display_data"
    },
    {
     "data": {
      "text/html": [
       "<span style=\"color:blue\"> |-first_dnn_layer_size: 96</span>"
      ],
      "text/plain": [
       "<IPython.core.display.HTML object>"
      ]
     },
     "metadata": {},
     "output_type": "display_data"
    },
    {
     "data": {
      "text/html": [
       "<span style=\"color:cyan\"> |-learning_rate: 0.01</span>"
      ],
      "text/plain": [
       "<IPython.core.display.HTML object>"
      ]
     },
     "metadata": {},
     "output_type": "display_data"
    },
    {
     "data": {
      "text/html": [
       "<span style=\"color:blue\"> |-num_dnn_layers: 1</span>"
      ],
      "text/plain": [
       "<IPython.core.display.HTML object>"
      ]
     },
     "metadata": {},
     "output_type": "display_data"
    },
    {
     "data": {
      "text/html": [
       "<span style=\"color:#4527A0\"><h1 style=\"font-size:18px\">Trial summary</h1></span>"
      ],
      "text/plain": [
       "<IPython.core.display.HTML object>"
      ]
     },
     "metadata": {},
     "output_type": "display_data"
    },
    {
     "data": {
      "text/html": [
       "<span style=\"color:cyan\"> |-Trial ID: 71902ff3cb43fb0d2a5df26d5b5db778</span>"
      ],
      "text/plain": [
       "<IPython.core.display.HTML object>"
      ]
     },
     "metadata": {},
     "output_type": "display_data"
    },
    {
     "data": {
      "text/html": [
       "<span style=\"color:cyan\"> |-Score: 0.7806249856948853</span>"
      ],
      "text/plain": [
       "<IPython.core.display.HTML object>"
      ]
     },
     "metadata": {},
     "output_type": "display_data"
    },
    {
     "data": {
      "text/html": [
       "<span style=\"color:cyan\"> |-Best step: 0</span>"
      ],
      "text/plain": [
       "<IPython.core.display.HTML object>"
      ]
     },
     "metadata": {},
     "output_type": "display_data"
    },
    {
     "data": {
      "text/html": [
       "<span style=\"color:#7E57C2\"><h2 style=\"font-size:16px\">Hyperparameters:</h2></span>"
      ],
      "text/plain": [
       "<IPython.core.display.HTML object>"
      ]
     },
     "metadata": {},
     "output_type": "display_data"
    },
    {
     "data": {
      "text/html": [
       "<span style=\"color:cyan\"> |-dnn_decay_factor: 0.7</span>"
      ],
      "text/plain": [
       "<IPython.core.display.HTML object>"
      ]
     },
     "metadata": {},
     "output_type": "display_data"
    },
    {
     "data": {
      "text/html": [
       "<span style=\"color:blue\"> |-first_dnn_layer_size: 96</span>"
      ],
      "text/plain": [
       "<IPython.core.display.HTML object>"
      ]
     },
     "metadata": {},
     "output_type": "display_data"
    },
    {
     "data": {
      "text/html": [
       "<span style=\"color:cyan\"> |-learning_rate: 0.001</span>"
      ],
      "text/plain": [
       "<IPython.core.display.HTML object>"
      ]
     },
     "metadata": {},
     "output_type": "display_data"
    },
    {
     "data": {
      "text/html": [
       "<span style=\"color:blue\"> |-num_dnn_layers: 3</span>"
      ],
      "text/plain": [
       "<IPython.core.display.HTML object>"
      ]
     },
     "metadata": {},
     "output_type": "display_data"
    },
    {
     "data": {
      "text/html": [
       "<span style=\"color:#4527A0\"><h1 style=\"font-size:18px\">Trial summary</h1></span>"
      ],
      "text/plain": [
       "<IPython.core.display.HTML object>"
      ]
     },
     "metadata": {},
     "output_type": "display_data"
    },
    {
     "data": {
      "text/html": [
       "<span style=\"color:cyan\"> |-Trial ID: 5b2937f60dd3383193829e2cf518dd04</span>"
      ],
      "text/plain": [
       "<IPython.core.display.HTML object>"
      ]
     },
     "metadata": {},
     "output_type": "display_data"
    },
    {
     "data": {
      "text/html": [
       "<span style=\"color:cyan\"> |-Score: 0.7798437476158142</span>"
      ],
      "text/plain": [
       "<IPython.core.display.HTML object>"
      ]
     },
     "metadata": {},
     "output_type": "display_data"
    },
    {
     "data": {
      "text/html": [
       "<span style=\"color:cyan\"> |-Best step: 0</span>"
      ],
      "text/plain": [
       "<IPython.core.display.HTML object>"
      ]
     },
     "metadata": {},
     "output_type": "display_data"
    },
    {
     "data": {
      "text/html": [
       "<span style=\"color:#7E57C2\"><h2 style=\"font-size:16px\">Hyperparameters:</h2></span>"
      ],
      "text/plain": [
       "<IPython.core.display.HTML object>"
      ]
     },
     "metadata": {},
     "output_type": "display_data"
    },
    {
     "data": {
      "text/html": [
       "<span style=\"color:cyan\"> |-dnn_decay_factor: 0.7</span>"
      ],
      "text/plain": [
       "<IPython.core.display.HTML object>"
      ]
     },
     "metadata": {},
     "output_type": "display_data"
    },
    {
     "data": {
      "text/html": [
       "<span style=\"color:blue\"> |-first_dnn_layer_size: 64</span>"
      ],
      "text/plain": [
       "<IPython.core.display.HTML object>"
      ]
     },
     "metadata": {},
     "output_type": "display_data"
    },
    {
     "data": {
      "text/html": [
       "<span style=\"color:cyan\"> |-learning_rate: 0.01</span>"
      ],
      "text/plain": [
       "<IPython.core.display.HTML object>"
      ]
     },
     "metadata": {},
     "output_type": "display_data"
    },
    {
     "data": {
      "text/html": [
       "<span style=\"color:blue\"> |-num_dnn_layers: 1</span>"
      ],
      "text/plain": [
       "<IPython.core.display.HTML object>"
      ]
     },
     "metadata": {},
     "output_type": "display_data"
    },
    {
     "data": {
      "text/html": [
       "<span style=\"color:#4527A0\"><h1 style=\"font-size:18px\">Trial summary</h1></span>"
      ],
      "text/plain": [
       "<IPython.core.display.HTML object>"
      ]
     },
     "metadata": {},
     "output_type": "display_data"
    },
    {
     "data": {
      "text/html": [
       "<span style=\"color:cyan\"> |-Trial ID: a65b1672a0a9c14881257424ec4d0410</span>"
      ],
      "text/plain": [
       "<IPython.core.display.HTML object>"
      ]
     },
     "metadata": {},
     "output_type": "display_data"
    },
    {
     "data": {
      "text/html": [
       "<span style=\"color:cyan\"> |-Score: 0.7796875238418579</span>"
      ],
      "text/plain": [
       "<IPython.core.display.HTML object>"
      ]
     },
     "metadata": {},
     "output_type": "display_data"
    },
    {
     "data": {
      "text/html": [
       "<span style=\"color:cyan\"> |-Best step: 0</span>"
      ],
      "text/plain": [
       "<IPython.core.display.HTML object>"
      ]
     },
     "metadata": {},
     "output_type": "display_data"
    },
    {
     "data": {
      "text/html": [
       "<span style=\"color:#7E57C2\"><h2 style=\"font-size:16px\">Hyperparameters:</h2></span>"
      ],
      "text/plain": [
       "<IPython.core.display.HTML object>"
      ]
     },
     "metadata": {},
     "output_type": "display_data"
    },
    {
     "data": {
      "text/html": [
       "<span style=\"color:cyan\"> |-dnn_decay_factor: 0.6</span>"
      ],
      "text/plain": [
       "<IPython.core.display.HTML object>"
      ]
     },
     "metadata": {},
     "output_type": "display_data"
    },
    {
     "data": {
      "text/html": [
       "<span style=\"color:blue\"> |-first_dnn_layer_size: 64</span>"
      ],
      "text/plain": [
       "<IPython.core.display.HTML object>"
      ]
     },
     "metadata": {},
     "output_type": "display_data"
    },
    {
     "data": {
      "text/html": [
       "<span style=\"color:cyan\"> |-learning_rate: 0.003</span>"
      ],
      "text/plain": [
       "<IPython.core.display.HTML object>"
      ]
     },
     "metadata": {},
     "output_type": "display_data"
    },
    {
     "data": {
      "text/html": [
       "<span style=\"color:blue\"> |-num_dnn_layers: 1</span>"
      ],
      "text/plain": [
       "<IPython.core.display.HTML object>"
      ]
     },
     "metadata": {},
     "output_type": "display_data"
    },
    {
     "data": {
      "text/html": [
       "<span style=\"color:#4527A0\"><h1 style=\"font-size:18px\">Trial summary</h1></span>"
      ],
      "text/plain": [
       "<IPython.core.display.HTML object>"
      ]
     },
     "metadata": {},
     "output_type": "display_data"
    },
    {
     "data": {
      "text/html": [
       "<span style=\"color:cyan\"> |-Trial ID: dee6f8b0bc3b9eb1e466438f7ac20294</span>"
      ],
      "text/plain": [
       "<IPython.core.display.HTML object>"
      ]
     },
     "metadata": {},
     "output_type": "display_data"
    },
    {
     "data": {
      "text/html": [
       "<span style=\"color:cyan\"> |-Score: 0.7734375</span>"
      ],
      "text/plain": [
       "<IPython.core.display.HTML object>"
      ]
     },
     "metadata": {},
     "output_type": "display_data"
    },
    {
     "data": {
      "text/html": [
       "<span style=\"color:cyan\"> |-Best step: 0</span>"
      ],
      "text/plain": [
       "<IPython.core.display.HTML object>"
      ]
     },
     "metadata": {},
     "output_type": "display_data"
    },
    {
     "data": {
      "text/html": [
       "<span style=\"color:#7E57C2\"><h2 style=\"font-size:16px\">Hyperparameters:</h2></span>"
      ],
      "text/plain": [
       "<IPython.core.display.HTML object>"
      ]
     },
     "metadata": {},
     "output_type": "display_data"
    },
    {
     "data": {
      "text/html": [
       "<span style=\"color:cyan\"> |-dnn_decay_factor: 0.5</span>"
      ],
      "text/plain": [
       "<IPython.core.display.HTML object>"
      ]
     },
     "metadata": {},
     "output_type": "display_data"
    },
    {
     "data": {
      "text/html": [
       "<span style=\"color:blue\"> |-first_dnn_layer_size: 128</span>"
      ],
      "text/plain": [
       "<IPython.core.display.HTML object>"
      ]
     },
     "metadata": {},
     "output_type": "display_data"
    },
    {
     "data": {
      "text/html": [
       "<span style=\"color:cyan\"> |-learning_rate: 0.003</span>"
      ],
      "text/plain": [
       "<IPython.core.display.HTML object>"
      ]
     },
     "metadata": {},
     "output_type": "display_data"
    },
    {
     "data": {
      "text/html": [
       "<span style=\"color:blue\"> |-num_dnn_layers: 2</span>"
      ],
      "text/plain": [
       "<IPython.core.display.HTML object>"
      ]
     },
     "metadata": {},
     "output_type": "display_data"
    },
    {
     "data": {
      "text/html": [
       "<span style=\"color:#4527A0\"><h1 style=\"font-size:18px\">Trial summary</h1></span>"
      ],
      "text/plain": [
       "<IPython.core.display.HTML object>"
      ]
     },
     "metadata": {},
     "output_type": "display_data"
    },
    {
     "data": {
      "text/html": [
       "<span style=\"color:cyan\"> |-Trial ID: 3aeb339787dbc53fc2f7fddd428f79b9</span>"
      ],
      "text/plain": [
       "<IPython.core.display.HTML object>"
      ]
     },
     "metadata": {},
     "output_type": "display_data"
    },
    {
     "data": {
      "text/html": [
       "<span style=\"color:cyan\"> |-Score: 0.7729687690734863</span>"
      ],
      "text/plain": [
       "<IPython.core.display.HTML object>"
      ]
     },
     "metadata": {},
     "output_type": "display_data"
    },
    {
     "data": {
      "text/html": [
       "<span style=\"color:cyan\"> |-Best step: 0</span>"
      ],
      "text/plain": [
       "<IPython.core.display.HTML object>"
      ]
     },
     "metadata": {},
     "output_type": "display_data"
    },
    {
     "data": {
      "text/html": [
       "<span style=\"color:#7E57C2\"><h2 style=\"font-size:16px\">Hyperparameters:</h2></span>"
      ],
      "text/plain": [
       "<IPython.core.display.HTML object>"
      ]
     },
     "metadata": {},
     "output_type": "display_data"
    },
    {
     "data": {
      "text/html": [
       "<span style=\"color:cyan\"> |-dnn_decay_factor: 0.4</span>"
      ],
      "text/plain": [
       "<IPython.core.display.HTML object>"
      ]
     },
     "metadata": {},
     "output_type": "display_data"
    },
    {
     "data": {
      "text/html": [
       "<span style=\"color:blue\"> |-first_dnn_layer_size: 128</span>"
      ],
      "text/plain": [
       "<IPython.core.display.HTML object>"
      ]
     },
     "metadata": {},
     "output_type": "display_data"
    },
    {
     "data": {
      "text/html": [
       "<span style=\"color:cyan\"> |-learning_rate: 0.001</span>"
      ],
      "text/plain": [
       "<IPython.core.display.HTML object>"
      ]
     },
     "metadata": {},
     "output_type": "display_data"
    },
    {
     "data": {
      "text/html": [
       "<span style=\"color:blue\"> |-num_dnn_layers: 3</span>"
      ],
      "text/plain": [
       "<IPython.core.display.HTML object>"
      ]
     },
     "metadata": {},
     "output_type": "display_data"
    },
    {
     "data": {
      "text/html": [
       "<span style=\"color:#4527A0\"><h1 style=\"font-size:18px\">Trial summary</h1></span>"
      ],
      "text/plain": [
       "<IPython.core.display.HTML object>"
      ]
     },
     "metadata": {},
     "output_type": "display_data"
    },
    {
     "data": {
      "text/html": [
       "<span style=\"color:cyan\"> |-Trial ID: fe16ea4c0e79fa3fcb1a24d97795ca26</span>"
      ],
      "text/plain": [
       "<IPython.core.display.HTML object>"
      ]
     },
     "metadata": {},
     "output_type": "display_data"
    },
    {
     "data": {
      "text/html": [
       "<span style=\"color:cyan\"> |-Score: 0.7681249976158142</span>"
      ],
      "text/plain": [
       "<IPython.core.display.HTML object>"
      ]
     },
     "metadata": {},
     "output_type": "display_data"
    },
    {
     "data": {
      "text/html": [
       "<span style=\"color:cyan\"> |-Best step: 0</span>"
      ],
      "text/plain": [
       "<IPython.core.display.HTML object>"
      ]
     },
     "metadata": {},
     "output_type": "display_data"
    },
    {
     "data": {
      "text/html": [
       "<span style=\"color:#7E57C2\"><h2 style=\"font-size:16px\">Hyperparameters:</h2></span>"
      ],
      "text/plain": [
       "<IPython.core.display.HTML object>"
      ]
     },
     "metadata": {},
     "output_type": "display_data"
    },
    {
     "data": {
      "text/html": [
       "<span style=\"color:cyan\"> |-dnn_decay_factor: 0.3</span>"
      ],
      "text/plain": [
       "<IPython.core.display.HTML object>"
      ]
     },
     "metadata": {},
     "output_type": "display_data"
    },
    {
     "data": {
      "text/html": [
       "<span style=\"color:blue\"> |-first_dnn_layer_size: 32</span>"
      ],
      "text/plain": [
       "<IPython.core.display.HTML object>"
      ]
     },
     "metadata": {},
     "output_type": "display_data"
    },
    {
     "data": {
      "text/html": [
       "<span style=\"color:cyan\"> |-learning_rate: 0.01</span>"
      ],
      "text/plain": [
       "<IPython.core.display.HTML object>"
      ]
     },
     "metadata": {},
     "output_type": "display_data"
    },
    {
     "data": {
      "text/html": [
       "<span style=\"color:blue\"> |-num_dnn_layers: 3</span>"
      ],
      "text/plain": [
       "<IPython.core.display.HTML object>"
      ]
     },
     "metadata": {},
     "output_type": "display_data"
    },
    {
     "data": {
      "text/html": [
       "<span style=\"color:#4527A0\"><h1 style=\"font-size:18px\">Trial summary</h1></span>"
      ],
      "text/plain": [
       "<IPython.core.display.HTML object>"
      ]
     },
     "metadata": {},
     "output_type": "display_data"
    },
    {
     "data": {
      "text/html": [
       "<span style=\"color:cyan\"> |-Trial ID: 7f15182a9d4fd437f464609ebef2cc5b</span>"
      ],
      "text/plain": [
       "<IPython.core.display.HTML object>"
      ]
     },
     "metadata": {},
     "output_type": "display_data"
    },
    {
     "data": {
      "text/html": [
       "<span style=\"color:cyan\"> |-Score: 0.7674999833106995</span>"
      ],
      "text/plain": [
       "<IPython.core.display.HTML object>"
      ]
     },
     "metadata": {},
     "output_type": "display_data"
    },
    {
     "data": {
      "text/html": [
       "<span style=\"color:cyan\"> |-Best step: 0</span>"
      ],
      "text/plain": [
       "<IPython.core.display.HTML object>"
      ]
     },
     "metadata": {},
     "output_type": "display_data"
    },
    {
     "data": {
      "text/html": [
       "<span style=\"color:#7E57C2\"><h2 style=\"font-size:16px\">Hyperparameters:</h2></span>"
      ],
      "text/plain": [
       "<IPython.core.display.HTML object>"
      ]
     },
     "metadata": {},
     "output_type": "display_data"
    },
    {
     "data": {
      "text/html": [
       "<span style=\"color:cyan\"> |-dnn_decay_factor: 0.5</span>"
      ],
      "text/plain": [
       "<IPython.core.display.HTML object>"
      ]
     },
     "metadata": {},
     "output_type": "display_data"
    },
    {
     "data": {
      "text/html": [
       "<span style=\"color:blue\"> |-first_dnn_layer_size: 64</span>"
      ],
      "text/plain": [
       "<IPython.core.display.HTML object>"
      ]
     },
     "metadata": {},
     "output_type": "display_data"
    },
    {
     "data": {
      "text/html": [
       "<span style=\"color:cyan\"> |-learning_rate: 0.003</span>"
      ],
      "text/plain": [
       "<IPython.core.display.HTML object>"
      ]
     },
     "metadata": {},
     "output_type": "display_data"
    },
    {
     "data": {
      "text/html": [
       "<span style=\"color:blue\"> |-num_dnn_layers: 1</span>"
      ],
      "text/plain": [
       "<IPython.core.display.HTML object>"
      ]
     },
     "metadata": {},
     "output_type": "display_data"
    },
    {
     "data": {
      "text/html": [
       "<span style=\"color:#4527A0\"><h1 style=\"font-size:18px\">Trial summary</h1></span>"
      ],
      "text/plain": [
       "<IPython.core.display.HTML object>"
      ]
     },
     "metadata": {},
     "output_type": "display_data"
    },
    {
     "data": {
      "text/html": [
       "<span style=\"color:cyan\"> |-Trial ID: f15e293286c03ec4fe3823e3b4f612c2</span>"
      ],
      "text/plain": [
       "<IPython.core.display.HTML object>"
      ]
     },
     "metadata": {},
     "output_type": "display_data"
    },
    {
     "data": {
      "text/html": [
       "<span style=\"color:cyan\"> |-Score: 0.7548437714576721</span>"
      ],
      "text/plain": [
       "<IPython.core.display.HTML object>"
      ]
     },
     "metadata": {},
     "output_type": "display_data"
    },
    {
     "data": {
      "text/html": [
       "<span style=\"color:cyan\"> |-Best step: 0</span>"
      ],
      "text/plain": [
       "<IPython.core.display.HTML object>"
      ]
     },
     "metadata": {},
     "output_type": "display_data"
    },
    {
     "data": {
      "text/html": [
       "<span style=\"color:#7E57C2\"><h2 style=\"font-size:16px\">Hyperparameters:</h2></span>"
      ],
      "text/plain": [
       "<IPython.core.display.HTML object>"
      ]
     },
     "metadata": {},
     "output_type": "display_data"
    },
    {
     "data": {
      "text/html": [
       "<span style=\"color:cyan\"> |-dnn_decay_factor: 0.4</span>"
      ],
      "text/plain": [
       "<IPython.core.display.HTML object>"
      ]
     },
     "metadata": {},
     "output_type": "display_data"
    },
    {
     "data": {
      "text/html": [
       "<span style=\"color:blue\"> |-first_dnn_layer_size: 128</span>"
      ],
      "text/plain": [
       "<IPython.core.display.HTML object>"
      ]
     },
     "metadata": {},
     "output_type": "display_data"
    },
    {
     "data": {
      "text/html": [
       "<span style=\"color:cyan\"> |-learning_rate: 0.01</span>"
      ],
      "text/plain": [
       "<IPython.core.display.HTML object>"
      ]
     },
     "metadata": {},
     "output_type": "display_data"
    },
    {
     "data": {
      "text/html": [
       "<span style=\"color:blue\"> |-num_dnn_layers: 1</span>"
      ],
      "text/plain": [
       "<IPython.core.display.HTML object>"
      ]
     },
     "metadata": {},
     "output_type": "display_data"
    },
    {
     "name": "stderr",
     "output_type": "stream",
     "text": [
      "INFO:absl:Best HyperParameters: {'space': [{'class_name': 'Choice', 'config': {'name': 'learning_rate', 'default': 0.01, 'values': [0.01, 0.003, 0.001], 'ordered': True}}, {'class_name': 'Choice', 'config': {'name': 'first_dnn_layer_size', 'default': 128, 'values': [128, 96, 64, 32], 'ordered': True}}, {'class_name': 'Choice', 'config': {'name': 'dnn_decay_factor', 'default': 0.5, 'values': [0.3, 0.4, 0.5, 0.6, 0.7], 'ordered': True}}, {'class_name': 'Int', 'config': {'name': 'num_dnn_layers', 'default': 2, 'min_value': 1, 'max_value': 3, 'step': 1, 'sampling': None}}], 'values': {'learning_rate': 0.001, 'first_dnn_layer_size': 64, 'dnn_decay_factor': 0.7, 'num_dnn_layers': 1}}\n",
      "INFO:absl:Best Hyperparameters are written to /home/jupyter/tfx/pipelines/titanic_local/Tuner/best_hyperparameters/27/best_hyperparameters.txt.\n",
      "INFO:absl:Running publisher for Tuner\n",
      "INFO:absl:MetadataStore with DB connection initialized\n",
      "INFO:absl:Component Tuner is finished.\n",
      "INFO:absl:Component Trainer is running.\n",
      "INFO:absl:Running driver for Trainer\n",
      "INFO:absl:MetadataStore with DB connection initialized\n",
      "INFO:absl:Running executor for Trainer\n",
      "INFO:absl:Attempting to infer TFX Python dependency for beam\n",
      "INFO:absl:Copying all content from install dir /opt/conda/lib/python3.7/site-packages/tfx to temp dir /tmp/tmpnojuxe_2/build/tfx\n",
      "INFO:absl:Generating a temp setup file at /tmp/tmpnojuxe_2/build/tfx/setup.py\n",
      "INFO:absl:Creating temporary sdist package, logs available at /tmp/tmpnojuxe_2/build/tfx/setup.log\n",
      "INFO:absl:Added --extra_package=/tmp/tmpnojuxe_2/build/tfx/dist/tfx_ephemeral-0.25.0.tar.gz to beam args\n",
      "INFO:absl:Train on the 'train' split when train_args.splits is not set.\n",
      "INFO:absl:Evaluate on the 'eval' split when eval_args.splits is not set.\n",
      "WARNING:absl:Examples artifact does not have payload_format custom property. Falling back to FORMAT_TF_EXAMPLE\n",
      "WARNING:absl:Examples artifact does not have payload_format custom property. Falling back to FORMAT_TF_EXAMPLE\n",
      "INFO:absl:Training model.\n",
      "INFO:absl:Feature Age_xf has a shape . Setting to DenseTensor.\n",
      "INFO:absl:Feature Embarked_xf has a shape . Setting to DenseTensor.\n",
      "INFO:absl:Feature Fare_xf has a shape . Setting to DenseTensor.\n",
      "INFO:absl:Feature Parch_xf has a shape . Setting to DenseTensor.\n",
      "INFO:absl:Feature Pclass_xf has a shape . Setting to DenseTensor.\n",
      "INFO:absl:Feature Sex_xf has a shape . Setting to DenseTensor.\n",
      "INFO:absl:Feature SibSp_xf has a shape . Setting to DenseTensor.\n",
      "INFO:absl:Feature Survived_xf has a shape . Setting to DenseTensor.\n",
      "INFO:absl:Feature Age_xf has a shape . Setting to DenseTensor.\n",
      "INFO:absl:Feature Embarked_xf has a shape . Setting to DenseTensor.\n",
      "INFO:absl:Feature Fare_xf has a shape . Setting to DenseTensor.\n",
      "INFO:absl:Feature Parch_xf has a shape . Setting to DenseTensor.\n",
      "INFO:absl:Feature Pclass_xf has a shape . Setting to DenseTensor.\n",
      "INFO:absl:Feature Sex_xf has a shape . Setting to DenseTensor.\n",
      "INFO:absl:Feature SibSp_xf has a shape . Setting to DenseTensor.\n",
      "INFO:absl:Feature Survived_xf has a shape . Setting to DenseTensor.\n",
      "INFO:absl:HyperParameters for training: {'space': [{'class_name': 'Choice', 'config': {'name': 'learning_rate', 'default': 0.01, 'values': [0.01, 0.003, 0.001], 'ordered': True}}, {'class_name': 'Choice', 'config': {'name': 'first_dnn_layer_size', 'default': 128, 'values': [128, 96, 64, 32], 'ordered': True}}, {'class_name': 'Choice', 'config': {'name': 'dnn_decay_factor', 'default': 0.5, 'values': [0.3, 0.4, 0.5, 0.6, 0.7], 'ordered': True}}, {'class_name': 'Int', 'config': {'name': 'num_dnn_layers', 'default': 2, 'min_value': 1, 'max_value': 3, 'step': 1, 'sampling': None}}], 'values': {'learning_rate': 0.001, 'first_dnn_layer_size': 64, 'dnn_decay_factor': 0.7, 'num_dnn_layers': 1}}\n"
     ]
    },
    {
     "name": "stdout",
     "output_type": "stream",
     "text": [
      "WARNING:tensorflow:There are non-GPU devices in `tf.distribute.Strategy`, not using nccl allreduce.\n",
      "INFO:tensorflow:Using MirroredStrategy with devices ('/job:localhost/replica:0/task:0/device:CPU:0',)\n"
     ]
    },
    {
     "name": "stderr",
     "output_type": "stream",
     "text": [
      "INFO:absl:Model: \"functional_3\"\n",
      "INFO:absl:__________________________________________________________________________________________________\n",
      "INFO:absl:Layer (type)                    Output Shape         Param #     Connected to                     \n",
      "INFO:absl:==================================================================================================\n",
      "INFO:absl:Age (InputLayer)                [(None,)]            0                                            \n",
      "INFO:absl:__________________________________________________________________________________________________\n",
      "INFO:absl:Embarked (InputLayer)           [(None,)]            0                                            \n",
      "INFO:absl:__________________________________________________________________________________________________\n",
      "INFO:absl:Fare (InputLayer)               [(None,)]            0                                            \n",
      "INFO:absl:__________________________________________________________________________________________________\n",
      "INFO:absl:Parch (InputLayer)              [(None,)]            0                                            \n",
      "INFO:absl:__________________________________________________________________________________________________\n",
      "INFO:absl:Pclass (InputLayer)             [(None,)]            0                                            \n",
      "INFO:absl:__________________________________________________________________________________________________\n",
      "INFO:absl:Sex (InputLayer)                [(None,)]            0                                            \n",
      "INFO:absl:__________________________________________________________________________________________________\n",
      "INFO:absl:SibSp (InputLayer)              [(None,)]            0                                            \n",
      "INFO:absl:__________________________________________________________________________________________________\n",
      "INFO:absl:deep_inputs (DenseFeatures)     (None, 3036)         0           Age[0][0]                        \n",
      "INFO:absl:                                                                 Embarked[0][0]                   \n",
      "INFO:absl:                                                                 Fare[0][0]                       \n",
      "INFO:absl:                                                                 Parch[0][0]                      \n",
      "INFO:absl:                                                                 Pclass[0][0]                     \n",
      "INFO:absl:                                                                 Sex[0][0]                        \n",
      "INFO:absl:                                                                 SibSp[0][0]                      \n",
      "INFO:absl:__________________________________________________________________________________________________\n",
      "INFO:absl:dnn_1 (Dense)                   (None, 64)           194368      deep_inputs[0][0]                \n",
      "INFO:absl:__________________________________________________________________________________________________\n",
      "INFO:absl:wide_inputs (DenseFeatures)     (None, 2)            0           Age[0][0]                        \n",
      "INFO:absl:                                                                 Embarked[0][0]                   \n",
      "INFO:absl:                                                                 Fare[0][0]                       \n",
      "INFO:absl:                                                                 Parch[0][0]                      \n",
      "INFO:absl:                                                                 Pclass[0][0]                     \n",
      "INFO:absl:                                                                 Sex[0][0]                        \n",
      "INFO:absl:                                                                 SibSp[0][0]                      \n",
      "INFO:absl:__________________________________________________________________________________________________\n",
      "INFO:absl:both (Concatenate)              (None, 66)           0           dnn_1[0][0]                      \n",
      "INFO:absl:                                                                 wide_inputs[0][0]                \n",
      "INFO:absl:__________________________________________________________________________________________________\n",
      "INFO:absl:pred (Dense)                    (None, 1)            67          both[0][0]                       \n",
      "INFO:absl:==================================================================================================\n",
      "INFO:absl:Total params: 194,435\n",
      "INFO:absl:Trainable params: 194,435\n",
      "INFO:absl:Non-trainable params: 0\n",
      "INFO:absl:__________________________________________________________________________________________________\n"
     ]
    },
    {
     "name": "stdout",
     "output_type": "stream",
     "text": [
      "Epoch 1/272\n",
      " 2/11 [====>.........................] - ETA: 0s - loss: 0.6861 - accuracy: 0.51 - ETA: 3s - loss: 0.6932 - accuracy: 0.5156WARNING:tensorflow:Callbacks method `on_train_batch_end` is slow compared to the batch time (batch time: 0.0161s vs `on_train_batch_end` time: 0.7507s). Check your callbacks.\n",
      "11/11 [==============================] - ETA: 0s - loss: 0.6801 - accuracy: 0.54 - ETA: 0s - loss: 0.6711 - accuracy: 0.57 - 6s 560ms/step - loss: 0.6711 - accuracy: 0.5781 - val_loss: 0.6523 - val_accuracy: 0.6290\n",
      "Epoch 2/272\n",
      "11/11 [==============================] - ETA: 0s - loss: 0.6265 - accuracy: 0.70 - ETA: 0s - loss: 0.6379 - accuracy: 0.66 - ETA: 0s - loss: 0.6297 - accuracy: 0.69 - 4s 391ms/step - loss: 0.6275 - accuracy: 0.6974 - val_loss: 0.6095 - val_accuracy: 0.7422\n",
      "Epoch 3/272\n",
      "11/11 [==============================] - ETA: 0s - loss: 0.5886 - accuracy: 0.76 - ETA: 0s - loss: 0.5859 - accuracy: 0.78 - ETA: 0s - loss: 0.5872 - accuracy: 0.78 - ETA: 0s - loss: 0.5935 - accuracy: 0.76 - ETA: 0s - loss: 0.5914 - accuracy: 0.75 - 4s 394ms/step - loss: 0.5929 - accuracy: 0.7528 - val_loss: 0.5704 - val_accuracy: 0.7735\n",
      "Epoch 4/272\n",
      "11/11 [==============================] - ETA: 0s - loss: 0.5525 - accuracy: 0.71 - ETA: 0s - loss: 0.5541 - accuracy: 0.75 - ETA: 0s - loss: 0.5541 - accuracy: 0.75 - 5s 420ms/step - loss: 0.5541 - accuracy: 0.7557 - val_loss: 0.5389 - val_accuracy: 0.8051\n",
      "Epoch 5/272\n",
      "11/11 [==============================] - ETA: 0s - loss: 0.5556 - accuracy: 0.75 - ETA: 0s - loss: 0.5178 - accuracy: 0.79 - 4s 325ms/step - loss: 0.5274 - accuracy: 0.7884 - val_loss: 0.5123 - val_accuracy: 0.7988\n",
      "Epoch 6/272\n",
      "11/11 [==============================] - ETA: 0s - loss: 0.5079 - accuracy: 0.76 - ETA: 0s - loss: 0.5081 - accuracy: 0.79 - 4s 378ms/step - loss: 0.5010 - accuracy: 0.7997 - val_loss: 0.4892 - val_accuracy: 0.8051\n",
      "Epoch 7/272\n",
      "11/11 [==============================] - ETA: 0s - loss: 0.5161 - accuracy: 0.78 - ETA: 0s - loss: 0.4769 - accuracy: 0.80 - ETA: 0s - loss: 0.4963 - accuracy: 0.78 - 5s 440ms/step - loss: 0.4963 - accuracy: 0.7869 - val_loss: 0.4735 - val_accuracy: 0.8113\n",
      "Epoch 8/272\n",
      "11/11 [==============================] - ETA: 0s - loss: 0.4826 - accuracy: 0.78 - ETA: 0s - loss: 0.4488 - accuracy: 0.80 - 5s 467ms/step - loss: 0.4595 - accuracy: 0.8040 - val_loss: 0.4603 - val_accuracy: 0.8115\n",
      "Epoch 9/272\n",
      "11/11 [==============================] - ETA: 0s - loss: 0.4110 - accuracy: 0.84 - ETA: 0s - loss: 0.4719 - accuracy: 0.77 - ETA: 0s - loss: 0.4505 - accuracy: 0.78 - ETA: 0s - loss: 0.4480 - accuracy: 0.79 - 3s 283ms/step - loss: 0.4570 - accuracy: 0.7926 - val_loss: 0.4513 - val_accuracy: 0.8176\n",
      "Epoch 10/272\n",
      "11/11 [==============================] - ETA: 0s - loss: 0.4246 - accuracy: 0.82 - ETA: 0s - loss: 0.4599 - accuracy: 0.80 - ETA: 0s - loss: 0.4551 - accuracy: 0.79 - 5s 443ms/step - loss: 0.4623 - accuracy: 0.8026 - val_loss: 0.4483 - val_accuracy: 0.7987\n",
      "Epoch 11/272\n",
      "11/11 [==============================] - ETA: 0s - loss: 0.4374 - accuracy: 0.87 - ETA: 0s - loss: 0.4757 - accuracy: 0.76 - ETA: 0s - loss: 0.4616 - accuracy: 0.78 - ETA: 0s - loss: 0.4445 - accuracy: 0.79 - 5s 477ms/step - loss: 0.4464 - accuracy: 0.7983 - val_loss: 0.4435 - val_accuracy: 0.7925\n",
      "Epoch 12/272\n",
      "11/11 [==============================] - ETA: 0s - loss: 0.4910 - accuracy: 0.75 - ETA: 0s - loss: 0.4593 - accuracy: 0.78 - ETA: 0s - loss: 0.4472 - accuracy: 0.79 - 5s 424ms/step - loss: 0.4513 - accuracy: 0.7955 - val_loss: 0.4381 - val_accuracy: 0.8114\n",
      "Epoch 13/272\n",
      "11/11 [==============================] - ETA: 0s - loss: 0.5440 - accuracy: 0.73 - ETA: 0s - loss: 0.4911 - accuracy: 0.76 - ETA: 0s - loss: 0.4650 - accuracy: 0.78 - ETA: 0s - loss: 0.4641 - accuracy: 0.78 - ETA: 0s - loss: 0.4646 - accuracy: 0.78 - 5s 418ms/step - loss: 0.4601 - accuracy: 0.7869 - val_loss: 0.4361 - val_accuracy: 0.8113\n",
      "Epoch 14/272\n",
      "11/11 [==============================] - ETA: 0s - loss: 0.4999 - accuracy: 0.73 - ETA: 0s - loss: 0.4266 - accuracy: 0.80 - ETA: 0s - loss: 0.4594 - accuracy: 0.78 - ETA: 0s - loss: 0.4676 - accuracy: 0.78 - 4s 375ms/step - loss: 0.4545 - accuracy: 0.7955 - val_loss: 0.4383 - val_accuracy: 0.7987\n",
      "Epoch 15/272\n",
      "11/11 [==============================] - ETA: 0s - loss: 0.4200 - accuracy: 0.81 - ETA: 0s - loss: 0.4404 - accuracy: 0.81 - 4s 360ms/step - loss: 0.4404 - accuracy: 0.8125 - val_loss: 0.4356 - val_accuracy: 0.7989\n",
      "Epoch 16/272\n",
      "11/11 [==============================] - ETA: 0s - loss: 0.3666 - accuracy: 0.84 - ETA: 0s - loss: 0.4113 - accuracy: 0.80 - ETA: 0s - loss: 0.4589 - accuracy: 0.78 - ETA: 0s - loss: 0.4508 - accuracy: 0.79 - 5s 430ms/step - loss: 0.4458 - accuracy: 0.8026 - val_loss: 0.4330 - val_accuracy: 0.8049\n",
      "Epoch 17/272\n",
      "11/11 [==============================] - ETA: 0s - loss: 0.3872 - accuracy: 0.82 - ETA: 0s - loss: 0.4357 - accuracy: 0.79 - ETA: 0s - loss: 0.4441 - accuracy: 0.79 - ETA: 0s - loss: 0.4490 - accuracy: 0.79 - 5s 420ms/step - loss: 0.4490 - accuracy: 0.7983 - val_loss: 0.4322 - val_accuracy: 0.7988\n",
      "Epoch 18/272\n",
      "11/11 [==============================] - ETA: 0s - loss: 0.4202 - accuracy: 0.81 - ETA: 0s - loss: 0.4264 - accuracy: 0.80 - ETA: 0s - loss: 0.4346 - accuracy: 0.80 - ETA: 0s - loss: 0.4442 - accuracy: 0.79 - 5s 452ms/step - loss: 0.4442 - accuracy: 0.7997 - val_loss: 0.4323 - val_accuracy: 0.7925\n",
      "Epoch 19/272\n",
      "11/11 [==============================] - ETA: 0s - loss: 0.5079 - accuracy: 0.73 - ETA: 0s - loss: 0.4404 - accuracy: 0.80 - 4s 362ms/step - loss: 0.4409 - accuracy: 0.8040 - val_loss: 0.4322 - val_accuracy: 0.7986\n",
      "Epoch 20/272\n",
      "11/11 [==============================] - ETA: 0s - loss: 0.3940 - accuracy: 0.79 - ETA: 0s - loss: 0.3984 - accuracy: 0.82 - ETA: 0s - loss: 0.4493 - accuracy: 0.79 - 4s 353ms/step - loss: 0.4387 - accuracy: 0.8097 - val_loss: 0.4289 - val_accuracy: 0.8051\n",
      "Epoch 21/272\n",
      "11/11 [==============================] - ETA: 0s - loss: 0.5055 - accuracy: 0.75 - ETA: 0s - loss: 0.4437 - accuracy: 0.80 - 5s 467ms/step - loss: 0.4384 - accuracy: 0.8026 - val_loss: 0.4292 - val_accuracy: 0.7924\n",
      "Epoch 22/272\n",
      "11/11 [==============================] - ETA: 0s - loss: 0.4716 - accuracy: 0.73 - ETA: 0s - loss: 0.4349 - accuracy: 0.80 - 4s 374ms/step - loss: 0.4378 - accuracy: 0.8054 - val_loss: 0.4296 - val_accuracy: 0.7924\n",
      "Epoch 23/272\n",
      "11/11 [==============================] - ETA: 0s - loss: 0.4321 - accuracy: 0.79 - ETA: 0s - loss: 0.4580 - accuracy: 0.78 - ETA: 0s - loss: 0.4351 - accuracy: 0.80 - ETA: 0s - loss: 0.4423 - accuracy: 0.79 - 5s 425ms/step - loss: 0.4464 - accuracy: 0.7983 - val_loss: 0.4277 - val_accuracy: 0.7987\n",
      "Epoch 24/272\n",
      "11/11 [==============================] - ETA: 0s - loss: 0.3332 - accuracy: 0.84 - ETA: 0s - loss: 0.4351 - accuracy: 0.80 - 4s 374ms/step - loss: 0.4477 - accuracy: 0.7940 - val_loss: 0.4267 - val_accuracy: 0.8051\n",
      "Epoch 25/272\n",
      "11/11 [==============================] - ETA: 0s - loss: 0.3740 - accuracy: 0.85 - ETA: 0s - loss: 0.3761 - accuracy: 0.84 - ETA: 0s - loss: 0.4097 - accuracy: 0.81 - ETA: 0s - loss: 0.4256 - accuracy: 0.80 - 5s 415ms/step - loss: 0.4311 - accuracy: 0.8068 - val_loss: 0.4274 - val_accuracy: 0.7987\n",
      "Epoch 26/272\n",
      "11/11 [==============================] - ETA: 0s - loss: 0.5354 - accuracy: 0.70 - ETA: 0s - loss: 0.4666 - accuracy: 0.77 - ETA: 0s - loss: 0.4490 - accuracy: 0.78 - ETA: 0s - loss: 0.4331 - accuracy: 0.79 - 4s 376ms/step - loss: 0.4410 - accuracy: 0.7997 - val_loss: 0.4264 - val_accuracy: 0.8050\n",
      "Epoch 27/272\n",
      "11/11 [==============================] - ETA: 0s - loss: 0.3727 - accuracy: 0.84 - ETA: 0s - loss: 0.4287 - accuracy: 0.80 - 4s 372ms/step - loss: 0.4308 - accuracy: 0.8082 - val_loss: 0.4256 - val_accuracy: 0.8050\n",
      "Epoch 28/272\n",
      "11/11 [==============================] - ETA: 0s - loss: 0.4588 - accuracy: 0.84 - ETA: 0s - loss: 0.4510 - accuracy: 0.79 - 4s 342ms/step - loss: 0.4257 - accuracy: 0.8139 - val_loss: 0.4269 - val_accuracy: 0.7926\n",
      "Epoch 29/272\n",
      "11/11 [==============================] - ETA: 0s - loss: 0.6257 - accuracy: 0.70 - ETA: 0s - loss: 0.4636 - accuracy: 0.78 - ETA: 0s - loss: 0.4485 - accuracy: 0.79 - 4s 371ms/step - loss: 0.4484 - accuracy: 0.7955 - val_loss: 0.4247 - val_accuracy: 0.8051\n",
      "Epoch 30/272\n",
      "11/11 [==============================] - ETA: 0s - loss: 0.4447 - accuracy: 0.79 - ETA: 0s - loss: 0.4582 - accuracy: 0.78 - ETA: 0s - loss: 0.4331 - accuracy: 0.80 - 4s 376ms/step - loss: 0.4331 - accuracy: 0.8054 - val_loss: 0.4249 - val_accuracy: 0.8114\n",
      "Epoch 31/272\n",
      "11/11 [==============================] - ETA: 0s - loss: 0.4145 - accuracy: 0.82 - ETA: 0s - loss: 0.4420 - accuracy: 0.80 - ETA: 0s - loss: 0.4454 - accuracy: 0.79 - 5s 424ms/step - loss: 0.4454 - accuracy: 0.7983 - val_loss: 0.4246 - val_accuracy: 0.8113\n",
      "Epoch 32/272\n",
      "11/11 [==============================] - ETA: 0s - loss: 0.4769 - accuracy: 0.76 - ETA: 0s - loss: 0.4360 - accuracy: 0.81 - 4s 384ms/step - loss: 0.4203 - accuracy: 0.8168 - val_loss: 0.4259 - val_accuracy: 0.7987\n",
      "Epoch 33/272\n",
      "11/11 [==============================] - ETA: 0s - loss: 0.4409 - accuracy: 0.75 - ETA: 0s - loss: 0.4136 - accuracy: 0.81 - ETA: 0s - loss: 0.4160 - accuracy: 0.81 - ETA: 0s - loss: 0.4158 - accuracy: 0.81 - 4s 375ms/step - loss: 0.4185 - accuracy: 0.8139 - val_loss: 0.4240 - val_accuracy: 0.8114\n",
      "Epoch 34/272\n",
      "11/11 [==============================] - ETA: 0s - loss: 0.4494 - accuracy: 0.79 - ETA: 0s - loss: 0.4289 - accuracy: 0.80 - 4s 344ms/step - loss: 0.4192 - accuracy: 0.8111 - val_loss: 0.4239 - val_accuracy: 0.8176\n",
      "Epoch 35/272\n",
      "11/11 [==============================] - ETA: 0s - loss: 0.5836 - accuracy: 0.71 - ETA: 0s - loss: 0.4740 - accuracy: 0.77 - 5s 441ms/step - loss: 0.4597 - accuracy: 0.7898 - val_loss: 0.4250 - val_accuracy: 0.8049\n",
      "Epoch 36/272\n",
      "11/11 [==============================] - ETA: 0s - loss: 0.3260 - accuracy: 0.85 - ETA: 0s - loss: 0.4339 - accuracy: 0.81 - ETA: 0s - loss: 0.4243 - accuracy: 0.81 - 4s 400ms/step - loss: 0.4243 - accuracy: 0.8168 - val_loss: 0.4254 - val_accuracy: 0.8049\n",
      "Epoch 37/272\n",
      "11/11 [==============================] - ETA: 0s - loss: 0.4660 - accuracy: 0.81 - ETA: 0s - loss: 0.4459 - accuracy: 0.79 - 4s 334ms/step - loss: 0.4395 - accuracy: 0.7955 - val_loss: 0.4271 - val_accuracy: 0.7986\n",
      "Epoch 38/272\n",
      "11/11 [==============================] - ETA: 0s - loss: 0.4033 - accuracy: 0.85 - ETA: 0s - loss: 0.4116 - accuracy: 0.83 - ETA: 0s - loss: 0.4152 - accuracy: 0.82 - 4s 395ms/step - loss: 0.4126 - accuracy: 0.8295 - val_loss: 0.4243 - val_accuracy: 0.8239\n",
      "Epoch 39/272\n",
      "11/11 [==============================] - ETA: 0s - loss: 0.4936 - accuracy: 0.76 - ETA: 0s - loss: 0.4220 - accuracy: 0.81 - ETA: 0s - loss: 0.4227 - accuracy: 0.81 - 5s 435ms/step - loss: 0.4227 - accuracy: 0.8153 - val_loss: 0.4243 - val_accuracy: 0.8176\n",
      "Epoch 40/272\n",
      "11/11 [==============================] - ETA: 0s - loss: 0.5258 - accuracy: 0.73 - ETA: 0s - loss: 0.4381 - accuracy: 0.80 - 4s 363ms/step - loss: 0.4259 - accuracy: 0.8082 - val_loss: 0.4271 - val_accuracy: 0.7923\n",
      "Epoch 41/272\n",
      "11/11 [==============================] - ETA: 0s - loss: 0.6263 - accuracy: 0.68 - ETA: 0s - loss: 0.4399 - accuracy: 0.79 - ETA: 0s - loss: 0.4364 - accuracy: 0.80 - 4s 400ms/step - loss: 0.4358 - accuracy: 0.7983 - val_loss: 0.4259 - val_accuracy: 0.8051\n",
      "Epoch 42/272\n",
      "11/11 [==============================] - ETA: 0s - loss: 0.5017 - accuracy: 0.78 - ETA: 0s - loss: 0.4296 - accuracy: 0.81 - ETA: 0s - loss: 0.4074 - accuracy: 0.82 - 5s 410ms/step - loss: 0.4013 - accuracy: 0.8295 - val_loss: 0.4252 - val_accuracy: 0.8113\n",
      "Epoch 43/272\n",
      "11/11 [==============================] - ETA: 0s - loss: 0.4205 - accuracy: 0.81 - ETA: 0s - loss: 0.4807 - accuracy: 0.78 - ETA: 0s - loss: 0.4560 - accuracy: 0.79 - 4s 408ms/step - loss: 0.4371 - accuracy: 0.8054 - val_loss: 0.4256 - val_accuracy: 0.8112\n",
      "Epoch 44/272\n",
      "11/11 [==============================] - ETA: 0s - loss: 0.3948 - accuracy: 0.84 - ETA: 0s - loss: 0.4465 - accuracy: 0.80 - 3s 313ms/step - loss: 0.4492 - accuracy: 0.7983 - val_loss: 0.4260 - val_accuracy: 0.8051\n",
      "Epoch 45/272\n",
      "11/11 [==============================] - ETA: 0s - loss: 0.3334 - accuracy: 0.81 - ETA: 0s - loss: 0.3978 - accuracy: 0.81 - ETA: 0s - loss: 0.4107 - accuracy: 0.82 - 5s 475ms/step - loss: 0.4233 - accuracy: 0.8153 - val_loss: 0.4271 - val_accuracy: 0.7987\n",
      "Epoch 46/272\n",
      "11/11 [==============================] - ETA: 0s - loss: 0.3751 - accuracy: 0.82 - ETA: 0s - loss: 0.4178 - accuracy: 0.81 - ETA: 0s - loss: 0.4110 - accuracy: 0.81 - 4s 392ms/step - loss: 0.4076 - accuracy: 0.8196 - val_loss: 0.4269 - val_accuracy: 0.7988\n",
      "Epoch 47/272\n",
      "11/11 [==============================] - ETA: 0s - loss: 0.4236 - accuracy: 0.81 - ETA: 0s - loss: 0.4157 - accuracy: 0.81 - 4s 326ms/step - loss: 0.4276 - accuracy: 0.8139 - val_loss: 0.4265 - val_accuracy: 0.7987\n",
      "Epoch 48/272\n",
      "11/11 [==============================] - ETA: 0s - loss: 0.3046 - accuracy: 0.90 - ETA: 0s - loss: 0.4167 - accuracy: 0.82 - 4s 398ms/step - loss: 0.4296 - accuracy: 0.8168 - val_loss: 0.4267 - val_accuracy: 0.8051\n",
      "Epoch 49/272\n",
      "11/11 [==============================] - ETA: 0s - loss: 0.4771 - accuracy: 0.81 - ETA: 0s - loss: 0.4167 - accuracy: 0.81 - 4s 406ms/step - loss: 0.4046 - accuracy: 0.8253 - val_loss: 0.4279 - val_accuracy: 0.7987\n",
      "INFO:tensorflow:Saver not created because there are no variables in the graph to restore\n",
      "INFO:tensorflow:Assets written to: /home/jupyter/tfx/pipelines/titanic_local/Trainer/model/28/serving_model_dir/assets\n"
     ]
    },
    {
     "name": "stderr",
     "output_type": "stream",
     "text": [
      "INFO:absl:Training complete. Model written to /home/jupyter/tfx/pipelines/titanic_local/Trainer/model/28/serving_model_dir. ModelRun written to /home/jupyter/tfx/pipelines/titanic_local/Trainer/model_run/28\n",
      "INFO:absl:Running publisher for Trainer\n",
      "INFO:absl:MetadataStore with DB connection initialized\n",
      "INFO:absl:Component Trainer is finished.\n",
      "INFO:absl:Component Evaluator is running.\n",
      "INFO:absl:Running driver for Evaluator\n",
      "INFO:absl:MetadataStore with DB connection initialized\n",
      "INFO:absl:Running executor for Evaluator\n",
      "INFO:absl:Attempting to infer TFX Python dependency for beam\n",
      "INFO:absl:Copying all content from install dir /opt/conda/lib/python3.7/site-packages/tfx to temp dir /tmp/tmpq4luil0w/build/tfx\n",
      "INFO:absl:Generating a temp setup file at /tmp/tmpq4luil0w/build/tfx/setup.py\n",
      "INFO:absl:Creating temporary sdist package, logs available at /tmp/tmpq4luil0w/build/tfx/setup.log\n",
      "INFO:absl:Added --extra_package=/tmp/tmpq4luil0w/build/tfx/dist/tfx_ephemeral-0.25.0.tar.gz to beam args\n",
      "WARNING:absl:\"maybe_add_baseline\" and \"maybe_remove_baseline\" are deprecated,\n",
      "        please use \"has_baseline\" instead.\n",
      "INFO:absl:Request was made to ignore the baseline ModelSpec and any change thresholds. This is likely because a baseline model was not provided: updated_config=\n",
      "model_specs {\n",
      "  signature_name: \"serving_default\"\n",
      "  label_key: \"Survived\"\n",
      "}\n",
      "slicing_specs {\n",
      "}\n",
      "slicing_specs {\n",
      "  feature_keys: \"Sex\"\n",
      "}\n",
      "slicing_specs {\n",
      "  feature_keys: \"Age\"\n",
      "}\n",
      "slicing_specs {\n",
      "  feature_keys: \"Age_xf\"\n",
      "}\n",
      "slicing_specs {\n",
      "  feature_keys: \"Fare\"\n",
      "}\n",
      "slicing_specs {\n",
      "  feature_keys: \"Parch\"\n",
      "}\n",
      "slicing_specs {\n",
      "  feature_keys: \"Parch_xf\"\n",
      "}\n",
      "slicing_specs {\n",
      "  feature_keys: \"SibSp\"\n",
      "}\n",
      "slicing_specs {\n",
      "  feature_keys: \"SibSp_xf\"\n",
      "}\n",
      "metrics_specs {\n",
      "  metrics {\n",
      "    class_name: \"ExampleCount\"\n",
      "  }\n",
      "  thresholds {\n",
      "    key: \"accuracy\"\n",
      "    value {\n",
      "      value_threshold {\n",
      "        lower_bound {\n",
      "          value: 0.5\n",
      "        }\n",
      "      }\n",
      "    }\n",
      "  }\n",
      "}\n",
      "\n",
      "INFO:absl:Using /home/jupyter/tfx/pipelines/titanic_local/Trainer/model/28/serving_model_dir as  model.\n"
     ]
    },
    {
     "name": "stdout",
     "output_type": "stream",
     "text": [
      "WARNING:tensorflow:8 out of the last 8 calls to <function recreate_function.<locals>.restored_function_body at 0x7f9709081f80> triggered tf.function retracing. Tracing is expensive and the excessive number of tracings could be due to (1) creating @tf.function repeatedly in a loop, (2) passing tensors with different shapes, (3) passing Python objects instead of tensors. For (1), please define your @tf.function outside of the loop. For (2), @tf.function has experimental_relax_shapes=True option that relaxes argument shapes that can avoid unnecessary retracing. For (3), please refer to https://www.tensorflow.org/tutorials/customization/performance#python_or_tensor_args and https://www.tensorflow.org/api_docs/python/tf/function for  more details.\n"
     ]
    },
    {
     "name": "stderr",
     "output_type": "stream",
     "text": [
      "INFO:absl:The 'example_splits' parameter is not set, using 'eval' split.\n",
      "INFO:absl:Evaluating model.\n"
     ]
    },
    {
     "name": "stdout",
     "output_type": "stream",
     "text": [
      "WARNING:tensorflow:9 out of the last 9 calls to <function recreate_function.<locals>.restored_function_body at 0x7f96989e0d40> triggered tf.function retracing. Tracing is expensive and the excessive number of tracings could be due to (1) creating @tf.function repeatedly in a loop, (2) passing tensors with different shapes, (3) passing Python objects instead of tensors. For (1), please define your @tf.function outside of the loop. For (2), @tf.function has experimental_relax_shapes=True option that relaxes argument shapes that can avoid unnecessary retracing. For (3), please refer to https://www.tensorflow.org/tutorials/customization/performance#python_or_tensor_args and https://www.tensorflow.org/api_docs/python/tf/function for  more details.\n"
     ]
    }
   ],
   "source": [
    "run_pipeline(enable_tuning=True)"
   ]
  },
  {
   "cell_type": "markdown",
   "metadata": {},
   "source": [
    "### Write tfx_utils.py\n",
    "( taken from [https://github.com/tensorflow/tfx/blob/master/tfx/examples/airflow_workshop/notebooks/tfx_utils.py](https://github.com/tensorflow/tfx/blob/master/tfx/examples/airflow_workshop/notebooks/tfx_utils.py)"
   ]
  },
  {
   "cell_type": "code",
   "execution_count": null,
   "metadata": {},
   "outputs": [],
   "source": []
  },
  {
   "cell_type": "markdown",
   "metadata": {},
   "source": [
    "### Write utils.py\n",
    "( taken from [https://github.com/tensorflow/tfx/blob/master/tfx/examples/airflow_workshop/notebooks/utils.py](https://github.com/tensorflow/tfx/blob/master/tfx/examples/airflow_workshop/notebooks/utils.py)"
   ]
  },
  {
   "cell_type": "code",
   "execution_count": null,
   "metadata": {},
   "outputs": [],
   "source": []
  },
  {
   "cell_type": "markdown",
   "metadata": {},
   "source": [
    "### Analyze outputs after pipeline is run"
   ]
  },
  {
   "cell_type": "code",
   "execution_count": null,
   "metadata": {},
   "outputs": [],
   "source": [
    "import os\n",
    "import tfx_utils\n",
    "\n",
    "def get_metadata_store():\n",
    "    return tfx_utils.TFXReadonlyMetadataStore.from_sqlite_db(_metadata_path)\n",
    "\n",
    "store = get_metadata_store()\n",
    "\n",
    "store.get_artifacts_of_type_df(tfx_utils.TFXArtifactTypes.MODEL)\n"
   ]
  },
  {
   "cell_type": "code",
   "execution_count": null,
   "metadata": {},
   "outputs": [],
   "source": [
    "!ls -al {_pipeline_root}/Trainer/model"
   ]
  },
  {
   "cell_type": "code",
   "execution_count": 18,
   "metadata": {},
   "outputs": [
    {
     "name": "stdout",
     "output_type": "stream",
     "text": [
      "total 28\n",
      "drwxr-xr-x 5 jupyter jupyter 4096 Jan  4 21:12 .\n",
      "drwxr-xr-x 3 jupyter jupyter 4096 Jan  4 21:11 ..\n",
      "-rw-r--r-- 1 jupyter jupyter  857 Jan  4 21:12 oracle.json\n",
      "drwxr-xr-x 3 jupyter jupyter 4096 Jan  4 21:12 trial_887b3413f8a9c0e7e43afdb77bb54179\n",
      "drwxr-xr-x 3 jupyter jupyter 4096 Jan  4 21:11 trial_e02d9066eca4a937c325c25f0f97c35d\n",
      "drwxr-xr-x 3 jupyter jupyter 4096 Jan  4 21:12 trial_e1ed5f5ff0148d539ddc3385a3a9b6bc\n",
      "-rw-r--r-- 1 jupyter jupyter    2 Jan  4 21:12 tuner0.json\n"
     ]
    }
   ],
   "source": [
    "!ls -al {_pipeline_root}/.temp/7/titanic_tuning"
   ]
  },
  {
   "cell_type": "code",
   "execution_count": null,
   "metadata": {},
   "outputs": [],
   "source": [
    "!ls -al {_pipeline_root}/Trainer/model/27/eval_model_dir"
   ]
  },
  {
   "cell_type": "code",
   "execution_count": 19,
   "metadata": {},
   "outputs": [
    {
     "name": "stdout",
     "output_type": "stream",
     "text": [
      "tensorboard_logdir: /home/jupyter/tfx/pipelines/titanic_local/.temp\n",
      "The tensorboard extension is already loaded. To reload it, use:\n",
      "  %reload_ext tensorboard\n"
     ]
    },
    {
     "data": {
      "text/plain": [
       "Reusing TensorBoard on port 6006 (pid 9585), started 0:02:28 ago. (Use '!kill 9585' to kill it.)"
      ]
     },
     "metadata": {},
     "output_type": "display_data"
    },
    {
     "data": {
      "text/html": [
       "\n",
       "      <iframe id=\"tensorboard-frame-922b8a63352551bb\" width=\"100%\" height=\"800\" frameborder=\"0\">\n",
       "      </iframe>\n",
       "      <script>\n",
       "        (function() {\n",
       "          const frame = document.getElementById(\"tensorboard-frame-922b8a63352551bb\");\n",
       "          const url = new URL(\"/\", window.location);\n",
       "          const port = 6006;\n",
       "          if (port) {\n",
       "            url.port = port;\n",
       "          }\n",
       "          frame.src = url;\n",
       "        })();\n",
       "      </script>\n",
       "    "
      ],
      "text/plain": [
       "<IPython.core.display.HTML object>"
      ]
     },
     "metadata": {},
     "output_type": "display_data"
    }
   ],
   "source": [
    "#tensorboard_logdir = os.path.join(_pipeline_root, 'Trainer/model_run')\n",
    "tensorboard_logdir = os.path.join(_pipeline_root, '.temp')\n",
    "\n",
    "print('tensorboard_logdir: {}'.format(tensorboard_logdir))\n",
    "os.environ['TENSORBOARD_LOGDIR'] = tensorboard_logdir\n",
    "\n",
    "%load_ext tensorboard\n",
    "%tensorboard --logdir {tensorboard_logdir}"
   ]
  },
  {
   "cell_type": "code",
   "execution_count": null,
   "metadata": {},
   "outputs": [],
   "source": []
  },
  {
   "cell_type": "code",
   "execution_count": null,
   "metadata": {},
   "outputs": [],
   "source": [
    "model_run_dir = trainer.outputs['model_run'].get()[0].uri"
   ]
  }
 ],
 "metadata": {
  "environment": {
   "name": "tf2-gpu.2-3.mnightly-2021-02-12-debian-10-test",
   "type": "gcloud",
   "uri": "gcr.io/deeplearning-platform-release/tf2-gpu.2-3:mnightly-2021-02-12-debian-10-test"
  },
  "kernelspec": {
   "display_name": "Python 3",
   "language": "python",
   "name": "python3"
  },
  "language_info": {
   "codemirror_mode": {
    "name": "ipython",
    "version": 3
   },
   "file_extension": ".py",
   "mimetype": "text/x-python",
   "name": "python",
   "nbconvert_exporter": "python",
   "pygments_lexer": "ipython3",
   "version": "3.7.9"
  }
 },
 "nbformat": 4,
 "nbformat_minor": 4
}
